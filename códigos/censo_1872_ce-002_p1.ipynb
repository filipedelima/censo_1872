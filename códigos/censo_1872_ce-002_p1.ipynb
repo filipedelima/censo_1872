{
 "cells": [
  {
   "cell_type": "code",
   "execution_count": 1,
   "metadata": {},
   "outputs": [],
   "source": [
    "import pandas as pd\n",
    "import numpy as np\n",
    "import matplotlib.pyplot as plt\n",
    "import pathfinder as pf"
   ]
  },
  {
   "cell_type": "code",
   "execution_count": 2,
   "metadata": {},
   "outputs": [],
   "source": [
    "filename = \"censo_1872_ce-002_p1.csv\"\n",
    "path = pf.find_file(filename)\n",
    "df = pd.read_csv(path)"
   ]
  },
  {
   "cell_type": "code",
   "execution_count": 3,
   "metadata": {},
   "outputs": [
    {
     "data": {
      "text/html": [
       "<div>\n",
       "<style scoped>\n",
       "    .dataframe tbody tr th:only-of-type {\n",
       "        vertical-align: middle;\n",
       "    }\n",
       "\n",
       "    .dataframe tbody tr th {\n",
       "        vertical-align: top;\n",
       "    }\n",
       "\n",
       "    .dataframe thead th {\n",
       "        text-align: right;\n",
       "    }\n",
       "</style>\n",
       "<table border=\"1\" class=\"dataframe\">\n",
       "  <thead>\n",
       "    <tr style=\"text-align: right;\">\n",
       "      <th></th>\n",
       "      <th>Unnamed: 0</th>\n",
       "      <th>Unnamed: 1</th>\n",
       "      <th>Unnamed: 2</th>\n",
       "      <th>Unnamed: 3</th>\n",
       "      <th>Unnamed: 4</th>\n",
       "      <th>Unnamed: 5</th>\n",
       "      <th>Unnamed: 6</th>\n",
       "      <th>Unnamed: 7</th>\n",
       "      <th>Unnamed: 8</th>\n",
       "      <th>Unnamed: 9</th>\n",
       "      <th>...</th>\n",
       "      <th>Unnamed: 19</th>\n",
       "      <th>Unnamed: 20</th>\n",
       "      <th>Unnamed: 21</th>\n",
       "      <th>Unnamed: 22</th>\n",
       "      <th>Unnamed: 23</th>\n",
       "      <th>Unnamed: 24</th>\n",
       "      <th>Unnamed: 25</th>\n",
       "      <th>Unnamed: 26</th>\n",
       "      <th>Unnamed: 27</th>\n",
       "      <th>Unnamed: 28</th>\n",
       "    </tr>\n",
       "  </thead>\n",
       "  <tbody>\n",
       "    <tr>\n",
       "      <th>0</th>\n",
       "      <td>NaN</td>\n",
       "      <td>NaN</td>\n",
       "      <td>NaN</td>\n",
       "      <td>Raças</td>\n",
       "      <td>NaN</td>\n",
       "      <td>NaN</td>\n",
       "      <td>NaN</td>\n",
       "      <td>Estados civis</td>\n",
       "      <td>NaN</td>\n",
       "      <td>NaN</td>\n",
       "      <td>...</td>\n",
       "      <td>Defeitos físicos</td>\n",
       "      <td>NaN</td>\n",
       "      <td>NaN</td>\n",
       "      <td>NaN</td>\n",
       "      <td>NaN</td>\n",
       "      <td>NaN</td>\n",
       "      <td>NaN</td>\n",
       "      <td>Casas</td>\n",
       "      <td>NaN</td>\n",
       "      <td>NaN</td>\n",
       "    </tr>\n",
       "    <tr>\n",
       "      <th>1</th>\n",
       "      <td>Condições</td>\n",
       "      <td>Sexos</td>\n",
       "      <td>Almas</td>\n",
       "      <td>Brancos</td>\n",
       "      <td>Pardos</td>\n",
       "      <td>Pretos</td>\n",
       "      <td>Caboclos</td>\n",
       "      <td>Solteiros</td>\n",
       "      <td>Casados</td>\n",
       "      <td>Viúvos</td>\n",
       "      <td>...</td>\n",
       "      <td>Cegos</td>\n",
       "      <td>Surdo-mudos</td>\n",
       "      <td>Aleijados</td>\n",
       "      <td>Dementes</td>\n",
       "      <td>Alienados</td>\n",
       "      <td>Ausentes</td>\n",
       "      <td>Transeuntes</td>\n",
       "      <td>Habitadas</td>\n",
       "      <td>Desabitadas</td>\n",
       "      <td>Fogos</td>\n",
       "    </tr>\n",
       "    <tr>\n",
       "      <th>2</th>\n",
       "      <td>Livres</td>\n",
       "      <td>Homens</td>\n",
       "      <td>10322</td>\n",
       "      <td>4940</td>\n",
       "      <td>4332</td>\n",
       "      <td>436</td>\n",
       "      <td>614</td>\n",
       "      <td>7154</td>\n",
       "      <td>2775</td>\n",
       "      <td>393</td>\n",
       "      <td>...</td>\n",
       "      <td>48</td>\n",
       "      <td>6</td>\n",
       "      <td>158</td>\n",
       "      <td>16</td>\n",
       "      <td>11</td>\n",
       "      <td>41</td>\n",
       "      <td>301</td>\n",
       "      <td>NaN</td>\n",
       "      <td>NaN</td>\n",
       "      <td>NaN</td>\n",
       "    </tr>\n",
       "    <tr>\n",
       "      <th>3</th>\n",
       "      <td>NaN</td>\n",
       "      <td>Mulheres</td>\n",
       "      <td>9867</td>\n",
       "      <td>4364</td>\n",
       "      <td>4601</td>\n",
       "      <td>470</td>\n",
       "      <td>432</td>\n",
       "      <td>6979</td>\n",
       "      <td>2097</td>\n",
       "      <td>791</td>\n",
       "      <td>...</td>\n",
       "      <td>41</td>\n",
       "      <td>9</td>\n",
       "      <td>32</td>\n",
       "      <td>21</td>\n",
       "      <td>9</td>\n",
       "      <td>76</td>\n",
       "      <td>247</td>\n",
       "      <td>NaN</td>\n",
       "      <td>NaN</td>\n",
       "      <td>NaN</td>\n",
       "    </tr>\n",
       "    <tr>\n",
       "      <th>4</th>\n",
       "      <td>NaN</td>\n",
       "      <td>Soma</td>\n",
       "      <td>20189</td>\n",
       "      <td>9304</td>\n",
       "      <td>8933</td>\n",
       "      <td>906</td>\n",
       "      <td>1046</td>\n",
       "      <td>14133</td>\n",
       "      <td>4872</td>\n",
       "      <td>1184</td>\n",
       "      <td>...</td>\n",
       "      <td>89</td>\n",
       "      <td>15</td>\n",
       "      <td>190</td>\n",
       "      <td>37</td>\n",
       "      <td>20</td>\n",
       "      <td>117</td>\n",
       "      <td>548</td>\n",
       "      <td>3359</td>\n",
       "      <td>1025</td>\n",
       "      <td>3403</td>\n",
       "    </tr>\n",
       "    <tr>\n",
       "      <th>5</th>\n",
       "      <td>Escravos</td>\n",
       "      <td>Homens</td>\n",
       "      <td>522</td>\n",
       "      <td>0</td>\n",
       "      <td>326</td>\n",
       "      <td>196</td>\n",
       "      <td>0</td>\n",
       "      <td>502</td>\n",
       "      <td>14</td>\n",
       "      <td>6</td>\n",
       "      <td>...</td>\n",
       "      <td>0</td>\n",
       "      <td>0</td>\n",
       "      <td>2</td>\n",
       "      <td>0</td>\n",
       "      <td>0</td>\n",
       "      <td>0</td>\n",
       "      <td>0</td>\n",
       "      <td>NaN</td>\n",
       "      <td>NaN</td>\n",
       "      <td>NaN</td>\n",
       "    </tr>\n",
       "    <tr>\n",
       "      <th>6</th>\n",
       "      <td>NaN</td>\n",
       "      <td>Mulheres</td>\n",
       "      <td>661</td>\n",
       "      <td>0</td>\n",
       "      <td>365</td>\n",
       "      <td>296</td>\n",
       "      <td>0</td>\n",
       "      <td>638</td>\n",
       "      <td>19</td>\n",
       "      <td>4</td>\n",
       "      <td>...</td>\n",
       "      <td>0</td>\n",
       "      <td>0</td>\n",
       "      <td>2</td>\n",
       "      <td>2</td>\n",
       "      <td>2</td>\n",
       "      <td>0</td>\n",
       "      <td>0</td>\n",
       "      <td>NaN</td>\n",
       "      <td>NaN</td>\n",
       "      <td>NaN</td>\n",
       "    </tr>\n",
       "    <tr>\n",
       "      <th>7</th>\n",
       "      <td>NaN</td>\n",
       "      <td>Soma</td>\n",
       "      <td>1183</td>\n",
       "      <td>0</td>\n",
       "      <td>691</td>\n",
       "      <td>492</td>\n",
       "      <td>0</td>\n",
       "      <td>1140</td>\n",
       "      <td>33</td>\n",
       "      <td>10</td>\n",
       "      <td>...</td>\n",
       "      <td>0</td>\n",
       "      <td>0</td>\n",
       "      <td>4</td>\n",
       "      <td>2</td>\n",
       "      <td>2</td>\n",
       "      <td>0</td>\n",
       "      <td>0</td>\n",
       "      <td>NaN</td>\n",
       "      <td>NaN</td>\n",
       "      <td>NaN</td>\n",
       "    </tr>\n",
       "    <tr>\n",
       "      <th>8</th>\n",
       "      <td>NaN</td>\n",
       "      <td>Soma geral</td>\n",
       "      <td>21372</td>\n",
       "      <td>9304</td>\n",
       "      <td>9624</td>\n",
       "      <td>1398</td>\n",
       "      <td>1046</td>\n",
       "      <td>15273</td>\n",
       "      <td>4905</td>\n",
       "      <td>1194</td>\n",
       "      <td>...</td>\n",
       "      <td>89</td>\n",
       "      <td>15</td>\n",
       "      <td>194</td>\n",
       "      <td>39</td>\n",
       "      <td>22</td>\n",
       "      <td>117</td>\n",
       "      <td>548</td>\n",
       "      <td>3359</td>\n",
       "      <td>1025</td>\n",
       "      <td>3403</td>\n",
       "    </tr>\n",
       "  </tbody>\n",
       "</table>\n",
       "<p>9 rows × 29 columns</p>\n",
       "</div>"
      ],
      "text/plain": [
       "  Unnamed: 0  Unnamed: 1 Unnamed: 2 Unnamed: 3 Unnamed: 4 Unnamed: 5  \\\n",
       "0        NaN         NaN        NaN      Raças        NaN        NaN   \n",
       "1  Condições       Sexos      Almas    Brancos     Pardos     Pretos   \n",
       "2     Livres      Homens      10322       4940       4332        436   \n",
       "3        NaN    Mulheres       9867       4364       4601        470   \n",
       "4        NaN        Soma      20189       9304       8933        906   \n",
       "5   Escravos      Homens        522          0        326        196   \n",
       "6        NaN    Mulheres        661          0        365        296   \n",
       "7        NaN        Soma       1183          0        691        492   \n",
       "8        NaN  Soma geral      21372       9304       9624       1398   \n",
       "\n",
       "  Unnamed: 6     Unnamed: 7 Unnamed: 8 Unnamed: 9  ...       Unnamed: 19  \\\n",
       "0        NaN  Estados civis        NaN        NaN  ...  Defeitos físicos   \n",
       "1   Caboclos      Solteiros    Casados     Viúvos  ...             Cegos   \n",
       "2        614           7154       2775        393  ...                48   \n",
       "3        432           6979       2097        791  ...                41   \n",
       "4       1046          14133       4872       1184  ...                89   \n",
       "5          0            502         14          6  ...                 0   \n",
       "6          0            638         19          4  ...                 0   \n",
       "7          0           1140         33         10  ...                 0   \n",
       "8       1046          15273       4905       1194  ...                89   \n",
       "\n",
       "   Unnamed: 20 Unnamed: 21 Unnamed: 22 Unnamed: 23 Unnamed: 24  Unnamed: 25  \\\n",
       "0          NaN         NaN         NaN         NaN         NaN          NaN   \n",
       "1  Surdo-mudos   Aleijados    Dementes   Alienados    Ausentes  Transeuntes   \n",
       "2            6         158          16          11          41          301   \n",
       "3            9          32          21           9          76          247   \n",
       "4           15         190          37          20         117          548   \n",
       "5            0           2           0           0           0            0   \n",
       "6            0           2           2           2           0            0   \n",
       "7            0           4           2           2           0            0   \n",
       "8           15         194          39          22         117          548   \n",
       "\n",
       "  Unnamed: 26  Unnamed: 27 Unnamed: 28  \n",
       "0       Casas          NaN         NaN  \n",
       "1   Habitadas  Desabitadas       Fogos  \n",
       "2         NaN          NaN         NaN  \n",
       "3         NaN          NaN         NaN  \n",
       "4        3359         1025        3403  \n",
       "5         NaN          NaN         NaN  \n",
       "6         NaN          NaN         NaN  \n",
       "7         NaN          NaN         NaN  \n",
       "8        3359         1025        3403  \n",
       "\n",
       "[9 rows x 29 columns]"
      ]
     },
     "execution_count": 3,
     "metadata": {},
     "output_type": "execute_result"
    }
   ],
   "source": [
    "df.head(10)"
   ]
  },
  {
   "cell_type": "code",
   "execution_count": 4,
   "metadata": {},
   "outputs": [
    {
     "name": "stdout",
     "output_type": "stream",
     "text": [
      "Index(['Unnamed: 0', 'Unnamed: 1', 'Unnamed: 2', 'Unnamed: 3', 'Unnamed: 4',\n",
      "       'Unnamed: 5', 'Unnamed: 6', 'Unnamed: 7', 'Unnamed: 8', 'Unnamed: 9',\n",
      "       'Unnamed: 10', 'Unnamed: 11', 'Unnamed: 12', 'Unnamed: 13', 'Instrução',\n",
      "       'Unnamed: 15', 'Unnamed: 16', 'Unnamed: 17', 'Unnamed: 18',\n",
      "       'Unnamed: 19', 'Unnamed: 20', 'Unnamed: 21', 'Unnamed: 22',\n",
      "       'Unnamed: 23', 'Unnamed: 24', 'Unnamed: 25', 'Unnamed: 26',\n",
      "       'Unnamed: 27', 'Unnamed: 28'],\n",
      "      dtype='object')\n"
     ]
    }
   ],
   "source": [
    "print(df.columns)"
   ]
  },
  {
   "cell_type": "markdown",
   "metadata": {},
   "source": [
    "# almas"
   ]
  },
  {
   "cell_type": "code",
   "execution_count": 5,
   "metadata": {},
   "outputs": [
    {
     "data": {
      "text/html": [
       "<div>\n",
       "<style scoped>\n",
       "    .dataframe tbody tr th:only-of-type {\n",
       "        vertical-align: middle;\n",
       "    }\n",
       "\n",
       "    .dataframe tbody tr th {\n",
       "        vertical-align: top;\n",
       "    }\n",
       "\n",
       "    .dataframe thead th {\n",
       "        text-align: right;\n",
       "    }\n",
       "</style>\n",
       "<table border=\"1\" class=\"dataframe\">\n",
       "  <thead>\n",
       "    <tr style=\"text-align: right;\">\n",
       "      <th></th>\n",
       "      <th>Unnamed: 0</th>\n",
       "      <th>Unnamed: 1</th>\n",
       "      <th>Unnamed: 2</th>\n",
       "    </tr>\n",
       "  </thead>\n",
       "  <tbody>\n",
       "    <tr>\n",
       "      <th>0</th>\n",
       "      <td>NaN</td>\n",
       "      <td>NaN</td>\n",
       "      <td>NaN</td>\n",
       "    </tr>\n",
       "    <tr>\n",
       "      <th>1</th>\n",
       "      <td>Condições</td>\n",
       "      <td>Sexos</td>\n",
       "      <td>Almas</td>\n",
       "    </tr>\n",
       "    <tr>\n",
       "      <th>2</th>\n",
       "      <td>Livres</td>\n",
       "      <td>Homens</td>\n",
       "      <td>10322</td>\n",
       "    </tr>\n",
       "    <tr>\n",
       "      <th>3</th>\n",
       "      <td>NaN</td>\n",
       "      <td>Mulheres</td>\n",
       "      <td>9867</td>\n",
       "    </tr>\n",
       "    <tr>\n",
       "      <th>4</th>\n",
       "      <td>NaN</td>\n",
       "      <td>Soma</td>\n",
       "      <td>20189</td>\n",
       "    </tr>\n",
       "  </tbody>\n",
       "</table>\n",
       "</div>"
      ],
      "text/plain": [
       "  Unnamed: 0 Unnamed: 1 Unnamed: 2\n",
       "0        NaN        NaN        NaN\n",
       "1  Condições      Sexos      Almas\n",
       "2     Livres     Homens      10322\n",
       "3        NaN   Mulheres       9867\n",
       "4        NaN       Soma      20189"
      ]
     },
     "execution_count": 5,
     "metadata": {},
     "output_type": "execute_result"
    }
   ],
   "source": [
    "almas = df[['Unnamed: 0','Unnamed: 1', 'Unnamed: 2']]\n",
    "almas.head()"
   ]
  },
  {
   "cell_type": "code",
   "execution_count": 6,
   "metadata": {},
   "outputs": [
    {
     "data": {
      "text/html": [
       "<div>\n",
       "<style scoped>\n",
       "    .dataframe tbody tr th:only-of-type {\n",
       "        vertical-align: middle;\n",
       "    }\n",
       "\n",
       "    .dataframe tbody tr th {\n",
       "        vertical-align: top;\n",
       "    }\n",
       "\n",
       "    .dataframe thead th {\n",
       "        text-align: right;\n",
       "    }\n",
       "</style>\n",
       "<table border=\"1\" class=\"dataframe\">\n",
       "  <thead>\n",
       "    <tr style=\"text-align: right;\">\n",
       "      <th>1</th>\n",
       "      <th>Condições</th>\n",
       "      <th>Sexos</th>\n",
       "      <th>Almas</th>\n",
       "    </tr>\n",
       "  </thead>\n",
       "  <tbody>\n",
       "    <tr>\n",
       "      <th>2</th>\n",
       "      <td>Livres</td>\n",
       "      <td>Homens</td>\n",
       "      <td>10322</td>\n",
       "    </tr>\n",
       "    <tr>\n",
       "      <th>3</th>\n",
       "      <td>NaN</td>\n",
       "      <td>Mulheres</td>\n",
       "      <td>9867</td>\n",
       "    </tr>\n",
       "    <tr>\n",
       "      <th>4</th>\n",
       "      <td>NaN</td>\n",
       "      <td>Soma</td>\n",
       "      <td>20189</td>\n",
       "    </tr>\n",
       "    <tr>\n",
       "      <th>5</th>\n",
       "      <td>Escravos</td>\n",
       "      <td>Homens</td>\n",
       "      <td>522</td>\n",
       "    </tr>\n",
       "    <tr>\n",
       "      <th>6</th>\n",
       "      <td>NaN</td>\n",
       "      <td>Mulheres</td>\n",
       "      <td>661</td>\n",
       "    </tr>\n",
       "  </tbody>\n",
       "</table>\n",
       "</div>"
      ],
      "text/plain": [
       "1 Condições     Sexos  Almas\n",
       "2    Livres    Homens  10322\n",
       "3       NaN  Mulheres   9867\n",
       "4       NaN      Soma  20189\n",
       "5  Escravos    Homens    522\n",
       "6       NaN  Mulheres    661"
      ]
     },
     "execution_count": 6,
     "metadata": {},
     "output_type": "execute_result"
    }
   ],
   "source": [
    "new_header = almas.iloc[1]\n",
    "almas.columns = new_header\n",
    "almas = almas[2:]\n",
    "almas.head()"
   ]
  },
  {
   "cell_type": "markdown",
   "metadata": {},
   "source": [
    "# raças"
   ]
  },
  {
   "cell_type": "markdown",
   "metadata": {},
   "source": [
    "## Clean header"
   ]
  },
  {
   "cell_type": "code",
   "execution_count": 7,
   "metadata": {},
   "outputs": [
    {
     "data": {
      "text/html": [
       "<div>\n",
       "<style scoped>\n",
       "    .dataframe tbody tr th:only-of-type {\n",
       "        vertical-align: middle;\n",
       "    }\n",
       "\n",
       "    .dataframe tbody tr th {\n",
       "        vertical-align: top;\n",
       "    }\n",
       "\n",
       "    .dataframe thead th {\n",
       "        text-align: right;\n",
       "    }\n",
       "</style>\n",
       "<table border=\"1\" class=\"dataframe\">\n",
       "  <thead>\n",
       "    <tr style=\"text-align: right;\">\n",
       "      <th></th>\n",
       "      <th>Unnamed: 0</th>\n",
       "      <th>Unnamed: 1</th>\n",
       "      <th>Unnamed: 3</th>\n",
       "      <th>Unnamed: 4</th>\n",
       "      <th>Unnamed: 5</th>\n",
       "      <th>Unnamed: 6</th>\n",
       "    </tr>\n",
       "  </thead>\n",
       "  <tbody>\n",
       "    <tr>\n",
       "      <th>0</th>\n",
       "      <td>NaN</td>\n",
       "      <td>NaN</td>\n",
       "      <td>Raças</td>\n",
       "      <td>NaN</td>\n",
       "      <td>NaN</td>\n",
       "      <td>NaN</td>\n",
       "    </tr>\n",
       "    <tr>\n",
       "      <th>1</th>\n",
       "      <td>Condições</td>\n",
       "      <td>Sexos</td>\n",
       "      <td>Brancos</td>\n",
       "      <td>Pardos</td>\n",
       "      <td>Pretos</td>\n",
       "      <td>Caboclos</td>\n",
       "    </tr>\n",
       "    <tr>\n",
       "      <th>2</th>\n",
       "      <td>Livres</td>\n",
       "      <td>Homens</td>\n",
       "      <td>4940</td>\n",
       "      <td>4332</td>\n",
       "      <td>436</td>\n",
       "      <td>614</td>\n",
       "    </tr>\n",
       "    <tr>\n",
       "      <th>3</th>\n",
       "      <td>NaN</td>\n",
       "      <td>Mulheres</td>\n",
       "      <td>4364</td>\n",
       "      <td>4601</td>\n",
       "      <td>470</td>\n",
       "      <td>432</td>\n",
       "    </tr>\n",
       "    <tr>\n",
       "      <th>4</th>\n",
       "      <td>NaN</td>\n",
       "      <td>Soma</td>\n",
       "      <td>9304</td>\n",
       "      <td>8933</td>\n",
       "      <td>906</td>\n",
       "      <td>1046</td>\n",
       "    </tr>\n",
       "  </tbody>\n",
       "</table>\n",
       "</div>"
      ],
      "text/plain": [
       "  Unnamed: 0 Unnamed: 1 Unnamed: 3 Unnamed: 4 Unnamed: 5 Unnamed: 6\n",
       "0        NaN        NaN      Raças        NaN        NaN        NaN\n",
       "1  Condições      Sexos    Brancos     Pardos     Pretos   Caboclos\n",
       "2     Livres     Homens       4940       4332        436        614\n",
       "3        NaN   Mulheres       4364       4601        470        432\n",
       "4        NaN       Soma       9304       8933        906       1046"
      ]
     },
     "execution_count": 7,
     "metadata": {},
     "output_type": "execute_result"
    }
   ],
   "source": [
    "racas = df[['Unnamed: 0','Unnamed: 1', 'Unnamed: 3', 'Unnamed: 4', 'Unnamed: 5', 'Unnamed: 6']]\n",
    "racas.head()"
   ]
  },
  {
   "cell_type": "code",
   "execution_count": 8,
   "metadata": {},
   "outputs": [
    {
     "data": {
      "text/html": [
       "<div>\n",
       "<style scoped>\n",
       "    .dataframe tbody tr th:only-of-type {\n",
       "        vertical-align: middle;\n",
       "    }\n",
       "\n",
       "    .dataframe tbody tr th {\n",
       "        vertical-align: top;\n",
       "    }\n",
       "\n",
       "    .dataframe thead th {\n",
       "        text-align: right;\n",
       "    }\n",
       "</style>\n",
       "<table border=\"1\" class=\"dataframe\">\n",
       "  <thead>\n",
       "    <tr style=\"text-align: right;\">\n",
       "      <th>1</th>\n",
       "      <th>Condições</th>\n",
       "      <th>Sexos</th>\n",
       "      <th>Brancos</th>\n",
       "      <th>Pardos</th>\n",
       "      <th>Pretos</th>\n",
       "      <th>Caboclos</th>\n",
       "    </tr>\n",
       "  </thead>\n",
       "  <tbody>\n",
       "    <tr>\n",
       "      <th>2</th>\n",
       "      <td>Livres</td>\n",
       "      <td>Homens</td>\n",
       "      <td>4940</td>\n",
       "      <td>4332</td>\n",
       "      <td>436</td>\n",
       "      <td>614</td>\n",
       "    </tr>\n",
       "    <tr>\n",
       "      <th>3</th>\n",
       "      <td>NaN</td>\n",
       "      <td>Mulheres</td>\n",
       "      <td>4364</td>\n",
       "      <td>4601</td>\n",
       "      <td>470</td>\n",
       "      <td>432</td>\n",
       "    </tr>\n",
       "    <tr>\n",
       "      <th>4</th>\n",
       "      <td>NaN</td>\n",
       "      <td>Soma</td>\n",
       "      <td>9304</td>\n",
       "      <td>8933</td>\n",
       "      <td>906</td>\n",
       "      <td>1046</td>\n",
       "    </tr>\n",
       "    <tr>\n",
       "      <th>5</th>\n",
       "      <td>Escravos</td>\n",
       "      <td>Homens</td>\n",
       "      <td>0</td>\n",
       "      <td>326</td>\n",
       "      <td>196</td>\n",
       "      <td>0</td>\n",
       "    </tr>\n",
       "    <tr>\n",
       "      <th>6</th>\n",
       "      <td>NaN</td>\n",
       "      <td>Mulheres</td>\n",
       "      <td>0</td>\n",
       "      <td>365</td>\n",
       "      <td>296</td>\n",
       "      <td>0</td>\n",
       "    </tr>\n",
       "    <tr>\n",
       "      <th>7</th>\n",
       "      <td>NaN</td>\n",
       "      <td>Soma</td>\n",
       "      <td>0</td>\n",
       "      <td>691</td>\n",
       "      <td>492</td>\n",
       "      <td>0</td>\n",
       "    </tr>\n",
       "    <tr>\n",
       "      <th>8</th>\n",
       "      <td>NaN</td>\n",
       "      <td>Soma geral</td>\n",
       "      <td>9304</td>\n",
       "      <td>9624</td>\n",
       "      <td>1398</td>\n",
       "      <td>1046</td>\n",
       "    </tr>\n",
       "  </tbody>\n",
       "</table>\n",
       "</div>"
      ],
      "text/plain": [
       "1 Condições       Sexos Brancos Pardos Pretos Caboclos\n",
       "2    Livres      Homens    4940   4332    436      614\n",
       "3       NaN    Mulheres    4364   4601    470      432\n",
       "4       NaN        Soma    9304   8933    906     1046\n",
       "5  Escravos      Homens       0    326    196        0\n",
       "6       NaN    Mulheres       0    365    296        0\n",
       "7       NaN        Soma       0    691    492        0\n",
       "8       NaN  Soma geral    9304   9624   1398     1046"
      ]
     },
     "execution_count": 8,
     "metadata": {},
     "output_type": "execute_result"
    }
   ],
   "source": [
    "new_header = racas.iloc[1]\n",
    "racas.columns = new_header\n",
    "racas = racas[2:]\n",
    "racas"
   ]
  },
  {
   "cell_type": "code",
   "execution_count": 9,
   "metadata": {},
   "outputs": [
    {
     "data": {
      "text/html": [
       "<div>\n",
       "<style scoped>\n",
       "    .dataframe tbody tr th:only-of-type {\n",
       "        vertical-align: middle;\n",
       "    }\n",
       "\n",
       "    .dataframe tbody tr th {\n",
       "        vertical-align: top;\n",
       "    }\n",
       "\n",
       "    .dataframe thead th {\n",
       "        text-align: right;\n",
       "    }\n",
       "</style>\n",
       "<table border=\"1\" class=\"dataframe\">\n",
       "  <thead>\n",
       "    <tr style=\"text-align: right;\">\n",
       "      <th>1</th>\n",
       "      <th>Condições</th>\n",
       "      <th>Sexos</th>\n",
       "      <th>Brancos</th>\n",
       "      <th>Pardos</th>\n",
       "      <th>Pretos</th>\n",
       "      <th>Caboclos</th>\n",
       "    </tr>\n",
       "  </thead>\n",
       "  <tbody>\n",
       "    <tr>\n",
       "      <th>0</th>\n",
       "      <td>Livres</td>\n",
       "      <td>Homens</td>\n",
       "      <td>4940</td>\n",
       "      <td>4332</td>\n",
       "      <td>436</td>\n",
       "      <td>614</td>\n",
       "    </tr>\n",
       "    <tr>\n",
       "      <th>1</th>\n",
       "      <td>NaN</td>\n",
       "      <td>Mulheres</td>\n",
       "      <td>4364</td>\n",
       "      <td>4601</td>\n",
       "      <td>470</td>\n",
       "      <td>432</td>\n",
       "    </tr>\n",
       "    <tr>\n",
       "      <th>2</th>\n",
       "      <td>NaN</td>\n",
       "      <td>Soma</td>\n",
       "      <td>9304</td>\n",
       "      <td>8933</td>\n",
       "      <td>906</td>\n",
       "      <td>1046</td>\n",
       "    </tr>\n",
       "    <tr>\n",
       "      <th>3</th>\n",
       "      <td>Escravos</td>\n",
       "      <td>Homens</td>\n",
       "      <td>0</td>\n",
       "      <td>326</td>\n",
       "      <td>196</td>\n",
       "      <td>0</td>\n",
       "    </tr>\n",
       "    <tr>\n",
       "      <th>4</th>\n",
       "      <td>NaN</td>\n",
       "      <td>Mulheres</td>\n",
       "      <td>0</td>\n",
       "      <td>365</td>\n",
       "      <td>296</td>\n",
       "      <td>0</td>\n",
       "    </tr>\n",
       "    <tr>\n",
       "      <th>5</th>\n",
       "      <td>NaN</td>\n",
       "      <td>Soma</td>\n",
       "      <td>0</td>\n",
       "      <td>691</td>\n",
       "      <td>492</td>\n",
       "      <td>0</td>\n",
       "    </tr>\n",
       "    <tr>\n",
       "      <th>6</th>\n",
       "      <td>NaN</td>\n",
       "      <td>Soma geral</td>\n",
       "      <td>9304</td>\n",
       "      <td>9624</td>\n",
       "      <td>1398</td>\n",
       "      <td>1046</td>\n",
       "    </tr>\n",
       "  </tbody>\n",
       "</table>\n",
       "</div>"
      ],
      "text/plain": [
       "1 Condições       Sexos Brancos Pardos Pretos Caboclos\n",
       "0    Livres      Homens    4940   4332    436      614\n",
       "1       NaN    Mulheres    4364   4601    470      432\n",
       "2       NaN        Soma    9304   8933    906     1046\n",
       "3  Escravos      Homens       0    326    196        0\n",
       "4       NaN    Mulheres       0    365    296        0\n",
       "5       NaN        Soma       0    691    492        0\n",
       "6       NaN  Soma geral    9304   9624   1398     1046"
      ]
     },
     "execution_count": 9,
     "metadata": {},
     "output_type": "execute_result"
    }
   ],
   "source": [
    "racas.reset_index(drop=True)"
   ]
  },
  {
   "cell_type": "markdown",
   "metadata": {},
   "source": [
    "## Sem tranposta"
   ]
  },
  {
   "cell_type": "code",
   "execution_count": 10,
   "metadata": {},
   "outputs": [
    {
     "data": {
      "text/html": [
       "<div>\n",
       "<style scoped>\n",
       "    .dataframe tbody tr th:only-of-type {\n",
       "        vertical-align: middle;\n",
       "    }\n",
       "\n",
       "    .dataframe tbody tr th {\n",
       "        vertical-align: top;\n",
       "    }\n",
       "\n",
       "    .dataframe thead th {\n",
       "        text-align: right;\n",
       "    }\n",
       "</style>\n",
       "<table border=\"1\" class=\"dataframe\">\n",
       "  <thead>\n",
       "    <tr style=\"text-align: right;\">\n",
       "      <th>1</th>\n",
       "      <th>Condições</th>\n",
       "      <th>Sexos</th>\n",
       "      <th>Brancos</th>\n",
       "      <th>Pardos</th>\n",
       "      <th>Pretos</th>\n",
       "      <th>Caboclos</th>\n",
       "    </tr>\n",
       "  </thead>\n",
       "  <tbody>\n",
       "    <tr>\n",
       "      <th>2</th>\n",
       "      <td>Livres</td>\n",
       "      <td>Homens</td>\n",
       "      <td>4940</td>\n",
       "      <td>4332</td>\n",
       "      <td>436</td>\n",
       "      <td>614</td>\n",
       "    </tr>\n",
       "    <tr>\n",
       "      <th>3</th>\n",
       "      <td>NaN</td>\n",
       "      <td>Mulheres</td>\n",
       "      <td>4364</td>\n",
       "      <td>4601</td>\n",
       "      <td>470</td>\n",
       "      <td>432</td>\n",
       "    </tr>\n",
       "    <tr>\n",
       "      <th>4</th>\n",
       "      <td>NaN</td>\n",
       "      <td>Soma</td>\n",
       "      <td>9304</td>\n",
       "      <td>8933</td>\n",
       "      <td>906</td>\n",
       "      <td>1046</td>\n",
       "    </tr>\n",
       "    <tr>\n",
       "      <th>5</th>\n",
       "      <td>Escravos</td>\n",
       "      <td>Homens</td>\n",
       "      <td>0</td>\n",
       "      <td>326</td>\n",
       "      <td>196</td>\n",
       "      <td>0</td>\n",
       "    </tr>\n",
       "    <tr>\n",
       "      <th>6</th>\n",
       "      <td>NaN</td>\n",
       "      <td>Mulheres</td>\n",
       "      <td>0</td>\n",
       "      <td>365</td>\n",
       "      <td>296</td>\n",
       "      <td>0</td>\n",
       "    </tr>\n",
       "    <tr>\n",
       "      <th>7</th>\n",
       "      <td>NaN</td>\n",
       "      <td>Soma</td>\n",
       "      <td>0</td>\n",
       "      <td>691</td>\n",
       "      <td>492</td>\n",
       "      <td>0</td>\n",
       "    </tr>\n",
       "    <tr>\n",
       "      <th>8</th>\n",
       "      <td>Total</td>\n",
       "      <td>Soma geral</td>\n",
       "      <td>9304</td>\n",
       "      <td>9624</td>\n",
       "      <td>1398</td>\n",
       "      <td>1046</td>\n",
       "    </tr>\n",
       "  </tbody>\n",
       "</table>\n",
       "</div>"
      ],
      "text/plain": [
       "1 Condições       Sexos Brancos Pardos Pretos Caboclos\n",
       "2    Livres      Homens    4940   4332    436      614\n",
       "3       NaN    Mulheres    4364   4601    470      432\n",
       "4       NaN        Soma    9304   8933    906     1046\n",
       "5  Escravos      Homens       0    326    196        0\n",
       "6       NaN    Mulheres       0    365    296        0\n",
       "7       NaN        Soma       0    691    492        0\n",
       "8     Total  Soma geral    9304   9624   1398     1046"
      ]
     },
     "execution_count": 10,
     "metadata": {},
     "output_type": "execute_result"
    }
   ],
   "source": [
    "df_no_transpose = racas.copy()\n",
    "df_no_transpose.loc[8, \"Condições\"] = 'Total'\n",
    "df_no_transpose"
   ]
  },
  {
   "cell_type": "code",
   "execution_count": 11,
   "metadata": {},
   "outputs": [
    {
     "data": {
      "text/html": [
       "<div>\n",
       "<style scoped>\n",
       "    .dataframe tbody tr th:only-of-type {\n",
       "        vertical-align: middle;\n",
       "    }\n",
       "\n",
       "    .dataframe tbody tr th {\n",
       "        vertical-align: top;\n",
       "    }\n",
       "\n",
       "    .dataframe thead th {\n",
       "        text-align: right;\n",
       "    }\n",
       "</style>\n",
       "<table border=\"1\" class=\"dataframe\">\n",
       "  <thead>\n",
       "    <tr style=\"text-align: right;\">\n",
       "      <th>1</th>\n",
       "      <th>Condições</th>\n",
       "      <th>Sexos</th>\n",
       "      <th>Brancos</th>\n",
       "      <th>Pardos</th>\n",
       "      <th>Pretos</th>\n",
       "      <th>Caboclos</th>\n",
       "    </tr>\n",
       "  </thead>\n",
       "  <tbody>\n",
       "    <tr>\n",
       "      <th>2</th>\n",
       "      <td>Livres</td>\n",
       "      <td>Homens</td>\n",
       "      <td>4940</td>\n",
       "      <td>4332</td>\n",
       "      <td>436</td>\n",
       "      <td>614</td>\n",
       "    </tr>\n",
       "    <tr>\n",
       "      <th>3</th>\n",
       "      <td>Livres</td>\n",
       "      <td>Mulheres</td>\n",
       "      <td>4364</td>\n",
       "      <td>4601</td>\n",
       "      <td>470</td>\n",
       "      <td>432</td>\n",
       "    </tr>\n",
       "    <tr>\n",
       "      <th>4</th>\n",
       "      <td>Livres</td>\n",
       "      <td>Soma</td>\n",
       "      <td>9304</td>\n",
       "      <td>8933</td>\n",
       "      <td>906</td>\n",
       "      <td>1046</td>\n",
       "    </tr>\n",
       "    <tr>\n",
       "      <th>5</th>\n",
       "      <td>Escravos</td>\n",
       "      <td>Homens</td>\n",
       "      <td>0</td>\n",
       "      <td>326</td>\n",
       "      <td>196</td>\n",
       "      <td>0</td>\n",
       "    </tr>\n",
       "    <tr>\n",
       "      <th>6</th>\n",
       "      <td>Escravos</td>\n",
       "      <td>Mulheres</td>\n",
       "      <td>0</td>\n",
       "      <td>365</td>\n",
       "      <td>296</td>\n",
       "      <td>0</td>\n",
       "    </tr>\n",
       "    <tr>\n",
       "      <th>7</th>\n",
       "      <td>Escravos</td>\n",
       "      <td>Soma</td>\n",
       "      <td>0</td>\n",
       "      <td>691</td>\n",
       "      <td>492</td>\n",
       "      <td>0</td>\n",
       "    </tr>\n",
       "    <tr>\n",
       "      <th>8</th>\n",
       "      <td>Total</td>\n",
       "      <td>Soma geral</td>\n",
       "      <td>9304</td>\n",
       "      <td>9624</td>\n",
       "      <td>1398</td>\n",
       "      <td>1046</td>\n",
       "    </tr>\n",
       "  </tbody>\n",
       "</table>\n",
       "</div>"
      ],
      "text/plain": [
       "1 Condições       Sexos Brancos Pardos Pretos Caboclos\n",
       "2    Livres      Homens    4940   4332    436      614\n",
       "3    Livres    Mulheres    4364   4601    470      432\n",
       "4    Livres        Soma    9304   8933    906     1046\n",
       "5  Escravos      Homens       0    326    196        0\n",
       "6  Escravos    Mulheres       0    365    296        0\n",
       "7  Escravos        Soma       0    691    492        0\n",
       "8     Total  Soma geral    9304   9624   1398     1046"
      ]
     },
     "execution_count": 11,
     "metadata": {},
     "output_type": "execute_result"
    }
   ],
   "source": [
    "df_no_transpose['Condições'] = df_no_transpose['Condições'].ffill()\n",
    "df_no_transpose"
   ]
  },
  {
   "cell_type": "code",
   "execution_count": 12,
   "metadata": {},
   "outputs": [],
   "source": [
    "# df_no_transpose.to_dict(\"records\")"
   ]
  },
  {
   "cell_type": "markdown",
   "metadata": {},
   "source": [
    "### Com .loc"
   ]
  },
  {
   "cell_type": "code",
   "execution_count": 13,
   "metadata": {},
   "outputs": [
    {
     "name": "stdout",
     "output_type": "stream",
     "text": [
      "1\n",
      "Brancos     4940\n",
      "Pardos      4658\n",
      "Pretos       632\n",
      "Caboclos     614\n",
      "dtype: int64\n"
     ]
    }
   ],
   "source": [
    "numeric_columns = ['Brancos', 'Pardos', 'Pretos', 'Caboclos']\n",
    "df_no_transpose[numeric_columns] = df_no_transpose[numeric_columns].apply(pd.to_numeric)\n",
    "\n",
    "# Passo 1: Selecionar as linhas específicas\n",
    "livres_homens = df_no_transpose.loc[(df_no_transpose['Condições'] == 'Livres') & (df_no_transpose['Sexos'] == 'Homens')]\n",
    "escravos_homens = df_no_transpose.loc[(df_no_transpose['Condições'] == 'Escravos') & (df_no_transpose['Sexos'] == 'Homens')]\n",
    "\n",
    "# Passo 2: Somar os valores das colunas\n",
    "soma_homens = livres_homens[numeric_columns].sum() + escravos_homens[numeric_columns].sum()\n",
    "\n",
    "print(soma_homens)"
   ]
  },
  {
   "cell_type": "markdown",
   "metadata": {},
   "source": [
    "### Com groupby"
   ]
  },
  {
   "cell_type": "code",
   "execution_count": 14,
   "metadata": {},
   "outputs": [
    {
     "name": "stdout",
     "output_type": "stream",
     "text": [
      "1                     Brancos  Pardos  Pretos  Caboclos\n",
      "Condições Sexos                                        \n",
      "Escravos  Homens            0     326     196         0\n",
      "          Mulheres          0     365     296         0\n",
      "          Soma              0     691     492         0\n",
      "Livres    Homens         4940    4332     436       614\n",
      "          Mulheres       4364    4601     470       432\n",
      "          Soma           9304    8933     906      1046\n",
      "Total     Soma geral     9304    9624    1398      1046\n"
     ]
    }
   ],
   "source": [
    "# Passo 2: Converter as colunas com valores numéricos para o tipo `int`\n",
    "numeric_columns = ['Brancos', 'Pardos', 'Pretos', 'Caboclos']\n",
    "df_no_transpose[numeric_columns] = df_no_transpose[numeric_columns].apply(pd.to_numeric)\n",
    "\n",
    "# Passo 3 e 4: Agrupar por 'Condições' e 'Sexos', e somar os valores\n",
    "grouped = df_no_transpose.groupby(['Condições', 'Sexos']).sum()\n",
    "\n",
    "print(grouped)"
   ]
  },
  {
   "cell_type": "code",
   "execution_count": 15,
   "metadata": {},
   "outputs": [
    {
     "name": "stdout",
     "output_type": "stream",
     "text": [
      "1\n",
      "Brancos     4940\n",
      "Pardos      4658\n",
      "Pretos       632\n",
      "Caboclos     614\n",
      "dtype: int64\n"
     ]
    }
   ],
   "source": [
    "# Selecionar e somar as linhas 'Livres' e 'Escravos' com 'Homens'\n",
    "livres_homens = grouped.loc[('Livres', 'Homens')]\n",
    "escravos_homens = grouped.loc[('Escravos', 'Homens')]\n",
    "\n",
    "# Somar os valores\n",
    "total_homens = livres_homens + escravos_homens\n",
    "\n",
    "print(total_homens)"
   ]
  },
  {
   "cell_type": "code",
   "execution_count": 16,
   "metadata": {},
   "outputs": [
    {
     "name": "stdout",
     "output_type": "stream",
     "text": [
      "1\n",
      "Brancos     4364\n",
      "Pardos      4966\n",
      "Pretos       766\n",
      "Caboclos     432\n",
      "dtype: int64\n"
     ]
    }
   ],
   "source": [
    "# Selecionar e somar as linhas 'Livres' e 'Escravos' com 'Homens'\n",
    "livres_mulheres = grouped.loc[('Livres', 'Mulheres')]\n",
    "escravos_mulheres = grouped.loc[('Escravos', 'Mulheres')]\n",
    "\n",
    "# Somar os valores\n",
    "total_mulheres = livres_mulheres + escravos_mulheres\n",
    "\n",
    "print(total_mulheres)"
   ]
  },
  {
   "cell_type": "markdown",
   "metadata": {},
   "source": [
    "### gerando gráfico"
   ]
  },
  {
   "cell_type": "code",
   "execution_count": 17,
   "metadata": {},
   "outputs": [
    {
     "name": "stdout",
     "output_type": "stream",
     "text": [
      "1           Brancos  Pardos  Pretos  Caboclos\n",
      "Sexos                                        \n",
      "Soma geral     9304    9624    1398      1046\n"
     ]
    },
    {
     "data": {
      "text/plain": [
       "Sexos\n",
       "Soma geral    9304\n",
       "Name: Brancos, dtype: int64"
      ]
     },
     "execution_count": 17,
     "metadata": {},
     "output_type": "execute_result"
    }
   ],
   "source": [
    "grouped = grouped.apply(pd.to_numeric, errors='coerce')\n",
    "total = grouped.loc[('Total'), :]\n",
    "escravos = grouped.loc[('Escravos'),:]\n",
    "livres = grouped.loc[('Livres'),:]\n",
    "print(total)\n",
    "total['Brancos']"
   ]
  },
  {
   "cell_type": "code",
   "execution_count": 18,
   "metadata": {},
   "outputs": [
    {
     "data": {
      "text/html": [
       "<div>\n",
       "<style scoped>\n",
       "    .dataframe tbody tr th:only-of-type {\n",
       "        vertical-align: middle;\n",
       "    }\n",
       "\n",
       "    .dataframe tbody tr th {\n",
       "        vertical-align: top;\n",
       "    }\n",
       "\n",
       "    .dataframe thead th {\n",
       "        text-align: right;\n",
       "    }\n",
       "</style>\n",
       "<table border=\"1\" class=\"dataframe\">\n",
       "  <thead>\n",
       "    <tr style=\"text-align: right;\">\n",
       "      <th>1</th>\n",
       "      <th>Sexos</th>\n",
       "      <th>Brancos</th>\n",
       "      <th>Pardos</th>\n",
       "      <th>Pretos</th>\n",
       "      <th>Caboclos</th>\n",
       "    </tr>\n",
       "  </thead>\n",
       "  <tbody>\n",
       "    <tr>\n",
       "      <th>0</th>\n",
       "      <td>Soma geral</td>\n",
       "      <td>9304</td>\n",
       "      <td>9624</td>\n",
       "      <td>1398</td>\n",
       "      <td>1046</td>\n",
       "    </tr>\n",
       "    <tr>\n",
       "      <th>1</th>\n",
       "      <td>Homens</td>\n",
       "      <td>0</td>\n",
       "      <td>326</td>\n",
       "      <td>196</td>\n",
       "      <td>0</td>\n",
       "    </tr>\n",
       "    <tr>\n",
       "      <th>2</th>\n",
       "      <td>Mulheres</td>\n",
       "      <td>0</td>\n",
       "      <td>365</td>\n",
       "      <td>296</td>\n",
       "      <td>0</td>\n",
       "    </tr>\n",
       "    <tr>\n",
       "      <th>3</th>\n",
       "      <td>Soma</td>\n",
       "      <td>0</td>\n",
       "      <td>691</td>\n",
       "      <td>492</td>\n",
       "      <td>0</td>\n",
       "    </tr>\n",
       "    <tr>\n",
       "      <th>4</th>\n",
       "      <td>Homens</td>\n",
       "      <td>4940</td>\n",
       "      <td>4332</td>\n",
       "      <td>436</td>\n",
       "      <td>614</td>\n",
       "    </tr>\n",
       "    <tr>\n",
       "      <th>5</th>\n",
       "      <td>Mulheres</td>\n",
       "      <td>4364</td>\n",
       "      <td>4601</td>\n",
       "      <td>470</td>\n",
       "      <td>432</td>\n",
       "    </tr>\n",
       "    <tr>\n",
       "      <th>6</th>\n",
       "      <td>Soma</td>\n",
       "      <td>9304</td>\n",
       "      <td>8933</td>\n",
       "      <td>906</td>\n",
       "      <td>1046</td>\n",
       "    </tr>\n",
       "  </tbody>\n",
       "</table>\n",
       "</div>"
      ],
      "text/plain": [
       "1       Sexos  Brancos  Pardos  Pretos  Caboclos\n",
       "0  Soma geral     9304    9624    1398      1046\n",
       "1      Homens        0     326     196         0\n",
       "2    Mulheres        0     365     296         0\n",
       "3        Soma        0     691     492         0\n",
       "4      Homens     4940    4332     436       614\n",
       "5    Mulheres     4364    4601     470       432\n",
       "6        Soma     9304    8933     906      1046"
      ]
     },
     "execution_count": 18,
     "metadata": {},
     "output_type": "execute_result"
    }
   ],
   "source": [
    "# df_concat = pd.concat([total, escravos, livres], axis=0, keys=['Total', 'Escravos', 'Livres'])\n",
    "df_concat = pd.concat([total, escravos, livres], axis=0)\n",
    "df_concat.reset_index(inplace=True)\n",
    "df_concat"
   ]
  },
  {
   "cell_type": "code",
   "execution_count": 19,
   "metadata": {},
   "outputs": [
    {
     "ename": "KeyError",
     "evalue": "'key of type tuple not found and not a MultiIndex'",
     "output_type": "error",
     "traceback": [
      "\u001b[0;31m---------------------------------------------------------------------------\u001b[0m",
      "\u001b[0;31mKeyError\u001b[0m                                  Traceback (most recent call last)",
      "\u001b[0;32m/tmp/ipykernel_6385/3553116342.py\u001b[0m in \u001b[0;36m<module>\u001b[0;34m\u001b[0m\n\u001b[1;32m      6\u001b[0m         \u001b[0;34m'Caboclos'\u001b[0m\u001b[0;34m:\u001b[0m \u001b[0;34m(\u001b[0m\u001b[0mrow\u001b[0m\u001b[0;34m[\u001b[0m\u001b[0;34m(\u001b[0m\u001b[0;34m'Escravos'\u001b[0m\u001b[0;34m,\u001b[0m \u001b[0;34m'Caboclos'\u001b[0m\u001b[0;34m)\u001b[0m\u001b[0;34m]\u001b[0m \u001b[0;34m/\u001b[0m \u001b[0mrow\u001b[0m\u001b[0;34m[\u001b[0m\u001b[0;34m(\u001b[0m\u001b[0;34m'Total'\u001b[0m\u001b[0;34m,\u001b[0m \u001b[0;34m'Caboclos'\u001b[0m\u001b[0;34m)\u001b[0m\u001b[0;34m]\u001b[0m\u001b[0;34m)\u001b[0m \u001b[0;34m*\u001b[0m \u001b[0;36m100\u001b[0m\u001b[0;34m\u001b[0m\u001b[0;34m\u001b[0m\u001b[0m\n\u001b[1;32m      7\u001b[0m     }\n\u001b[0;32m----> 8\u001b[0;31m \u001b[0mpercentuais\u001b[0m \u001b[0;34m=\u001b[0m \u001b[0mdf_concat\u001b[0m\u001b[0;34m.\u001b[0m\u001b[0mapply\u001b[0m\u001b[0;34m(\u001b[0m\u001b[0mcalcular_percentuais\u001b[0m\u001b[0;34m,\u001b[0m \u001b[0maxis\u001b[0m\u001b[0;34m=\u001b[0m\u001b[0;36m1\u001b[0m\u001b[0;34m)\u001b[0m\u001b[0;34m\u001b[0m\u001b[0;34m\u001b[0m\u001b[0m\n\u001b[0m\u001b[1;32m      9\u001b[0m \u001b[0mpercentuais\u001b[0m\u001b[0;34m\u001b[0m\u001b[0;34m\u001b[0m\u001b[0m\n",
      "\u001b[0;32m~/.local/lib/python3.10/site-packages/pandas/core/frame.py\u001b[0m in \u001b[0;36mapply\u001b[0;34m(self, func, axis, raw, result_type, args, by_row, engine, engine_kwargs, **kwargs)\u001b[0m\n\u001b[1;32m  10372\u001b[0m             \u001b[0mkwargs\u001b[0m\u001b[0;34m=\u001b[0m\u001b[0mkwargs\u001b[0m\u001b[0;34m,\u001b[0m\u001b[0;34m\u001b[0m\u001b[0;34m\u001b[0m\u001b[0m\n\u001b[1;32m  10373\u001b[0m         )\n\u001b[0;32m> 10374\u001b[0;31m         \u001b[0;32mreturn\u001b[0m \u001b[0mop\u001b[0m\u001b[0;34m.\u001b[0m\u001b[0mapply\u001b[0m\u001b[0;34m(\u001b[0m\u001b[0;34m)\u001b[0m\u001b[0;34m.\u001b[0m\u001b[0m__finalize__\u001b[0m\u001b[0;34m(\u001b[0m\u001b[0mself\u001b[0m\u001b[0;34m,\u001b[0m \u001b[0mmethod\u001b[0m\u001b[0;34m=\u001b[0m\u001b[0;34m\"apply\"\u001b[0m\u001b[0;34m)\u001b[0m\u001b[0;34m\u001b[0m\u001b[0;34m\u001b[0m\u001b[0m\n\u001b[0m\u001b[1;32m  10375\u001b[0m \u001b[0;34m\u001b[0m\u001b[0m\n\u001b[1;32m  10376\u001b[0m     def map(\n",
      "\u001b[0;32m~/.local/lib/python3.10/site-packages/pandas/core/apply.py\u001b[0m in \u001b[0;36mapply\u001b[0;34m(self)\u001b[0m\n\u001b[1;32m    914\u001b[0m             \u001b[0;32mreturn\u001b[0m \u001b[0mself\u001b[0m\u001b[0;34m.\u001b[0m\u001b[0mapply_raw\u001b[0m\u001b[0;34m(\u001b[0m\u001b[0mengine\u001b[0m\u001b[0;34m=\u001b[0m\u001b[0mself\u001b[0m\u001b[0;34m.\u001b[0m\u001b[0mengine\u001b[0m\u001b[0;34m,\u001b[0m \u001b[0mengine_kwargs\u001b[0m\u001b[0;34m=\u001b[0m\u001b[0mself\u001b[0m\u001b[0;34m.\u001b[0m\u001b[0mengine_kwargs\u001b[0m\u001b[0;34m)\u001b[0m\u001b[0;34m\u001b[0m\u001b[0;34m\u001b[0m\u001b[0m\n\u001b[1;32m    915\u001b[0m \u001b[0;34m\u001b[0m\u001b[0m\n\u001b[0;32m--> 916\u001b[0;31m         \u001b[0;32mreturn\u001b[0m \u001b[0mself\u001b[0m\u001b[0;34m.\u001b[0m\u001b[0mapply_standard\u001b[0m\u001b[0;34m(\u001b[0m\u001b[0;34m)\u001b[0m\u001b[0;34m\u001b[0m\u001b[0;34m\u001b[0m\u001b[0m\n\u001b[0m\u001b[1;32m    917\u001b[0m \u001b[0;34m\u001b[0m\u001b[0m\n\u001b[1;32m    918\u001b[0m     \u001b[0;32mdef\u001b[0m \u001b[0magg\u001b[0m\u001b[0;34m(\u001b[0m\u001b[0mself\u001b[0m\u001b[0;34m)\u001b[0m\u001b[0;34m:\u001b[0m\u001b[0;34m\u001b[0m\u001b[0;34m\u001b[0m\u001b[0m\n",
      "\u001b[0;32m~/.local/lib/python3.10/site-packages/pandas/core/apply.py\u001b[0m in \u001b[0;36mapply_standard\u001b[0;34m(self)\u001b[0m\n\u001b[1;32m   1061\u001b[0m     \u001b[0;32mdef\u001b[0m \u001b[0mapply_standard\u001b[0m\u001b[0;34m(\u001b[0m\u001b[0mself\u001b[0m\u001b[0;34m)\u001b[0m\u001b[0;34m:\u001b[0m\u001b[0;34m\u001b[0m\u001b[0;34m\u001b[0m\u001b[0m\n\u001b[1;32m   1062\u001b[0m         \u001b[0;32mif\u001b[0m \u001b[0mself\u001b[0m\u001b[0;34m.\u001b[0m\u001b[0mengine\u001b[0m \u001b[0;34m==\u001b[0m \u001b[0;34m\"python\"\u001b[0m\u001b[0;34m:\u001b[0m\u001b[0;34m\u001b[0m\u001b[0;34m\u001b[0m\u001b[0m\n\u001b[0;32m-> 1063\u001b[0;31m             \u001b[0mresults\u001b[0m\u001b[0;34m,\u001b[0m \u001b[0mres_index\u001b[0m \u001b[0;34m=\u001b[0m \u001b[0mself\u001b[0m\u001b[0;34m.\u001b[0m\u001b[0mapply_series_generator\u001b[0m\u001b[0;34m(\u001b[0m\u001b[0;34m)\u001b[0m\u001b[0;34m\u001b[0m\u001b[0;34m\u001b[0m\u001b[0m\n\u001b[0m\u001b[1;32m   1064\u001b[0m         \u001b[0;32melse\u001b[0m\u001b[0;34m:\u001b[0m\u001b[0;34m\u001b[0m\u001b[0;34m\u001b[0m\u001b[0m\n\u001b[1;32m   1065\u001b[0m             \u001b[0mresults\u001b[0m\u001b[0;34m,\u001b[0m \u001b[0mres_index\u001b[0m \u001b[0;34m=\u001b[0m \u001b[0mself\u001b[0m\u001b[0;34m.\u001b[0m\u001b[0mapply_series_numba\u001b[0m\u001b[0;34m(\u001b[0m\u001b[0;34m)\u001b[0m\u001b[0;34m\u001b[0m\u001b[0;34m\u001b[0m\u001b[0m\n",
      "\u001b[0;32m~/.local/lib/python3.10/site-packages/pandas/core/apply.py\u001b[0m in \u001b[0;36mapply_series_generator\u001b[0;34m(self)\u001b[0m\n\u001b[1;32m   1079\u001b[0m             \u001b[0;32mfor\u001b[0m \u001b[0mi\u001b[0m\u001b[0;34m,\u001b[0m \u001b[0mv\u001b[0m \u001b[0;32min\u001b[0m \u001b[0menumerate\u001b[0m\u001b[0;34m(\u001b[0m\u001b[0mseries_gen\u001b[0m\u001b[0;34m)\u001b[0m\u001b[0;34m:\u001b[0m\u001b[0;34m\u001b[0m\u001b[0;34m\u001b[0m\u001b[0m\n\u001b[1;32m   1080\u001b[0m                 \u001b[0;31m# ignore SettingWithCopy here in case the user mutates\u001b[0m\u001b[0;34m\u001b[0m\u001b[0;34m\u001b[0m\u001b[0m\n\u001b[0;32m-> 1081\u001b[0;31m                 \u001b[0mresults\u001b[0m\u001b[0;34m[\u001b[0m\u001b[0mi\u001b[0m\u001b[0;34m]\u001b[0m \u001b[0;34m=\u001b[0m \u001b[0mself\u001b[0m\u001b[0;34m.\u001b[0m\u001b[0mfunc\u001b[0m\u001b[0;34m(\u001b[0m\u001b[0mv\u001b[0m\u001b[0;34m,\u001b[0m \u001b[0;34m*\u001b[0m\u001b[0mself\u001b[0m\u001b[0;34m.\u001b[0m\u001b[0margs\u001b[0m\u001b[0;34m,\u001b[0m \u001b[0;34m**\u001b[0m\u001b[0mself\u001b[0m\u001b[0;34m.\u001b[0m\u001b[0mkwargs\u001b[0m\u001b[0;34m)\u001b[0m\u001b[0;34m\u001b[0m\u001b[0;34m\u001b[0m\u001b[0m\n\u001b[0m\u001b[1;32m   1082\u001b[0m                 \u001b[0;32mif\u001b[0m \u001b[0misinstance\u001b[0m\u001b[0;34m(\u001b[0m\u001b[0mresults\u001b[0m\u001b[0;34m[\u001b[0m\u001b[0mi\u001b[0m\u001b[0;34m]\u001b[0m\u001b[0;34m,\u001b[0m \u001b[0mABCSeries\u001b[0m\u001b[0;34m)\u001b[0m\u001b[0;34m:\u001b[0m\u001b[0;34m\u001b[0m\u001b[0;34m\u001b[0m\u001b[0m\n\u001b[1;32m   1083\u001b[0m                     \u001b[0;31m# If we have a view on v, we need to make a copy because\u001b[0m\u001b[0;34m\u001b[0m\u001b[0;34m\u001b[0m\u001b[0m\n",
      "\u001b[0;32m/tmp/ipykernel_6385/3553116342.py\u001b[0m in \u001b[0;36mcalcular_percentuais\u001b[0;34m(row)\u001b[0m\n\u001b[1;32m      1\u001b[0m \u001b[0;32mdef\u001b[0m \u001b[0mcalcular_percentuais\u001b[0m\u001b[0;34m(\u001b[0m\u001b[0mrow\u001b[0m\u001b[0;34m)\u001b[0m\u001b[0;34m:\u001b[0m\u001b[0;34m\u001b[0m\u001b[0;34m\u001b[0m\u001b[0m\n\u001b[1;32m      2\u001b[0m     return {\n\u001b[0;32m----> 3\u001b[0;31m         \u001b[0;34m'Brancos'\u001b[0m\u001b[0;34m:\u001b[0m \u001b[0;34m(\u001b[0m\u001b[0mrow\u001b[0m\u001b[0;34m[\u001b[0m\u001b[0;34m(\u001b[0m\u001b[0;34m'Escravos'\u001b[0m\u001b[0;34m,\u001b[0m \u001b[0;34m'Brancos'\u001b[0m\u001b[0;34m)\u001b[0m\u001b[0;34m]\u001b[0m \u001b[0;34m/\u001b[0m \u001b[0mrow\u001b[0m\u001b[0;34m[\u001b[0m\u001b[0;34m(\u001b[0m\u001b[0;34m'Total'\u001b[0m\u001b[0;34m,\u001b[0m \u001b[0;34m'Brancos'\u001b[0m\u001b[0;34m)\u001b[0m\u001b[0;34m]\u001b[0m\u001b[0;34m)\u001b[0m \u001b[0;34m*\u001b[0m \u001b[0;36m100\u001b[0m\u001b[0;34m,\u001b[0m\u001b[0;34m\u001b[0m\u001b[0;34m\u001b[0m\u001b[0m\n\u001b[0m\u001b[1;32m      4\u001b[0m         \u001b[0;34m'Pardos'\u001b[0m\u001b[0;34m:\u001b[0m \u001b[0;34m(\u001b[0m\u001b[0mrow\u001b[0m\u001b[0;34m[\u001b[0m\u001b[0;34m(\u001b[0m\u001b[0;34m'Escravos'\u001b[0m\u001b[0;34m,\u001b[0m \u001b[0;34m'Pardos'\u001b[0m\u001b[0;34m)\u001b[0m\u001b[0;34m]\u001b[0m \u001b[0;34m/\u001b[0m \u001b[0mrow\u001b[0m\u001b[0;34m[\u001b[0m\u001b[0;34m(\u001b[0m\u001b[0;34m'Total'\u001b[0m\u001b[0;34m,\u001b[0m \u001b[0;34m'Pardos'\u001b[0m\u001b[0;34m)\u001b[0m\u001b[0;34m]\u001b[0m\u001b[0;34m)\u001b[0m \u001b[0;34m*\u001b[0m \u001b[0;36m100\u001b[0m\u001b[0;34m,\u001b[0m\u001b[0;34m\u001b[0m\u001b[0;34m\u001b[0m\u001b[0m\n\u001b[1;32m      5\u001b[0m         \u001b[0;34m'Pretos'\u001b[0m\u001b[0;34m:\u001b[0m \u001b[0;34m(\u001b[0m\u001b[0mrow\u001b[0m\u001b[0;34m[\u001b[0m\u001b[0;34m(\u001b[0m\u001b[0;34m'Escravos'\u001b[0m\u001b[0;34m,\u001b[0m \u001b[0;34m'Pretos'\u001b[0m\u001b[0;34m)\u001b[0m\u001b[0;34m]\u001b[0m \u001b[0;34m/\u001b[0m \u001b[0mrow\u001b[0m\u001b[0;34m[\u001b[0m\u001b[0;34m(\u001b[0m\u001b[0;34m'Total'\u001b[0m\u001b[0;34m,\u001b[0m \u001b[0;34m'Pretos'\u001b[0m\u001b[0;34m)\u001b[0m\u001b[0;34m]\u001b[0m\u001b[0;34m)\u001b[0m \u001b[0;34m*\u001b[0m \u001b[0;36m100\u001b[0m\u001b[0;34m,\u001b[0m\u001b[0;34m\u001b[0m\u001b[0;34m\u001b[0m\u001b[0m\n",
      "\u001b[0;32m~/.local/lib/python3.10/site-packages/pandas/core/series.py\u001b[0m in \u001b[0;36m__getitem__\u001b[0;34m(self, key)\u001b[0m\n\u001b[1;32m   1151\u001b[0m             \u001b[0;32mreturn\u001b[0m \u001b[0mself\u001b[0m\u001b[0;34m.\u001b[0m\u001b[0m_get_rows_with_mask\u001b[0m\u001b[0;34m(\u001b[0m\u001b[0mkey\u001b[0m\u001b[0;34m)\u001b[0m\u001b[0;34m\u001b[0m\u001b[0;34m\u001b[0m\u001b[0m\n\u001b[1;32m   1152\u001b[0m \u001b[0;34m\u001b[0m\u001b[0m\n\u001b[0;32m-> 1153\u001b[0;31m         \u001b[0;32mreturn\u001b[0m \u001b[0mself\u001b[0m\u001b[0;34m.\u001b[0m\u001b[0m_get_with\u001b[0m\u001b[0;34m(\u001b[0m\u001b[0mkey\u001b[0m\u001b[0;34m)\u001b[0m\u001b[0;34m\u001b[0m\u001b[0;34m\u001b[0m\u001b[0m\n\u001b[0m\u001b[1;32m   1154\u001b[0m \u001b[0;34m\u001b[0m\u001b[0m\n\u001b[1;32m   1155\u001b[0m     \u001b[0;32mdef\u001b[0m \u001b[0m_get_with\u001b[0m\u001b[0;34m(\u001b[0m\u001b[0mself\u001b[0m\u001b[0;34m,\u001b[0m \u001b[0mkey\u001b[0m\u001b[0;34m)\u001b[0m\u001b[0;34m:\u001b[0m\u001b[0;34m\u001b[0m\u001b[0;34m\u001b[0m\u001b[0m\n",
      "\u001b[0;32m~/.local/lib/python3.10/site-packages/pandas/core/series.py\u001b[0m in \u001b[0;36m_get_with\u001b[0;34m(self, key)\u001b[0m\n\u001b[1;32m   1161\u001b[0m             )\n\u001b[1;32m   1162\u001b[0m         \u001b[0;32melif\u001b[0m \u001b[0misinstance\u001b[0m\u001b[0;34m(\u001b[0m\u001b[0mkey\u001b[0m\u001b[0;34m,\u001b[0m \u001b[0mtuple\u001b[0m\u001b[0;34m)\u001b[0m\u001b[0;34m:\u001b[0m\u001b[0;34m\u001b[0m\u001b[0;34m\u001b[0m\u001b[0m\n\u001b[0;32m-> 1163\u001b[0;31m             \u001b[0;32mreturn\u001b[0m \u001b[0mself\u001b[0m\u001b[0;34m.\u001b[0m\u001b[0m_get_values_tuple\u001b[0m\u001b[0;34m(\u001b[0m\u001b[0mkey\u001b[0m\u001b[0;34m)\u001b[0m\u001b[0;34m\u001b[0m\u001b[0;34m\u001b[0m\u001b[0m\n\u001b[0m\u001b[1;32m   1164\u001b[0m \u001b[0;34m\u001b[0m\u001b[0m\n\u001b[1;32m   1165\u001b[0m         \u001b[0;32melif\u001b[0m \u001b[0;32mnot\u001b[0m \u001b[0mis_list_like\u001b[0m\u001b[0;34m(\u001b[0m\u001b[0mkey\u001b[0m\u001b[0;34m)\u001b[0m\u001b[0;34m:\u001b[0m\u001b[0;34m\u001b[0m\u001b[0;34m\u001b[0m\u001b[0m\n",
      "\u001b[0;32m~/.local/lib/python3.10/site-packages/pandas/core/series.py\u001b[0m in \u001b[0;36m_get_values_tuple\u001b[0;34m(self, key)\u001b[0m\n\u001b[1;32m   1205\u001b[0m \u001b[0;34m\u001b[0m\u001b[0m\n\u001b[1;32m   1206\u001b[0m         \u001b[0;32mif\u001b[0m \u001b[0;32mnot\u001b[0m \u001b[0misinstance\u001b[0m\u001b[0;34m(\u001b[0m\u001b[0mself\u001b[0m\u001b[0;34m.\u001b[0m\u001b[0mindex\u001b[0m\u001b[0;34m,\u001b[0m \u001b[0mMultiIndex\u001b[0m\u001b[0;34m)\u001b[0m\u001b[0;34m:\u001b[0m\u001b[0;34m\u001b[0m\u001b[0;34m\u001b[0m\u001b[0m\n\u001b[0;32m-> 1207\u001b[0;31m             \u001b[0;32mraise\u001b[0m \u001b[0mKeyError\u001b[0m\u001b[0;34m(\u001b[0m\u001b[0;34m\"key of type tuple not found and not a MultiIndex\"\u001b[0m\u001b[0;34m)\u001b[0m\u001b[0;34m\u001b[0m\u001b[0;34m\u001b[0m\u001b[0m\n\u001b[0m\u001b[1;32m   1208\u001b[0m \u001b[0;34m\u001b[0m\u001b[0m\n\u001b[1;32m   1209\u001b[0m         \u001b[0;31m# If key is contained, would have returned by now\u001b[0m\u001b[0;34m\u001b[0m\u001b[0;34m\u001b[0m\u001b[0m\n",
      "\u001b[0;31mKeyError\u001b[0m: 'key of type tuple not found and not a MultiIndex'"
     ]
    }
   ],
   "source": [
    "def calcular_percentuais(row):\n",
    "    return {\n",
    "        'Brancos': (row[('Escravos', 'Brancos')] / row[('Total', 'Brancos')]) * 100,\n",
    "        'Pardos': (row[('Escravos', 'Pardos')] / row[('Total', 'Pardos')]) * 100,\n",
    "        'Pretos': (row[('Escravos', 'Pretos')] / row[('Total', 'Pretos')]) * 100,\n",
    "        'Caboclos': (row[('Escravos', 'Caboclos')] / row[('Total', 'Caboclos')]) * 100\n",
    "    }\n",
    "percentuais = df_concat.apply(calcular_percentuais, axis=1)\n",
    "percentuais"
   ]
  },
  {
   "cell_type": "code",
   "execution_count": null,
   "metadata": {},
   "outputs": [],
   "source": []
  },
  {
   "cell_type": "markdown",
   "metadata": {},
   "source": [
    "## Transposta"
   ]
  },
  {
   "cell_type": "code",
   "execution_count": null,
   "metadata": {},
   "outputs": [],
   "source": [
    "df_transpose = racas.reset_index(drop=True).transpose()\n",
    "df_transpose"
   ]
  },
  {
   "cell_type": "code",
   "execution_count": null,
   "metadata": {},
   "outputs": [],
   "source": [
    "trans_header = df_transpose.iloc[0]\n",
    "df_transpose.columns = trans_header\n",
    "df_transpose"
   ]
  },
  {
   "cell_type": "code",
   "execution_count": null,
   "metadata": {},
   "outputs": [],
   "source": [
    "df_transpose.drop(\"Condições\", inplace=True)\n",
    "df_transpose"
   ]
  },
  {
   "cell_type": "code",
   "execution_count": null,
   "metadata": {},
   "outputs": [],
   "source": [
    "df_transpose.index"
   ]
  },
  {
   "cell_type": "code",
   "execution_count": null,
   "metadata": {},
   "outputs": [],
   "source": [
    "df_transpose.columns"
   ]
  },
  {
   "cell_type": "code",
   "execution_count": null,
   "metadata": {},
   "outputs": [],
   "source": [
    "df_transpose = df_transpose.rename_axis(\"Condições\")\n",
    "df_transpose.index"
   ]
  },
  {
   "cell_type": "code",
   "execution_count": null,
   "metadata": {},
   "outputs": [],
   "source": [
    "df_transpose.columns.name = None\n",
    "print(df_transpose.columns)\n",
    "df_transpose"
   ]
  },
  {
   "cell_type": "code",
   "execution_count": null,
   "metadata": {},
   "outputs": [],
   "source": [
    "df_transpose.reset_index(inplace=True)\n",
    "df_transpose"
   ]
  },
  {
   "cell_type": "code",
   "execution_count": null,
   "metadata": {},
   "outputs": [],
   "source": [
    "transpose_col = ['Condições', 'Livres', 'Livres', 'Livres', 'Escravos', 'Escravos', 'Escravos', 'Todos']\n",
    "df_transpose.columns = transpose_col\n",
    "df_transpose"
   ]
  },
  {
   "cell_type": "code",
   "execution_count": null,
   "metadata": {},
   "outputs": [],
   "source": [
    "df_transpose.to_dict('records')"
   ]
  },
  {
   "cell_type": "markdown",
   "metadata": {},
   "source": [
    "## Multi index"
   ]
  },
  {
   "cell_type": "code",
   "execution_count": null,
   "metadata": {},
   "outputs": [],
   "source": [
    "columns = pd.MultiIndex.from_tuples([\n",
    "    ('Condições', 'Sexos'),\n",
    "    ('Livres', 'Homens'),\n",
    "    ('Livres', 'Mulheres'),\n",
    "    ('Livres', 'Soma'),\n",
    "    ('Escravos', 'Homens'),\n",
    "    ('Escravos', 'Mulheres'),\n",
    "    ('Escravos', 'Soma'),\n",
    "    ('Todos', 'Soma geral')\n",
    "])\n",
    "\n",
    "df_transpose.columns = columns\n",
    "df_transpose"
   ]
  },
  {
   "cell_type": "code",
   "execution_count": null,
   "metadata": {},
   "outputs": [],
   "source": [
    "df_transpose.columns"
   ]
  },
  {
   "cell_type": "code",
   "execution_count": null,
   "metadata": {},
   "outputs": [],
   "source": [
    "df_transpose = df_transpose.iloc[1:].copy() # Remove a linha de cabeçalho extra\n",
    "df_transpose"
   ]
  },
  {
   "cell_type": "markdown",
   "metadata": {},
   "source": [
    "## Soma de homens"
   ]
  },
  {
   "cell_type": "code",
   "execution_count": null,
   "metadata": {},
   "outputs": [],
   "source": [
    "# Converter as colunas 'Homens' para tipo numérico\n",
    "homens_cols = df_transpose.loc[:, [('Livres', 'Homens'), ('Escravos', 'Homens')]].apply(pd.to_numeric)\n",
    "\n",
    "# Somar os valores\n",
    "soma_homens = homens_cols.sum(axis=1)\n",
    "soma_homens"
   ]
  },
  {
   "cell_type": "markdown",
   "metadata": {},
   "source": [
    "## Soma de homens por groupby"
   ]
  },
  {
   "cell_type": "code",
   "execution_count": null,
   "metadata": {},
   "outputs": [],
   "source": [
    "df_copy = df_transpose.copy()\n",
    "df_copy"
   ]
  },
  {
   "cell_type": "code",
   "execution_count": null,
   "metadata": {},
   "outputs": [],
   "source": [
    "df_copy.columns"
   ]
  },
  {
   "cell_type": "markdown",
   "metadata": {},
   "source": [
    "Uso a coluna `('Condições', 'Sexos'),` como `index`"
   ]
  },
  {
   "cell_type": "code",
   "execution_count": null,
   "metadata": {},
   "outputs": [],
   "source": [
    "df_copy.set_index(('Condições', 'Sexos'), inplace=True)\n",
    "print(df_copy.columns)\n",
    "df_copy"
   ]
  },
  {
   "cell_type": "code",
   "execution_count": null,
   "metadata": {},
   "outputs": [],
   "source": [
    "# df_copy.to_dict('records')"
   ]
  },
  {
   "cell_type": "markdown",
   "metadata": {},
   "source": [
    "Uma vez que setei `('Condições', 'Sexos')` como ``index``, posso agora usá-los como categoria para o ``groupby``"
   ]
  },
  {
   "cell_type": "code",
   "execution_count": null,
   "metadata": {},
   "outputs": [],
   "source": [
    "# converte de string para int64\n",
    "df_copy = df_copy.apply(pd.to_numeric)\n",
    "\n",
    "# Resetar o índice para inserí-lo como a coluna categorias no DataFrame\n",
    "df_reset = df_copy.reset_index()\n",
    "\n",
    "# Criar uma coluna de categorias\n",
    "df_reset['Categoria'] = df_reset[('Condições', 'Sexos')]\n",
    "\n",
    "# Agrupar por 'Categoria' e somar os valores das colunas 'Homens'\n",
    "grouped = df_reset.groupby('Categoria').agg({\n",
    "    ('Livres', 'Homens'): 'sum',\n",
    "    ('Escravos', 'Homens'): 'sum'\n",
    "})\n",
    "\n",
    "# Somar os valores totais de Homens por Categoria\n",
    "grouped['Total Homens'] = grouped.sum(axis=1) # axis=1 executa por coluna\n",
    "\n",
    "print(grouped)"
   ]
  },
  {
   "cell_type": "markdown",
   "metadata": {},
   "source": [
    "### Como usar groupby"
   ]
  },
  {
   "cell_type": "code",
   "execution_count": null,
   "metadata": {},
   "outputs": [],
   "source": [
    "group_names = [\"Condições\", \"Sexos\"]\n",
    "\n",
    "group_cond = racas.groupby(\"Condições\", as_index=False)\n",
    "print(group_cond.ngroups)\n",
    "group_sex = racas.groupby(\"Sexos\", as_index=False)\n",
    "print(group_sex)"
   ]
  },
  {
   "cell_type": "code",
   "execution_count": null,
   "metadata": {},
   "outputs": [],
   "source": [
    "g1 = group_cond.get_group(\"Livres\")\n",
    "g1"
   ]
  },
  {
   "cell_type": "code",
   "execution_count": null,
   "metadata": {},
   "outputs": [],
   "source": [
    "g2 = group_cond.get_group(\"Escravos\")\n",
    "g2"
   ]
  },
  {
   "cell_type": "code",
   "execution_count": null,
   "metadata": {},
   "outputs": [],
   "source": [
    "df_g_cond = pd.concat([g1, g2], axis=0)\n",
    "df_g_cond"
   ]
  },
  {
   "cell_type": "markdown",
   "metadata": {},
   "source": [
    "## Função generalizada"
   ]
  },
  {
   "cell_type": "code",
   "execution_count": null,
   "metadata": {},
   "outputs": [],
   "source": [
    "def clean_header(df):\n",
    "    # fatia a linha do novo header\n",
    "    new_header = df.iloc[1] \n",
    "    df.columns = new_header \n",
    "    \n",
    "    # apaga as linhas repetidas\n",
    "    df = df[2:]\n",
    "    return df\n",
    "\n",
    "def prepoc_index_cols(df):\n",
    "    # Inverte linha com coluna\n",
    "    df_transpose = df.reset_index(drop=True).transpose()\n",
    "    \n",
    "    # Pega o a linha de 'Condições' para header mais externo\n",
    "    trans_header = df_transpose.iloc[0] \n",
    "    df_transpose.columns = trans_header\n",
    "    \n",
    "    # Remove 'Condições' antiga\n",
    "    df_transpose.drop(\"Condições\", inplace=True)\n",
    "    \n",
    "    # Reorganiza index e coluna devido a transposta \n",
    "    df_transpose = df_transpose.rename_axis(\"Condições\") \n",
    "    df_transpose.columns.name = None\n",
    "\n",
    "    # Renomeia as colunas do df, talvez deva receber essa lista externa\n",
    "    transpose_col = ['Condições', 'Livres', 'Livres', 'Livres', 'Escravos', 'Escravos', 'Escravos', 'Todos']\n",
    "    df_transpose.columns = transpose_col\n",
    "\n",
    "    # Usa tuplas para facilitar a seleção\n",
    "    columns = pd.MultiIndex.from_tuples([\n",
    "        ('Condições', 'Sexos'),\n",
    "        ('Livres', 'Homens'),\n",
    "        ('Livres', 'Mulheres'),\n",
    "        ('Livres', 'Soma'),\n",
    "        ('Escravos', 'Homens'),\n",
    "        ('Escravos', 'Mulheres'),\n",
    "        ('Escravos', 'Soma'),\n",
    "        ('Todos', 'Soma geral')\n",
    "    ])\n",
    "\n",
    "    df_transpose.columns = columns\n",
    "    \n",
    "    # Remove a linha de cabeçalho extra\n",
    "    df_transpose = df_transpose.iloc[1:].copy() \n",
    "\n",
    "def calc_sum_by_cond_sex(df, each_sex:str):\n",
    "    # converte de string para int64\n",
    "    df = df.apply(pd.to_numeric)\n",
    "    \n",
    "    # Reseta o índice para inserí-lo como nova coluna\n",
    "    df_reset = df.reset_index()\n",
    "    \n",
    "    # Criar uma coluna de categorias e insere o antigo index\n",
    "    df_reset['Categoria'] = df_reset[('Condições', 'Sexos')]\n",
    "    \n",
    "    # Agrupa por 'Categoria' e agrega os valores das colunas 'Homens' por sua soma\n",
    "    grouped = df_reset.groupby('Categoria').agg({\n",
    "        ('Livres', 'Homens'): 'sum',\n",
    "        ('Escravos', 'Homens'): 'sum'\n",
    "    })\n",
    "    \n",
    "    # Somar os valores totais de Homens por Categoria\n",
    "    grouped['Total Homens'] = grouped.sum(axis=1) # axis=1 executa por coluna\n",
    "    \n",
    "    print(grouped)\n",
    "    return grouped"
   ]
  },
  {
   "cell_type": "markdown",
   "metadata": {},
   "source": [
    "# estados civis"
   ]
  },
  {
   "cell_type": "code",
   "execution_count": null,
   "metadata": {},
   "outputs": [],
   "source": [
    "estados_civis = df[['Unnamed: 0','Unnamed: 1', 'Unnamed: 7', 'Unnamed: 8', 'Unnamed: 9']]\n",
    "print(estados_civis.index)\n",
    "print(estados_civis.columns)\n",
    "estados_civis"
   ]
  },
  {
   "cell_type": "code",
   "execution_count": null,
   "metadata": {},
   "outputs": [],
   "source": [
    "new_header = estados_civis.iloc[1]\n",
    "estados_civis.columns = new_header\n",
    "estados_civis = estados_civis[2:]\n",
    "print(estados_civis.shape)\n",
    "estados_civis"
   ]
  },
  {
   "cell_type": "code",
   "execution_count": null,
   "metadata": {},
   "outputs": [],
   "source": [
    "print(estados_civis.index)\n",
    "print(estados_civis.columns)\n",
    "estados_civis.reset_index(drop=True, inplace=True)\n",
    "estados_civis.transpose()"
   ]
  },
  {
   "cell_type": "markdown",
   "metadata": {},
   "source": [
    "# religião"
   ]
  },
  {
   "cell_type": "code",
   "execution_count": null,
   "metadata": {},
   "outputs": [],
   "source": [
    "religiao = df[['Unnamed: 0', 'Unnamed: 1', 'Unnamed: 10', 'Unnamed: 11']]\n",
    "religiao.head()"
   ]
  },
  {
   "cell_type": "code",
   "execution_count": null,
   "metadata": {},
   "outputs": [],
   "source": [
    "religiao_header = religiao.iloc[1]\n",
    "religiao.columns = religiao_header\n",
    "religiao = religiao[2:]\n",
    "religiao.head()"
   ]
  },
  {
   "cell_type": "code",
   "execution_count": null,
   "metadata": {},
   "outputs": [],
   "source": []
  },
  {
   "cell_type": "markdown",
   "metadata": {},
   "source": [
    "# nacionalidaes"
   ]
  },
  {
   "cell_type": "code",
   "execution_count": null,
   "metadata": {},
   "outputs": [],
   "source": [
    "nacionalidades = df[['Unnamed: 0', 'Unnamed: 1', 'Unnamed: 12', 'Unnamed: 13']]\n",
    "nacionalidades.head()"
   ]
  },
  {
   "cell_type": "code",
   "execution_count": null,
   "metadata": {},
   "outputs": [],
   "source": [
    "nacionalidades_header = nacionalidades.iloc[1]\n",
    "nacionalidades.columns = nacionalidades_header\n",
    "nacionalidades = nacionalidades[2:]\n",
    "nacionalidades.head()"
   ]
  },
  {
   "cell_type": "markdown",
   "metadata": {},
   "source": [
    "# Instrução"
   ]
  },
  {
   "cell_type": "code",
   "execution_count": null,
   "metadata": {},
   "outputs": [],
   "source": [
    "instrucao = df[['Unnamed: 0', 'Unnamed: 1', 'Instrução', 'Unnamed: 15', 'Unnamed: 16', 'Unnamed: 17', 'Unnamed: 18']]\n",
    "instrucao.head()"
   ]
  },
  {
   "cell_type": "code",
   "execution_count": null,
   "metadata": {},
   "outputs": [],
   "source": [
    "instrucao_header = instrucao.iloc[0]\n",
    "instrucao.columns = instrucao_header\n",
    "instrucao = instrucao[1:]\n",
    "instrucao.head()"
   ]
  },
  {
   "cell_type": "markdown",
   "metadata": {},
   "source": [
    "# Deficientes "
   ]
  },
  {
   "cell_type": "code",
   "execution_count": null,
   "metadata": {},
   "outputs": [],
   "source": [
    "deficientes = df[['Unnamed: 0', 'Unnamed: 1', 'Unnamed: 19', 'Unnamed: 20', 'Unnamed: 21', 'Unnamed: 22', 'Unnamed: 23']]\n",
    "deficientes.head()"
   ]
  },
  {
   "cell_type": "code",
   "execution_count": null,
   "metadata": {},
   "outputs": [],
   "source": [
    "new_header = deficientes.iloc[1]\n",
    "deficientes.columns = new_header\n",
    "deficientes = deficientes[2:]\n",
    "deficientes.head()"
   ]
  },
  {
   "cell_type": "markdown",
   "metadata": {},
   "source": [
    "# Ausentes "
   ]
  },
  {
   "cell_type": "code",
   "execution_count": null,
   "metadata": {},
   "outputs": [],
   "source": [
    "ausentes = df[['Unnamed: 0', 'Unnamed: 1', 'Unnamed: 24']]\n",
    "ausentes.head()"
   ]
  },
  {
   "cell_type": "code",
   "execution_count": null,
   "metadata": {},
   "outputs": [],
   "source": [
    "new_header = ausentes.iloc[1]\n",
    "ausentes.columns = new_header\n",
    "ausentes = ausentes[2:]\n",
    "ausentes.head()"
   ]
  },
  {
   "cell_type": "code",
   "execution_count": null,
   "metadata": {},
   "outputs": [],
   "source": [
    "transeuntes = df[['Unnamed: 0', 'Unnamed: 1', 'Unnamed: 25']]\n",
    "transeuntes.head()"
   ]
  },
  {
   "cell_type": "code",
   "execution_count": null,
   "metadata": {},
   "outputs": [],
   "source": [
    "new_header = transeuntes.iloc[1]\n",
    "transeuntes.columns = new_header\n",
    "transeuntes = transeuntes[2:]\n",
    "transeuntes.head()"
   ]
  },
  {
   "cell_type": "code",
   "execution_count": null,
   "metadata": {},
   "outputs": [],
   "source": [
    "casas = df[['Unnamed: 1', 'Unnamed: 26', 'Unnamed: 27']]\n",
    "casas.head()"
   ]
  },
  {
   "cell_type": "code",
   "execution_count": null,
   "metadata": {},
   "outputs": [],
   "source": [
    "new_header = casas.iloc[1]\n",
    "casas.columns = new_header\n",
    "casas = casas[2:]\n",
    "casas.head()"
   ]
  },
  {
   "cell_type": "code",
   "execution_count": null,
   "metadata": {},
   "outputs": [],
   "source": [
    "fogos = df[['Unnamed: 1', 'Unnamed: 28']]\n",
    "fogos.head()"
   ]
  },
  {
   "cell_type": "code",
   "execution_count": null,
   "metadata": {},
   "outputs": [],
   "source": [
    "new_header = fogos.iloc[1]\n",
    "fogos.columns = new_header\n",
    "fogos = fogos[2:]\n",
    "fogos.head()"
   ]
  },
  {
   "cell_type": "code",
   "execution_count": null,
   "metadata": {},
   "outputs": [],
   "source": []
  }
 ],
 "metadata": {
  "kernelspec": {
   "display_name": "env",
   "language": "python",
   "name": "python3"
  },
  "language_info": {
   "codemirror_mode": {
    "name": "ipython",
    "version": 3
   },
   "file_extension": ".py",
   "mimetype": "text/x-python",
   "name": "python",
   "nbconvert_exporter": "python",
   "pygments_lexer": "ipython3",
   "version": "3.10.12"
  }
 },
 "nbformat": 4,
 "nbformat_minor": 2
}
