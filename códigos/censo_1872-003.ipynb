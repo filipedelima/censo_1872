{
 "cells": [
  {
   "cell_type": "code",
   "execution_count": 530,
   "metadata": {},
   "outputs": [],
   "source": [
    "import pandas as pd\n",
    "import numpy as np\n",
    "import pathfinder as pf"
   ]
  },
  {
   "cell_type": "markdown",
   "metadata": {},
   "source": [
    "# Parte 1: População geral"
   ]
  },
  {
   "cell_type": "code",
   "execution_count": 531,
   "metadata": {},
   "outputs": [],
   "source": [
    "filename = \"censo_1872-003_p1.csv\"\n",
    "path = pf.find_file(filename)\n",
    "df = pd.read_csv(path)"
   ]
  },
  {
   "cell_type": "code",
   "execution_count": 532,
   "metadata": {},
   "outputs": [
    {
     "data": {
      "text/html": [
       "<div>\n",
       "<style scoped>\n",
       "    .dataframe tbody tr th:only-of-type {\n",
       "        vertical-align: middle;\n",
       "    }\n",
       "\n",
       "    .dataframe tbody tr th {\n",
       "        vertical-align: top;\n",
       "    }\n",
       "\n",
       "    .dataframe thead th {\n",
       "        text-align: right;\n",
       "    }\n",
       "</style>\n",
       "<table border=\"1\" class=\"dataframe\">\n",
       "  <thead>\n",
       "    <tr style=\"text-align: right;\">\n",
       "      <th></th>\n",
       "      <th>Unnamed: 0</th>\n",
       "      <th>Unnamed: 1</th>\n",
       "      <th>Unnamed: 2</th>\n",
       "      <th>Unnamed: 3</th>\n",
       "      <th>Unnamed: 4</th>\n",
       "      <th>Unnamed: 5</th>\n",
       "      <th>Unnamed: 6</th>\n",
       "      <th>Unnamed: 7</th>\n",
       "      <th>Unnamed: 8</th>\n",
       "      <th>Unnamed: 9</th>\n",
       "      <th>...</th>\n",
       "      <th>Unnamed: 30</th>\n",
       "      <th>Unnamed: 31</th>\n",
       "      <th>Unnamed: 32</th>\n",
       "      <th>Unnamed: 33</th>\n",
       "      <th>Unnamed: 34</th>\n",
       "      <th>Unnamed: 35</th>\n",
       "      <th>Unnamed: 36</th>\n",
       "      <th>Unnamed: 37</th>\n",
       "      <th>Unnamed: 38</th>\n",
       "      <th>Unnamed: 39</th>\n",
       "    </tr>\n",
       "  </thead>\n",
       "  <tbody>\n",
       "    <tr>\n",
       "      <th>0</th>\n",
       "      <td>NaN</td>\n",
       "      <td>NaN</td>\n",
       "      <td>NaN</td>\n",
       "      <td>NaN</td>\n",
       "      <td>Estados Civis</td>\n",
       "      <td>NaN</td>\n",
       "      <td>NaN</td>\n",
       "      <td>NaN</td>\n",
       "      <td>NaN</td>\n",
       "      <td>NaN</td>\n",
       "      <td>...</td>\n",
       "      <td>População escolar de 6 a 15 anos</td>\n",
       "      <td>NaN</td>\n",
       "      <td>NaN</td>\n",
       "      <td>NaN</td>\n",
       "      <td>NaN</td>\n",
       "      <td>NaN</td>\n",
       "      <td>NaN</td>\n",
       "      <td>NaN</td>\n",
       "      <td>NaN</td>\n",
       "      <td>NaN</td>\n",
       "    </tr>\n",
       "    <tr>\n",
       "      <th>1</th>\n",
       "      <td>NaN</td>\n",
       "      <td>Sexos</td>\n",
       "      <td>NaN</td>\n",
       "      <td>NaN</td>\n",
       "      <td>dos Homens</td>\n",
       "      <td>NaN</td>\n",
       "      <td>NaN</td>\n",
       "      <td>das Mulheres</td>\n",
       "      <td>NaN</td>\n",
       "      <td>NaN</td>\n",
       "      <td>...</td>\n",
       "      <td>Meninos</td>\n",
       "      <td>NaN</td>\n",
       "      <td>NaN</td>\n",
       "      <td>Meninas</td>\n",
       "      <td>NaN</td>\n",
       "      <td>NaN</td>\n",
       "      <td>Casas</td>\n",
       "      <td>NaN</td>\n",
       "      <td>NaN</td>\n",
       "      <td>NaN</td>\n",
       "    </tr>\n",
       "    <tr>\n",
       "      <th>2</th>\n",
       "      <td>Províncias e Município Neutro</td>\n",
       "      <td>Homens</td>\n",
       "      <td>Mulheres</td>\n",
       "      <td>Total</td>\n",
       "      <td>Solteiros</td>\n",
       "      <td>Casados</td>\n",
       "      <td>Viúvos</td>\n",
       "      <td>Solteiras</td>\n",
       "      <td>Casadas</td>\n",
       "      <td>Viúvas</td>\n",
       "      <td>...</td>\n",
       "      <td>Frequentam escolas</td>\n",
       "      <td>Não frequentam</td>\n",
       "      <td>Total</td>\n",
       "      <td>Frequentam escolas</td>\n",
       "      <td>Não frequentam</td>\n",
       "      <td>Total</td>\n",
       "      <td>Habitadas</td>\n",
       "      <td>Desabitadas</td>\n",
       "      <td>Total</td>\n",
       "      <td>Número de fogos</td>\n",
       "    </tr>\n",
       "    <tr>\n",
       "      <th>3</th>\n",
       "      <td>Amazonas</td>\n",
       "      <td>30983</td>\n",
       "      <td>2564</td>\n",
       "      <td>56631</td>\n",
       "      <td>24959</td>\n",
       "      <td>5105</td>\n",
       "      <td>919</td>\n",
       "      <td>19214</td>\n",
       "      <td>4714</td>\n",
       "      <td>1720</td>\n",
       "      <td>...</td>\n",
       "      <td>824</td>\n",
       "      <td>5056</td>\n",
       "      <td>5880</td>\n",
       "      <td>371</td>\n",
       "      <td>3269</td>\n",
       "      <td>3640</td>\n",
       "      <td>7661</td>\n",
       "      <td>229</td>\n",
       "      <td>7890</td>\n",
       "      <td>7811</td>\n",
       "    </tr>\n",
       "    <tr>\n",
       "      <th>4</th>\n",
       "      <td>Pará</td>\n",
       "      <td>128589</td>\n",
       "      <td>11919</td>\n",
       "      <td>247779</td>\n",
       "      <td>94848</td>\n",
       "      <td>28935</td>\n",
       "      <td>4806</td>\n",
       "      <td>86825</td>\n",
       "      <td>26280</td>\n",
       "      <td>6085</td>\n",
       "      <td>...</td>\n",
       "      <td>5768</td>\n",
       "      <td>25753</td>\n",
       "      <td>31521</td>\n",
       "      <td>3441</td>\n",
       "      <td>25020</td>\n",
       "      <td>28461</td>\n",
       "      <td>38978</td>\n",
       "      <td>2077</td>\n",
       "      <td>41055</td>\n",
       "      <td>39521</td>\n",
       "    </tr>\n",
       "    <tr>\n",
       "      <th>5</th>\n",
       "      <td>Maranhão</td>\n",
       "      <td>141942</td>\n",
       "      <td>14215</td>\n",
       "      <td>284101</td>\n",
       "      <td>103283</td>\n",
       "      <td>33644</td>\n",
       "      <td>5015</td>\n",
       "      <td>102302</td>\n",
       "      <td>32337</td>\n",
       "      <td>7520</td>\n",
       "      <td>...</td>\n",
       "      <td>8739</td>\n",
       "      <td>28142</td>\n",
       "      <td>36881</td>\n",
       "      <td>4844</td>\n",
       "      <td>29567</td>\n",
       "      <td>34411</td>\n",
       "      <td>47166</td>\n",
       "      <td>1405</td>\n",
       "      <td>48571</td>\n",
       "      <td>49282</td>\n",
       "    </tr>\n",
       "    <tr>\n",
       "      <th>6</th>\n",
       "      <td>Piauí</td>\n",
       "      <td>90322</td>\n",
       "      <td>8810</td>\n",
       "      <td>178427</td>\n",
       "      <td>63294</td>\n",
       "      <td>23323</td>\n",
       "      <td>3705</td>\n",
       "      <td>59547</td>\n",
       "      <td>23371</td>\n",
       "      <td>5187</td>\n",
       "      <td>...</td>\n",
       "      <td>1777</td>\n",
       "      <td>15960</td>\n",
       "      <td>17737</td>\n",
       "      <td>1024</td>\n",
       "      <td>16968</td>\n",
       "      <td>17992</td>\n",
       "      <td>29208</td>\n",
       "      <td>223</td>\n",
       "      <td>29431</td>\n",
       "      <td>30770</td>\n",
       "    </tr>\n",
       "    <tr>\n",
       "      <th>7</th>\n",
       "      <td>Ceará</td>\n",
       "      <td>350906</td>\n",
       "      <td>33886</td>\n",
       "      <td>689773</td>\n",
       "      <td>241692</td>\n",
       "      <td>99915</td>\n",
       "      <td>9299</td>\n",
       "      <td>224509</td>\n",
       "      <td>99849</td>\n",
       "      <td>14509</td>\n",
       "      <td>...</td>\n",
       "      <td>10021</td>\n",
       "      <td>83808</td>\n",
       "      <td>93829</td>\n",
       "      <td>5399</td>\n",
       "      <td>85087</td>\n",
       "      <td>90486</td>\n",
       "      <td>99901</td>\n",
       "      <td>2989</td>\n",
       "      <td>102890</td>\n",
       "      <td>100207</td>\n",
       "    </tr>\n",
       "    <tr>\n",
       "      <th>8</th>\n",
       "      <td>Rio Grande do Norte</td>\n",
       "      <td>112721</td>\n",
       "      <td>10823</td>\n",
       "      <td>220959</td>\n",
       "      <td>80803</td>\n",
       "      <td>26832</td>\n",
       "      <td>5086</td>\n",
       "      <td>75915</td>\n",
       "      <td>26735</td>\n",
       "      <td>5588</td>\n",
       "      <td>...</td>\n",
       "      <td>2643</td>\n",
       "      <td>18662</td>\n",
       "      <td>21305</td>\n",
       "      <td>2058</td>\n",
       "      <td>19857</td>\n",
       "      <td>21915</td>\n",
       "      <td>36710</td>\n",
       "      <td>706</td>\n",
       "      <td>37416</td>\n",
       "      <td>37320</td>\n",
       "    </tr>\n",
       "    <tr>\n",
       "      <th>9</th>\n",
       "      <td>Paraíba</td>\n",
       "      <td>179433</td>\n",
       "      <td>17526</td>\n",
       "      <td>354700</td>\n",
       "      <td>119403</td>\n",
       "      <td>53474</td>\n",
       "      <td>6556</td>\n",
       "      <td>112332</td>\n",
       "      <td>53274</td>\n",
       "      <td>9661</td>\n",
       "      <td>...</td>\n",
       "      <td>6630</td>\n",
       "      <td>44061</td>\n",
       "      <td>50691</td>\n",
       "      <td>3894</td>\n",
       "      <td>45830</td>\n",
       "      <td>49724</td>\n",
       "      <td>43767</td>\n",
       "      <td>522</td>\n",
       "      <td>44289</td>\n",
       "      <td>44438</td>\n",
       "    </tr>\n",
       "  </tbody>\n",
       "</table>\n",
       "<p>10 rows × 40 columns</p>\n",
       "</div>"
      ],
      "text/plain": [
       "                      Unnamed: 0 Unnamed: 1 Unnamed: 2 Unnamed: 3  \\\n",
       "0                            NaN        NaN        NaN        NaN   \n",
       "1                            NaN      Sexos        NaN        NaN   \n",
       "2  Províncias e Município Neutro     Homens   Mulheres      Total   \n",
       "3                       Amazonas      30983       2564      56631   \n",
       "4                           Pará     128589      11919     247779   \n",
       "5                       Maranhão     141942      14215     284101   \n",
       "6                          Piauí      90322       8810     178427   \n",
       "7                          Ceará     350906      33886     689773   \n",
       "8            Rio Grande do Norte     112721      10823     220959   \n",
       "9                        Paraíba     179433      17526     354700   \n",
       "\n",
       "      Unnamed: 4 Unnamed: 5 Unnamed: 6    Unnamed: 7 Unnamed: 8 Unnamed: 9  \\\n",
       "0  Estados Civis        NaN        NaN           NaN        NaN        NaN   \n",
       "1     dos Homens        NaN        NaN  das Mulheres        NaN        NaN   \n",
       "2      Solteiros    Casados     Viúvos     Solteiras    Casadas     Viúvas   \n",
       "3          24959       5105        919         19214       4714       1720   \n",
       "4          94848      28935       4806         86825      26280       6085   \n",
       "5         103283      33644       5015        102302      32337       7520   \n",
       "6          63294      23323       3705         59547      23371       5187   \n",
       "7         241692      99915       9299        224509      99849      14509   \n",
       "8          80803      26832       5086         75915      26735       5588   \n",
       "9         119403      53474       6556        112332      53274       9661   \n",
       "\n",
       "   ...                       Unnamed: 30     Unnamed: 31 Unnamed: 32  \\\n",
       "0  ...  População escolar de 6 a 15 anos             NaN         NaN   \n",
       "1  ...                           Meninos             NaN         NaN   \n",
       "2  ...                Frequentam escolas  Não frequentam       Total   \n",
       "3  ...                               824            5056        5880   \n",
       "4  ...                              5768           25753       31521   \n",
       "5  ...                              8739           28142       36881   \n",
       "6  ...                              1777           15960       17737   \n",
       "7  ...                             10021           83808       93829   \n",
       "8  ...                              2643           18662       21305   \n",
       "9  ...                              6630           44061       50691   \n",
       "\n",
       "          Unnamed: 33     Unnamed: 34 Unnamed: 35 Unnamed: 36  Unnamed: 37  \\\n",
       "0                 NaN             NaN         NaN         NaN          NaN   \n",
       "1             Meninas             NaN         NaN       Casas          NaN   \n",
       "2  Frequentam escolas  Não frequentam       Total   Habitadas  Desabitadas   \n",
       "3                 371            3269        3640        7661          229   \n",
       "4                3441           25020       28461       38978         2077   \n",
       "5                4844           29567       34411       47166         1405   \n",
       "6                1024           16968       17992       29208          223   \n",
       "7                5399           85087       90486       99901         2989   \n",
       "8                2058           19857       21915       36710          706   \n",
       "9                3894           45830       49724       43767          522   \n",
       "\n",
       "  Unnamed: 38      Unnamed: 39  \n",
       "0         NaN              NaN  \n",
       "1         NaN              NaN  \n",
       "2       Total  Número de fogos  \n",
       "3        7890             7811  \n",
       "4       41055            39521  \n",
       "5       48571            49282  \n",
       "6       29431            30770  \n",
       "7      102890           100207  \n",
       "8       37416            37320  \n",
       "9       44289            44438  \n",
       "\n",
       "[10 rows x 40 columns]"
      ]
     },
     "execution_count": 532,
     "metadata": {},
     "output_type": "execute_result"
    }
   ],
   "source": [
    "df.head(10)"
   ]
  },
  {
   "cell_type": "code",
   "execution_count": 533,
   "metadata": {},
   "outputs": [
    {
     "name": "stdout",
     "output_type": "stream",
     "text": [
      "Index(['Unnamed: 0', 'Unnamed: 1', 'Unnamed: 2', 'Unnamed: 3', 'Unnamed: 4',\n",
      "       'Unnamed: 5', 'Unnamed: 6', 'Unnamed: 7', 'Unnamed: 8', 'Unnamed: 9',\n",
      "       'Unnamed: 10', 'Unnamed: 11', 'Unnamed: 12', 'Unnamed: 13',\n",
      "       'Unnamed: 14', 'Unnamed: 15', 'Unnamed: 16', 'Unnamed: 17',\n",
      "       'Unnamed: 18', 'Unnamed: 19', 'Unnamed: 20', 'Unnamed: 21',\n",
      "       'Unnamed: 22', 'Unnamed: 23', 'Unnamed: 24', 'Unnamed: 25', 'Instrução',\n",
      "       'Unnamed: 27', 'Unnamed: 28', 'Unnamed: 29', 'Unnamed: 30',\n",
      "       'Unnamed: 31', 'Unnamed: 32', 'Unnamed: 33', 'Unnamed: 34',\n",
      "       'Unnamed: 35', 'Unnamed: 36', 'Unnamed: 37', 'Unnamed: 38',\n",
      "       'Unnamed: 39'],\n",
      "      dtype='object')\n"
     ]
    }
   ],
   "source": [
    "print(df.columns)"
   ]
  },
  {
   "cell_type": "markdown",
   "metadata": {},
   "source": [
    "## Gêneros"
   ]
  },
  {
   "cell_type": "code",
   "execution_count": 534,
   "metadata": {},
   "outputs": [
    {
     "data": {
      "text/html": [
       "<div>\n",
       "<style scoped>\n",
       "    .dataframe tbody tr th:only-of-type {\n",
       "        vertical-align: middle;\n",
       "    }\n",
       "\n",
       "    .dataframe tbody tr th {\n",
       "        vertical-align: top;\n",
       "    }\n",
       "\n",
       "    .dataframe thead th {\n",
       "        text-align: right;\n",
       "    }\n",
       "</style>\n",
       "<table border=\"1\" class=\"dataframe\">\n",
       "  <thead>\n",
       "    <tr style=\"text-align: right;\">\n",
       "      <th></th>\n",
       "      <th>Unnamed: 0</th>\n",
       "      <th>Unnamed: 1</th>\n",
       "      <th>Unnamed: 2</th>\n",
       "      <th>Unnamed: 3</th>\n",
       "    </tr>\n",
       "  </thead>\n",
       "  <tbody>\n",
       "    <tr>\n",
       "      <th>0</th>\n",
       "      <td>NaN</td>\n",
       "      <td>NaN</td>\n",
       "      <td>NaN</td>\n",
       "      <td>NaN</td>\n",
       "    </tr>\n",
       "    <tr>\n",
       "      <th>1</th>\n",
       "      <td>NaN</td>\n",
       "      <td>Sexos</td>\n",
       "      <td>NaN</td>\n",
       "      <td>NaN</td>\n",
       "    </tr>\n",
       "    <tr>\n",
       "      <th>2</th>\n",
       "      <td>Províncias e Município Neutro</td>\n",
       "      <td>Homens</td>\n",
       "      <td>Mulheres</td>\n",
       "      <td>Total</td>\n",
       "    </tr>\n",
       "    <tr>\n",
       "      <th>3</th>\n",
       "      <td>Amazonas</td>\n",
       "      <td>30983</td>\n",
       "      <td>2564</td>\n",
       "      <td>56631</td>\n",
       "    </tr>\n",
       "    <tr>\n",
       "      <th>4</th>\n",
       "      <td>Pará</td>\n",
       "      <td>128589</td>\n",
       "      <td>11919</td>\n",
       "      <td>247779</td>\n",
       "    </tr>\n",
       "  </tbody>\n",
       "</table>\n",
       "</div>"
      ],
      "text/plain": [
       "                      Unnamed: 0 Unnamed: 1 Unnamed: 2 Unnamed: 3\n",
       "0                            NaN        NaN        NaN        NaN\n",
       "1                            NaN      Sexos        NaN        NaN\n",
       "2  Províncias e Município Neutro     Homens   Mulheres      Total\n",
       "3                       Amazonas      30983       2564      56631\n",
       "4                           Pará     128589      11919     247779"
      ]
     },
     "execution_count": 534,
     "metadata": {},
     "output_type": "execute_result"
    }
   ],
   "source": [
    "sexos = df[['Unnamed: 0','Unnamed: 1', 'Unnamed: 2', 'Unnamed: 3']]\n",
    "sexos.head()"
   ]
  },
  {
   "cell_type": "code",
   "execution_count": 535,
   "metadata": {},
   "outputs": [
    {
     "data": {
      "text/html": [
       "<div>\n",
       "<style scoped>\n",
       "    .dataframe tbody tr th:only-of-type {\n",
       "        vertical-align: middle;\n",
       "    }\n",
       "\n",
       "    .dataframe tbody tr th {\n",
       "        vertical-align: top;\n",
       "    }\n",
       "\n",
       "    .dataframe thead th {\n",
       "        text-align: right;\n",
       "    }\n",
       "</style>\n",
       "<table border=\"1\" class=\"dataframe\">\n",
       "  <thead>\n",
       "    <tr style=\"text-align: right;\">\n",
       "      <th>1</th>\n",
       "      <th>NaN</th>\n",
       "      <th>Sexos</th>\n",
       "      <th>NaN</th>\n",
       "      <th>NaN</th>\n",
       "    </tr>\n",
       "  </thead>\n",
       "  <tbody>\n",
       "    <tr>\n",
       "      <th>2</th>\n",
       "      <td>Províncias e Município Neutro</td>\n",
       "      <td>Homens</td>\n",
       "      <td>Mulheres</td>\n",
       "      <td>Total</td>\n",
       "    </tr>\n",
       "    <tr>\n",
       "      <th>3</th>\n",
       "      <td>Amazonas</td>\n",
       "      <td>30983</td>\n",
       "      <td>2564</td>\n",
       "      <td>56631</td>\n",
       "    </tr>\n",
       "    <tr>\n",
       "      <th>4</th>\n",
       "      <td>Pará</td>\n",
       "      <td>128589</td>\n",
       "      <td>11919</td>\n",
       "      <td>247779</td>\n",
       "    </tr>\n",
       "    <tr>\n",
       "      <th>5</th>\n",
       "      <td>Maranhão</td>\n",
       "      <td>141942</td>\n",
       "      <td>14215</td>\n",
       "      <td>284101</td>\n",
       "    </tr>\n",
       "    <tr>\n",
       "      <th>6</th>\n",
       "      <td>Piauí</td>\n",
       "      <td>90322</td>\n",
       "      <td>8810</td>\n",
       "      <td>178427</td>\n",
       "    </tr>\n",
       "  </tbody>\n",
       "</table>\n",
       "</div>"
      ],
      "text/plain": [
       "1                            NaN   Sexos       NaN     NaN\n",
       "2  Províncias e Município Neutro  Homens  Mulheres   Total\n",
       "3                       Amazonas   30983      2564   56631\n",
       "4                           Pará  128589     11919  247779\n",
       "5                       Maranhão  141942     14215  284101\n",
       "6                          Piauí   90322      8810  178427"
      ]
     },
     "execution_count": 535,
     "metadata": {},
     "output_type": "execute_result"
    }
   ],
   "source": [
    "sexos_header = sexos.iloc[1]\n",
    "sexos.columns = sexos_header\n",
    "sexos = sexos[2:]\n",
    "sexos.head()"
   ]
  },
  {
   "cell_type": "code",
   "execution_count": 536,
   "metadata": {},
   "outputs": [
    {
     "name": "stdout",
     "output_type": "stream",
     "text": [
      "(22, 4)\n",
      "Index(['Províncias e Município Neutro', 'Homens', 'Mulheres', 'Total'], dtype='object', name=2)\n"
     ]
    },
    {
     "data": {
      "text/html": [
       "<div>\n",
       "<style scoped>\n",
       "    .dataframe tbody tr th:only-of-type {\n",
       "        vertical-align: middle;\n",
       "    }\n",
       "\n",
       "    .dataframe tbody tr th {\n",
       "        vertical-align: top;\n",
       "    }\n",
       "\n",
       "    .dataframe thead th {\n",
       "        text-align: right;\n",
       "    }\n",
       "</style>\n",
       "<table border=\"1\" class=\"dataframe\">\n",
       "  <thead>\n",
       "    <tr style=\"text-align: right;\">\n",
       "      <th>2</th>\n",
       "      <th>Províncias e Município Neutro</th>\n",
       "      <th>Homens</th>\n",
       "      <th>Mulheres</th>\n",
       "      <th>Total</th>\n",
       "    </tr>\n",
       "  </thead>\n",
       "  <tbody>\n",
       "    <tr>\n",
       "      <th>3</th>\n",
       "      <td>Amazonas</td>\n",
       "      <td>30983</td>\n",
       "      <td>2564</td>\n",
       "      <td>56631</td>\n",
       "    </tr>\n",
       "    <tr>\n",
       "      <th>4</th>\n",
       "      <td>Pará</td>\n",
       "      <td>128589</td>\n",
       "      <td>11919</td>\n",
       "      <td>247779</td>\n",
       "    </tr>\n",
       "    <tr>\n",
       "      <th>5</th>\n",
       "      <td>Maranhão</td>\n",
       "      <td>141942</td>\n",
       "      <td>14215</td>\n",
       "      <td>284101</td>\n",
       "    </tr>\n",
       "    <tr>\n",
       "      <th>6</th>\n",
       "      <td>Piauí</td>\n",
       "      <td>90322</td>\n",
       "      <td>8810</td>\n",
       "      <td>178427</td>\n",
       "    </tr>\n",
       "    <tr>\n",
       "      <th>7</th>\n",
       "      <td>Ceará</td>\n",
       "      <td>350906</td>\n",
       "      <td>33886</td>\n",
       "      <td>689773</td>\n",
       "    </tr>\n",
       "  </tbody>\n",
       "</table>\n",
       "</div>"
      ],
      "text/plain": [
       "2 Províncias e Município Neutro  Homens Mulheres   Total\n",
       "3                      Amazonas   30983     2564   56631\n",
       "4                          Pará  128589    11919  247779\n",
       "5                      Maranhão  141942    14215  284101\n",
       "6                         Piauí   90322     8810  178427\n",
       "7                         Ceará  350906    33886  689773"
      ]
     },
     "execution_count": 536,
     "metadata": {},
     "output_type": "execute_result"
    }
   ],
   "source": [
    "sexos_header = sexos.iloc[0]\n",
    "sexos.columns = sexos_header\n",
    "sexos = sexos[1:]\n",
    "print(sexos.shape)\n",
    "print(sexos.columns)\n",
    "sexos.head()"
   ]
  },
  {
   "cell_type": "code",
   "execution_count": 537,
   "metadata": {},
   "outputs": [
    {
     "name": "stdout",
     "output_type": "stream",
     "text": [
      "(22, 4)\n"
     ]
    },
    {
     "data": {
      "text/html": [
       "<div>\n",
       "<style scoped>\n",
       "    .dataframe tbody tr th:only-of-type {\n",
       "        vertical-align: middle;\n",
       "    }\n",
       "\n",
       "    .dataframe tbody tr th {\n",
       "        vertical-align: top;\n",
       "    }\n",
       "\n",
       "    .dataframe thead tr th {\n",
       "        text-align: left;\n",
       "    }\n",
       "</style>\n",
       "<table border=\"1\" class=\"dataframe\">\n",
       "  <thead>\n",
       "    <tr>\n",
       "      <th></th>\n",
       "      <th></th>\n",
       "      <th colspan=\"3\" halign=\"left\">Gêneros</th>\n",
       "    </tr>\n",
       "    <tr>\n",
       "      <th></th>\n",
       "      <th>Províncias e Município Neutro</th>\n",
       "      <th>Homens</th>\n",
       "      <th>Mulheres</th>\n",
       "      <th>Total</th>\n",
       "    </tr>\n",
       "  </thead>\n",
       "  <tbody>\n",
       "    <tr>\n",
       "      <th>3</th>\n",
       "      <td>Amazonas</td>\n",
       "      <td>30983</td>\n",
       "      <td>2564</td>\n",
       "      <td>56631</td>\n",
       "    </tr>\n",
       "    <tr>\n",
       "      <th>4</th>\n",
       "      <td>Pará</td>\n",
       "      <td>128589</td>\n",
       "      <td>11919</td>\n",
       "      <td>247779</td>\n",
       "    </tr>\n",
       "    <tr>\n",
       "      <th>5</th>\n",
       "      <td>Maranhão</td>\n",
       "      <td>141942</td>\n",
       "      <td>14215</td>\n",
       "      <td>284101</td>\n",
       "    </tr>\n",
       "    <tr>\n",
       "      <th>6</th>\n",
       "      <td>Piauí</td>\n",
       "      <td>90322</td>\n",
       "      <td>8810</td>\n",
       "      <td>178427</td>\n",
       "    </tr>\n",
       "    <tr>\n",
       "      <th>7</th>\n",
       "      <td>Ceará</td>\n",
       "      <td>350906</td>\n",
       "      <td>33886</td>\n",
       "      <td>689773</td>\n",
       "    </tr>\n",
       "    <tr>\n",
       "      <th>8</th>\n",
       "      <td>Rio Grande do Norte</td>\n",
       "      <td>112721</td>\n",
       "      <td>10823</td>\n",
       "      <td>220959</td>\n",
       "    </tr>\n",
       "    <tr>\n",
       "      <th>9</th>\n",
       "      <td>Paraíba</td>\n",
       "      <td>179433</td>\n",
       "      <td>17526</td>\n",
       "      <td>354700</td>\n",
       "    </tr>\n",
       "    <tr>\n",
       "      <th>10</th>\n",
       "      <td>Pernambuco</td>\n",
       "      <td>381565</td>\n",
       "      <td>37094</td>\n",
       "      <td>752511</td>\n",
       "    </tr>\n",
       "    <tr>\n",
       "      <th>11</th>\n",
       "      <td>Alagoas</td>\n",
       "      <td>155584</td>\n",
       "      <td>15667</td>\n",
       "      <td>312268</td>\n",
       "    </tr>\n",
       "    <tr>\n",
       "      <th>12</th>\n",
       "      <td>Sergipe</td>\n",
       "      <td>74739</td>\n",
       "      <td>7888</td>\n",
       "      <td>153620</td>\n",
       "    </tr>\n",
       "    <tr>\n",
       "      <th>13</th>\n",
       "      <td>Bahia</td>\n",
       "      <td>630353</td>\n",
       "      <td>58143</td>\n",
       "      <td>1211792</td>\n",
       "    </tr>\n",
       "    <tr>\n",
       "      <th>14</th>\n",
       "      <td>Espírito Santo</td>\n",
       "      <td>29607</td>\n",
       "      <td>29871</td>\n",
       "      <td>59478</td>\n",
       "    </tr>\n",
       "    <tr>\n",
       "      <th>15</th>\n",
       "      <td>Município Neutro</td>\n",
       "      <td>133880</td>\n",
       "      <td>92153</td>\n",
       "      <td>226033</td>\n",
       "    </tr>\n",
       "    <tr>\n",
       "      <th>16</th>\n",
       "      <td>Rio de Janeiro</td>\n",
       "      <td>255806</td>\n",
       "      <td>234281</td>\n",
       "      <td>499087</td>\n",
       "    </tr>\n",
       "    <tr>\n",
       "      <th>17</th>\n",
       "      <td>São Paulo</td>\n",
       "      <td>348304</td>\n",
       "      <td>332438</td>\n",
       "      <td>680742</td>\n",
       "    </tr>\n",
       "    <tr>\n",
       "      <th>18</th>\n",
       "      <td>Paraná</td>\n",
       "      <td>59384</td>\n",
       "      <td>56858</td>\n",
       "      <td>116162</td>\n",
       "    </tr>\n",
       "    <tr>\n",
       "      <th>19</th>\n",
       "      <td>Santa Catarina</td>\n",
       "      <td>73088</td>\n",
       "      <td>71730</td>\n",
       "      <td>144818</td>\n",
       "    </tr>\n",
       "    <tr>\n",
       "      <th>20</th>\n",
       "      <td>Rio Grande do Sul</td>\n",
       "      <td>191022</td>\n",
       "      <td>176000</td>\n",
       "      <td>367022</td>\n",
       "    </tr>\n",
       "    <tr>\n",
       "      <th>21</th>\n",
       "      <td>Minas Gerais</td>\n",
       "      <td>847592</td>\n",
       "      <td>821684</td>\n",
       "      <td>1669276</td>\n",
       "    </tr>\n",
       "    <tr>\n",
       "      <th>22</th>\n",
       "      <td>Goiás</td>\n",
       "      <td>74968</td>\n",
       "      <td>74775</td>\n",
       "      <td>149743</td>\n",
       "    </tr>\n",
       "    <tr>\n",
       "      <th>23</th>\n",
       "      <td>Mato Grosso</td>\n",
       "      <td>27991</td>\n",
       "      <td>25759</td>\n",
       "      <td>53750</td>\n",
       "    </tr>\n",
       "    <tr>\n",
       "      <th>24</th>\n",
       "      <td>Total</td>\n",
       "      <td>4318699</td>\n",
       "      <td>4100973</td>\n",
       "      <td>8419672</td>\n",
       "    </tr>\n",
       "  </tbody>\n",
       "</table>\n",
       "</div>"
      ],
      "text/plain": [
       "                                  Gêneros                  \n",
       "   Províncias e Município Neutro   Homens Mulheres    Total\n",
       "3                       Amazonas    30983     2564    56631\n",
       "4                           Pará   128589    11919   247779\n",
       "5                       Maranhão   141942    14215   284101\n",
       "6                          Piauí    90322     8810   178427\n",
       "7                          Ceará   350906    33886   689773\n",
       "8            Rio Grande do Norte   112721    10823   220959\n",
       "9                        Paraíba   179433    17526   354700\n",
       "10                    Pernambuco   381565    37094   752511\n",
       "11                       Alagoas   155584    15667   312268\n",
       "12                       Sergipe    74739     7888   153620\n",
       "13                         Bahia   630353    58143  1211792\n",
       "14                Espírito Santo    29607    29871    59478\n",
       "15              Município Neutro   133880    92153   226033\n",
       "16                Rio de Janeiro   255806   234281   499087\n",
       "17                     São Paulo   348304   332438   680742\n",
       "18                        Paraná    59384    56858   116162\n",
       "19                Santa Catarina    73088    71730   144818\n",
       "20             Rio Grande do Sul   191022   176000   367022\n",
       "21                  Minas Gerais   847592   821684  1669276\n",
       "22                         Goiás    74968    74775   149743\n",
       "23                   Mato Grosso    27991    25759    53750\n",
       "24                         Total  4318699  4100973  8419672"
      ]
     },
     "execution_count": 537,
     "metadata": {},
     "output_type": "execute_result"
    }
   ],
   "source": [
    "columns_multiindex = pd.MultiIndex.from_tuples([\n",
    "    #('Gêneros', 'Províncias e Município Neutro'),\n",
    "    ('', 'Províncias e Município Neutro'),\n",
    "    ('Gêneros', 'Homens'),\n",
    "    ('Gêneros', 'Mulheres'),\n",
    "    ('Gêneros', 'Total')\n",
    "])\n",
    "\n",
    "# Atribuindo o MultiIndex às colunas do DataFrame\n",
    "sexos.columns = columns_multiindex\n",
    "print(sexos.shape)\n",
    "sexos"
   ]
  },
  {
   "cell_type": "markdown",
   "metadata": {},
   "source": [
    "### gráfico de pizza"
   ]
  },
  {
   "cell_type": "code",
   "execution_count": 538,
   "metadata": {},
   "outputs": [],
   "source": [
    "import plotly.graph_objects as go\n",
    "import plotly.express as px"
   ]
  },
  {
   "cell_type": "code",
   "execution_count": 539,
   "metadata": {},
   "outputs": [
    {
     "data": {
      "application/vnd.plotly.v1+json": {
       "config": {
        "plotlyServerURL": "https://plot.ly"
       },
       "data": [
        {
         "labels": [
          "Homens",
          "Mulheres"
         ],
         "type": "pie",
         "values": [
          "30983",
          "2564"
         ]
        }
       ],
       "layout": {
        "template": {
         "data": {
          "bar": [
           {
            "error_x": {
             "color": "#2a3f5f"
            },
            "error_y": {
             "color": "#2a3f5f"
            },
            "marker": {
             "line": {
              "color": "#E5ECF6",
              "width": 0.5
             },
             "pattern": {
              "fillmode": "overlay",
              "size": 10,
              "solidity": 0.2
             }
            },
            "type": "bar"
           }
          ],
          "barpolar": [
           {
            "marker": {
             "line": {
              "color": "#E5ECF6",
              "width": 0.5
             },
             "pattern": {
              "fillmode": "overlay",
              "size": 10,
              "solidity": 0.2
             }
            },
            "type": "barpolar"
           }
          ],
          "carpet": [
           {
            "aaxis": {
             "endlinecolor": "#2a3f5f",
             "gridcolor": "white",
             "linecolor": "white",
             "minorgridcolor": "white",
             "startlinecolor": "#2a3f5f"
            },
            "baxis": {
             "endlinecolor": "#2a3f5f",
             "gridcolor": "white",
             "linecolor": "white",
             "minorgridcolor": "white",
             "startlinecolor": "#2a3f5f"
            },
            "type": "carpet"
           }
          ],
          "choropleth": [
           {
            "colorbar": {
             "outlinewidth": 0,
             "ticks": ""
            },
            "type": "choropleth"
           }
          ],
          "contour": [
           {
            "colorbar": {
             "outlinewidth": 0,
             "ticks": ""
            },
            "colorscale": [
             [
              0,
              "#0d0887"
             ],
             [
              0.1111111111111111,
              "#46039f"
             ],
             [
              0.2222222222222222,
              "#7201a8"
             ],
             [
              0.3333333333333333,
              "#9c179e"
             ],
             [
              0.4444444444444444,
              "#bd3786"
             ],
             [
              0.5555555555555556,
              "#d8576b"
             ],
             [
              0.6666666666666666,
              "#ed7953"
             ],
             [
              0.7777777777777778,
              "#fb9f3a"
             ],
             [
              0.8888888888888888,
              "#fdca26"
             ],
             [
              1,
              "#f0f921"
             ]
            ],
            "type": "contour"
           }
          ],
          "contourcarpet": [
           {
            "colorbar": {
             "outlinewidth": 0,
             "ticks": ""
            },
            "type": "contourcarpet"
           }
          ],
          "heatmap": [
           {
            "colorbar": {
             "outlinewidth": 0,
             "ticks": ""
            },
            "colorscale": [
             [
              0,
              "#0d0887"
             ],
             [
              0.1111111111111111,
              "#46039f"
             ],
             [
              0.2222222222222222,
              "#7201a8"
             ],
             [
              0.3333333333333333,
              "#9c179e"
             ],
             [
              0.4444444444444444,
              "#bd3786"
             ],
             [
              0.5555555555555556,
              "#d8576b"
             ],
             [
              0.6666666666666666,
              "#ed7953"
             ],
             [
              0.7777777777777778,
              "#fb9f3a"
             ],
             [
              0.8888888888888888,
              "#fdca26"
             ],
             [
              1,
              "#f0f921"
             ]
            ],
            "type": "heatmap"
           }
          ],
          "heatmapgl": [
           {
            "colorbar": {
             "outlinewidth": 0,
             "ticks": ""
            },
            "colorscale": [
             [
              0,
              "#0d0887"
             ],
             [
              0.1111111111111111,
              "#46039f"
             ],
             [
              0.2222222222222222,
              "#7201a8"
             ],
             [
              0.3333333333333333,
              "#9c179e"
             ],
             [
              0.4444444444444444,
              "#bd3786"
             ],
             [
              0.5555555555555556,
              "#d8576b"
             ],
             [
              0.6666666666666666,
              "#ed7953"
             ],
             [
              0.7777777777777778,
              "#fb9f3a"
             ],
             [
              0.8888888888888888,
              "#fdca26"
             ],
             [
              1,
              "#f0f921"
             ]
            ],
            "type": "heatmapgl"
           }
          ],
          "histogram": [
           {
            "marker": {
             "pattern": {
              "fillmode": "overlay",
              "size": 10,
              "solidity": 0.2
             }
            },
            "type": "histogram"
           }
          ],
          "histogram2d": [
           {
            "colorbar": {
             "outlinewidth": 0,
             "ticks": ""
            },
            "colorscale": [
             [
              0,
              "#0d0887"
             ],
             [
              0.1111111111111111,
              "#46039f"
             ],
             [
              0.2222222222222222,
              "#7201a8"
             ],
             [
              0.3333333333333333,
              "#9c179e"
             ],
             [
              0.4444444444444444,
              "#bd3786"
             ],
             [
              0.5555555555555556,
              "#d8576b"
             ],
             [
              0.6666666666666666,
              "#ed7953"
             ],
             [
              0.7777777777777778,
              "#fb9f3a"
             ],
             [
              0.8888888888888888,
              "#fdca26"
             ],
             [
              1,
              "#f0f921"
             ]
            ],
            "type": "histogram2d"
           }
          ],
          "histogram2dcontour": [
           {
            "colorbar": {
             "outlinewidth": 0,
             "ticks": ""
            },
            "colorscale": [
             [
              0,
              "#0d0887"
             ],
             [
              0.1111111111111111,
              "#46039f"
             ],
             [
              0.2222222222222222,
              "#7201a8"
             ],
             [
              0.3333333333333333,
              "#9c179e"
             ],
             [
              0.4444444444444444,
              "#bd3786"
             ],
             [
              0.5555555555555556,
              "#d8576b"
             ],
             [
              0.6666666666666666,
              "#ed7953"
             ],
             [
              0.7777777777777778,
              "#fb9f3a"
             ],
             [
              0.8888888888888888,
              "#fdca26"
             ],
             [
              1,
              "#f0f921"
             ]
            ],
            "type": "histogram2dcontour"
           }
          ],
          "mesh3d": [
           {
            "colorbar": {
             "outlinewidth": 0,
             "ticks": ""
            },
            "type": "mesh3d"
           }
          ],
          "parcoords": [
           {
            "line": {
             "colorbar": {
              "outlinewidth": 0,
              "ticks": ""
             }
            },
            "type": "parcoords"
           }
          ],
          "pie": [
           {
            "automargin": true,
            "type": "pie"
           }
          ],
          "scatter": [
           {
            "fillpattern": {
             "fillmode": "overlay",
             "size": 10,
             "solidity": 0.2
            },
            "type": "scatter"
           }
          ],
          "scatter3d": [
           {
            "line": {
             "colorbar": {
              "outlinewidth": 0,
              "ticks": ""
             }
            },
            "marker": {
             "colorbar": {
              "outlinewidth": 0,
              "ticks": ""
             }
            },
            "type": "scatter3d"
           }
          ],
          "scattercarpet": [
           {
            "marker": {
             "colorbar": {
              "outlinewidth": 0,
              "ticks": ""
             }
            },
            "type": "scattercarpet"
           }
          ],
          "scattergeo": [
           {
            "marker": {
             "colorbar": {
              "outlinewidth": 0,
              "ticks": ""
             }
            },
            "type": "scattergeo"
           }
          ],
          "scattergl": [
           {
            "marker": {
             "colorbar": {
              "outlinewidth": 0,
              "ticks": ""
             }
            },
            "type": "scattergl"
           }
          ],
          "scattermapbox": [
           {
            "marker": {
             "colorbar": {
              "outlinewidth": 0,
              "ticks": ""
             }
            },
            "type": "scattermapbox"
           }
          ],
          "scatterpolar": [
           {
            "marker": {
             "colorbar": {
              "outlinewidth": 0,
              "ticks": ""
             }
            },
            "type": "scatterpolar"
           }
          ],
          "scatterpolargl": [
           {
            "marker": {
             "colorbar": {
              "outlinewidth": 0,
              "ticks": ""
             }
            },
            "type": "scatterpolargl"
           }
          ],
          "scatterternary": [
           {
            "marker": {
             "colorbar": {
              "outlinewidth": 0,
              "ticks": ""
             }
            },
            "type": "scatterternary"
           }
          ],
          "surface": [
           {
            "colorbar": {
             "outlinewidth": 0,
             "ticks": ""
            },
            "colorscale": [
             [
              0,
              "#0d0887"
             ],
             [
              0.1111111111111111,
              "#46039f"
             ],
             [
              0.2222222222222222,
              "#7201a8"
             ],
             [
              0.3333333333333333,
              "#9c179e"
             ],
             [
              0.4444444444444444,
              "#bd3786"
             ],
             [
              0.5555555555555556,
              "#d8576b"
             ],
             [
              0.6666666666666666,
              "#ed7953"
             ],
             [
              0.7777777777777778,
              "#fb9f3a"
             ],
             [
              0.8888888888888888,
              "#fdca26"
             ],
             [
              1,
              "#f0f921"
             ]
            ],
            "type": "surface"
           }
          ],
          "table": [
           {
            "cells": {
             "fill": {
              "color": "#EBF0F8"
             },
             "line": {
              "color": "white"
             }
            },
            "header": {
             "fill": {
              "color": "#C8D4E3"
             },
             "line": {
              "color": "white"
             }
            },
            "type": "table"
           }
          ]
         },
         "layout": {
          "annotationdefaults": {
           "arrowcolor": "#2a3f5f",
           "arrowhead": 0,
           "arrowwidth": 1
          },
          "autotypenumbers": "strict",
          "coloraxis": {
           "colorbar": {
            "outlinewidth": 0,
            "ticks": ""
           }
          },
          "colorscale": {
           "diverging": [
            [
             0,
             "#8e0152"
            ],
            [
             0.1,
             "#c51b7d"
            ],
            [
             0.2,
             "#de77ae"
            ],
            [
             0.3,
             "#f1b6da"
            ],
            [
             0.4,
             "#fde0ef"
            ],
            [
             0.5,
             "#f7f7f7"
            ],
            [
             0.6,
             "#e6f5d0"
            ],
            [
             0.7,
             "#b8e186"
            ],
            [
             0.8,
             "#7fbc41"
            ],
            [
             0.9,
             "#4d9221"
            ],
            [
             1,
             "#276419"
            ]
           ],
           "sequential": [
            [
             0,
             "#0d0887"
            ],
            [
             0.1111111111111111,
             "#46039f"
            ],
            [
             0.2222222222222222,
             "#7201a8"
            ],
            [
             0.3333333333333333,
             "#9c179e"
            ],
            [
             0.4444444444444444,
             "#bd3786"
            ],
            [
             0.5555555555555556,
             "#d8576b"
            ],
            [
             0.6666666666666666,
             "#ed7953"
            ],
            [
             0.7777777777777778,
             "#fb9f3a"
            ],
            [
             0.8888888888888888,
             "#fdca26"
            ],
            [
             1,
             "#f0f921"
            ]
           ],
           "sequentialminus": [
            [
             0,
             "#0d0887"
            ],
            [
             0.1111111111111111,
             "#46039f"
            ],
            [
             0.2222222222222222,
             "#7201a8"
            ],
            [
             0.3333333333333333,
             "#9c179e"
            ],
            [
             0.4444444444444444,
             "#bd3786"
            ],
            [
             0.5555555555555556,
             "#d8576b"
            ],
            [
             0.6666666666666666,
             "#ed7953"
            ],
            [
             0.7777777777777778,
             "#fb9f3a"
            ],
            [
             0.8888888888888888,
             "#fdca26"
            ],
            [
             1,
             "#f0f921"
            ]
           ]
          },
          "colorway": [
           "#636efa",
           "#EF553B",
           "#00cc96",
           "#ab63fa",
           "#FFA15A",
           "#19d3f3",
           "#FF6692",
           "#B6E880",
           "#FF97FF",
           "#FECB52"
          ],
          "font": {
           "color": "#2a3f5f"
          },
          "geo": {
           "bgcolor": "white",
           "lakecolor": "white",
           "landcolor": "#E5ECF6",
           "showlakes": true,
           "showland": true,
           "subunitcolor": "white"
          },
          "hoverlabel": {
           "align": "left"
          },
          "hovermode": "closest",
          "mapbox": {
           "style": "light"
          },
          "paper_bgcolor": "white",
          "plot_bgcolor": "#E5ECF6",
          "polar": {
           "angularaxis": {
            "gridcolor": "white",
            "linecolor": "white",
            "ticks": ""
           },
           "bgcolor": "#E5ECF6",
           "radialaxis": {
            "gridcolor": "white",
            "linecolor": "white",
            "ticks": ""
           }
          },
          "scene": {
           "xaxis": {
            "backgroundcolor": "#E5ECF6",
            "gridcolor": "white",
            "gridwidth": 2,
            "linecolor": "white",
            "showbackground": true,
            "ticks": "",
            "zerolinecolor": "white"
           },
           "yaxis": {
            "backgroundcolor": "#E5ECF6",
            "gridcolor": "white",
            "gridwidth": 2,
            "linecolor": "white",
            "showbackground": true,
            "ticks": "",
            "zerolinecolor": "white"
           },
           "zaxis": {
            "backgroundcolor": "#E5ECF6",
            "gridcolor": "white",
            "gridwidth": 2,
            "linecolor": "white",
            "showbackground": true,
            "ticks": "",
            "zerolinecolor": "white"
           }
          },
          "shapedefaults": {
           "line": {
            "color": "#2a3f5f"
           }
          },
          "ternary": {
           "aaxis": {
            "gridcolor": "white",
            "linecolor": "white",
            "ticks": ""
           },
           "baxis": {
            "gridcolor": "white",
            "linecolor": "white",
            "ticks": ""
           },
           "bgcolor": "#E5ECF6",
           "caxis": {
            "gridcolor": "white",
            "linecolor": "white",
            "ticks": ""
           }
          },
          "title": {
           "x": 0.05
          },
          "xaxis": {
           "automargin": true,
           "gridcolor": "white",
           "linecolor": "white",
           "ticks": "",
           "title": {
            "standoff": 15
           },
           "zerolinecolor": "white",
           "zerolinewidth": 2
          },
          "yaxis": {
           "automargin": true,
           "gridcolor": "white",
           "linecolor": "white",
           "ticks": "",
           "title": {
            "standoff": 15
           },
           "zerolinecolor": "white",
           "zerolinewidth": 2
          }
         }
        },
        "title": {
         "text": "Distribuição de Gêneros"
        }
       }
      }
     },
     "metadata": {},
     "output_type": "display_data"
    }
   ],
   "source": [
    "labels = ['Homens', 'Mulheres']\n",
    "values = [sexos.iloc[0][('Gêneros', 'Homens')], sexos.iloc[0][('Gêneros', 'Mulheres')]]\n",
    "\n",
    "# Criar gráfico de pizza com go.Figure\n",
    "fig = go.Figure(data=[go.Pie(labels=labels, values=values)])\n",
    "\n",
    "# Atualizar layout do gráfico\n",
    "fig.update_layout(title_text=\"Distribuição de Gêneros\")\n",
    "\n",
    "# Exibir gráfico\n",
    "fig.show()"
   ]
  },
  {
   "cell_type": "markdown",
   "metadata": {},
   "source": [
    "### gráfico de barras"
   ]
  },
  {
   "cell_type": "code",
   "execution_count": 540,
   "metadata": {},
   "outputs": [
    {
     "data": {
      "application/vnd.plotly.v1+json": {
       "config": {
        "plotlyServerURL": "https://plot.ly"
       },
       "data": [
        {
         "marker": {
          "color": "blue"
         },
         "name": "Homens",
         "type": "bar",
         "x": [
          "Amazonas",
          "Pará",
          "Maranhão",
          "Piauí",
          "Ceará",
          "Rio Grande do Norte",
          "Paraíba",
          "Pernambuco",
          "Alagoas",
          "Sergipe",
          "Bahia",
          "Espírito Santo",
          "Município Neutro",
          "Rio de Janeiro",
          "São Paulo",
          "Paraná",
          "Santa Catarina",
          "Rio Grande do Sul",
          "Minas Gerais",
          "Goiás",
          "Mato Grosso"
         ],
         "y": [
          30983,
          128589,
          141942,
          90322,
          350906,
          112721,
          179433,
          381565,
          155584,
          74739,
          630353,
          29607,
          133880,
          255806,
          348304,
          59384,
          73088,
          191022,
          847592,
          74968,
          27991
         ]
        },
        {
         "marker": {
          "color": "pink"
         },
         "name": "Mulheres",
         "type": "bar",
         "x": [
          "Amazonas",
          "Pará",
          "Maranhão",
          "Piauí",
          "Ceará",
          "Rio Grande do Norte",
          "Paraíba",
          "Pernambuco",
          "Alagoas",
          "Sergipe",
          "Bahia",
          "Espírito Santo",
          "Município Neutro",
          "Rio de Janeiro",
          "São Paulo",
          "Paraná",
          "Santa Catarina",
          "Rio Grande do Sul",
          "Minas Gerais",
          "Goiás",
          "Mato Grosso"
         ],
         "y": [
          2564,
          11919,
          14215,
          8810,
          33886,
          10823,
          17526,
          37094,
          15667,
          7888,
          58143,
          29871,
          92153,
          234281,
          332438,
          56858,
          71730,
          176000,
          821684,
          74775,
          25759
         ]
        }
       ],
       "layout": {
        "barmode": "group",
        "template": {
         "data": {
          "bar": [
           {
            "error_x": {
             "color": "#2a3f5f"
            },
            "error_y": {
             "color": "#2a3f5f"
            },
            "marker": {
             "line": {
              "color": "white",
              "width": 0.5
             },
             "pattern": {
              "fillmode": "overlay",
              "size": 10,
              "solidity": 0.2
             }
            },
            "type": "bar"
           }
          ],
          "barpolar": [
           {
            "marker": {
             "line": {
              "color": "white",
              "width": 0.5
             },
             "pattern": {
              "fillmode": "overlay",
              "size": 10,
              "solidity": 0.2
             }
            },
            "type": "barpolar"
           }
          ],
          "carpet": [
           {
            "aaxis": {
             "endlinecolor": "#2a3f5f",
             "gridcolor": "#C8D4E3",
             "linecolor": "#C8D4E3",
             "minorgridcolor": "#C8D4E3",
             "startlinecolor": "#2a3f5f"
            },
            "baxis": {
             "endlinecolor": "#2a3f5f",
             "gridcolor": "#C8D4E3",
             "linecolor": "#C8D4E3",
             "minorgridcolor": "#C8D4E3",
             "startlinecolor": "#2a3f5f"
            },
            "type": "carpet"
           }
          ],
          "choropleth": [
           {
            "colorbar": {
             "outlinewidth": 0,
             "ticks": ""
            },
            "type": "choropleth"
           }
          ],
          "contour": [
           {
            "colorbar": {
             "outlinewidth": 0,
             "ticks": ""
            },
            "colorscale": [
             [
              0,
              "#0d0887"
             ],
             [
              0.1111111111111111,
              "#46039f"
             ],
             [
              0.2222222222222222,
              "#7201a8"
             ],
             [
              0.3333333333333333,
              "#9c179e"
             ],
             [
              0.4444444444444444,
              "#bd3786"
             ],
             [
              0.5555555555555556,
              "#d8576b"
             ],
             [
              0.6666666666666666,
              "#ed7953"
             ],
             [
              0.7777777777777778,
              "#fb9f3a"
             ],
             [
              0.8888888888888888,
              "#fdca26"
             ],
             [
              1,
              "#f0f921"
             ]
            ],
            "type": "contour"
           }
          ],
          "contourcarpet": [
           {
            "colorbar": {
             "outlinewidth": 0,
             "ticks": ""
            },
            "type": "contourcarpet"
           }
          ],
          "heatmap": [
           {
            "colorbar": {
             "outlinewidth": 0,
             "ticks": ""
            },
            "colorscale": [
             [
              0,
              "#0d0887"
             ],
             [
              0.1111111111111111,
              "#46039f"
             ],
             [
              0.2222222222222222,
              "#7201a8"
             ],
             [
              0.3333333333333333,
              "#9c179e"
             ],
             [
              0.4444444444444444,
              "#bd3786"
             ],
             [
              0.5555555555555556,
              "#d8576b"
             ],
             [
              0.6666666666666666,
              "#ed7953"
             ],
             [
              0.7777777777777778,
              "#fb9f3a"
             ],
             [
              0.8888888888888888,
              "#fdca26"
             ],
             [
              1,
              "#f0f921"
             ]
            ],
            "type": "heatmap"
           }
          ],
          "heatmapgl": [
           {
            "colorbar": {
             "outlinewidth": 0,
             "ticks": ""
            },
            "colorscale": [
             [
              0,
              "#0d0887"
             ],
             [
              0.1111111111111111,
              "#46039f"
             ],
             [
              0.2222222222222222,
              "#7201a8"
             ],
             [
              0.3333333333333333,
              "#9c179e"
             ],
             [
              0.4444444444444444,
              "#bd3786"
             ],
             [
              0.5555555555555556,
              "#d8576b"
             ],
             [
              0.6666666666666666,
              "#ed7953"
             ],
             [
              0.7777777777777778,
              "#fb9f3a"
             ],
             [
              0.8888888888888888,
              "#fdca26"
             ],
             [
              1,
              "#f0f921"
             ]
            ],
            "type": "heatmapgl"
           }
          ],
          "histogram": [
           {
            "marker": {
             "pattern": {
              "fillmode": "overlay",
              "size": 10,
              "solidity": 0.2
             }
            },
            "type": "histogram"
           }
          ],
          "histogram2d": [
           {
            "colorbar": {
             "outlinewidth": 0,
             "ticks": ""
            },
            "colorscale": [
             [
              0,
              "#0d0887"
             ],
             [
              0.1111111111111111,
              "#46039f"
             ],
             [
              0.2222222222222222,
              "#7201a8"
             ],
             [
              0.3333333333333333,
              "#9c179e"
             ],
             [
              0.4444444444444444,
              "#bd3786"
             ],
             [
              0.5555555555555556,
              "#d8576b"
             ],
             [
              0.6666666666666666,
              "#ed7953"
             ],
             [
              0.7777777777777778,
              "#fb9f3a"
             ],
             [
              0.8888888888888888,
              "#fdca26"
             ],
             [
              1,
              "#f0f921"
             ]
            ],
            "type": "histogram2d"
           }
          ],
          "histogram2dcontour": [
           {
            "colorbar": {
             "outlinewidth": 0,
             "ticks": ""
            },
            "colorscale": [
             [
              0,
              "#0d0887"
             ],
             [
              0.1111111111111111,
              "#46039f"
             ],
             [
              0.2222222222222222,
              "#7201a8"
             ],
             [
              0.3333333333333333,
              "#9c179e"
             ],
             [
              0.4444444444444444,
              "#bd3786"
             ],
             [
              0.5555555555555556,
              "#d8576b"
             ],
             [
              0.6666666666666666,
              "#ed7953"
             ],
             [
              0.7777777777777778,
              "#fb9f3a"
             ],
             [
              0.8888888888888888,
              "#fdca26"
             ],
             [
              1,
              "#f0f921"
             ]
            ],
            "type": "histogram2dcontour"
           }
          ],
          "mesh3d": [
           {
            "colorbar": {
             "outlinewidth": 0,
             "ticks": ""
            },
            "type": "mesh3d"
           }
          ],
          "parcoords": [
           {
            "line": {
             "colorbar": {
              "outlinewidth": 0,
              "ticks": ""
             }
            },
            "type": "parcoords"
           }
          ],
          "pie": [
           {
            "automargin": true,
            "type": "pie"
           }
          ],
          "scatter": [
           {
            "fillpattern": {
             "fillmode": "overlay",
             "size": 10,
             "solidity": 0.2
            },
            "type": "scatter"
           }
          ],
          "scatter3d": [
           {
            "line": {
             "colorbar": {
              "outlinewidth": 0,
              "ticks": ""
             }
            },
            "marker": {
             "colorbar": {
              "outlinewidth": 0,
              "ticks": ""
             }
            },
            "type": "scatter3d"
           }
          ],
          "scattercarpet": [
           {
            "marker": {
             "colorbar": {
              "outlinewidth": 0,
              "ticks": ""
             }
            },
            "type": "scattercarpet"
           }
          ],
          "scattergeo": [
           {
            "marker": {
             "colorbar": {
              "outlinewidth": 0,
              "ticks": ""
             }
            },
            "type": "scattergeo"
           }
          ],
          "scattergl": [
           {
            "marker": {
             "colorbar": {
              "outlinewidth": 0,
              "ticks": ""
             }
            },
            "type": "scattergl"
           }
          ],
          "scattermapbox": [
           {
            "marker": {
             "colorbar": {
              "outlinewidth": 0,
              "ticks": ""
             }
            },
            "type": "scattermapbox"
           }
          ],
          "scatterpolar": [
           {
            "marker": {
             "colorbar": {
              "outlinewidth": 0,
              "ticks": ""
             }
            },
            "type": "scatterpolar"
           }
          ],
          "scatterpolargl": [
           {
            "marker": {
             "colorbar": {
              "outlinewidth": 0,
              "ticks": ""
             }
            },
            "type": "scatterpolargl"
           }
          ],
          "scatterternary": [
           {
            "marker": {
             "colorbar": {
              "outlinewidth": 0,
              "ticks": ""
             }
            },
            "type": "scatterternary"
           }
          ],
          "surface": [
           {
            "colorbar": {
             "outlinewidth": 0,
             "ticks": ""
            },
            "colorscale": [
             [
              0,
              "#0d0887"
             ],
             [
              0.1111111111111111,
              "#46039f"
             ],
             [
              0.2222222222222222,
              "#7201a8"
             ],
             [
              0.3333333333333333,
              "#9c179e"
             ],
             [
              0.4444444444444444,
              "#bd3786"
             ],
             [
              0.5555555555555556,
              "#d8576b"
             ],
             [
              0.6666666666666666,
              "#ed7953"
             ],
             [
              0.7777777777777778,
              "#fb9f3a"
             ],
             [
              0.8888888888888888,
              "#fdca26"
             ],
             [
              1,
              "#f0f921"
             ]
            ],
            "type": "surface"
           }
          ],
          "table": [
           {
            "cells": {
             "fill": {
              "color": "#EBF0F8"
             },
             "line": {
              "color": "white"
             }
            },
            "header": {
             "fill": {
              "color": "#C8D4E3"
             },
             "line": {
              "color": "white"
             }
            },
            "type": "table"
           }
          ]
         },
         "layout": {
          "annotationdefaults": {
           "arrowcolor": "#2a3f5f",
           "arrowhead": 0,
           "arrowwidth": 1
          },
          "autotypenumbers": "strict",
          "coloraxis": {
           "colorbar": {
            "outlinewidth": 0,
            "ticks": ""
           }
          },
          "colorscale": {
           "diverging": [
            [
             0,
             "#8e0152"
            ],
            [
             0.1,
             "#c51b7d"
            ],
            [
             0.2,
             "#de77ae"
            ],
            [
             0.3,
             "#f1b6da"
            ],
            [
             0.4,
             "#fde0ef"
            ],
            [
             0.5,
             "#f7f7f7"
            ],
            [
             0.6,
             "#e6f5d0"
            ],
            [
             0.7,
             "#b8e186"
            ],
            [
             0.8,
             "#7fbc41"
            ],
            [
             0.9,
             "#4d9221"
            ],
            [
             1,
             "#276419"
            ]
           ],
           "sequential": [
            [
             0,
             "#0d0887"
            ],
            [
             0.1111111111111111,
             "#46039f"
            ],
            [
             0.2222222222222222,
             "#7201a8"
            ],
            [
             0.3333333333333333,
             "#9c179e"
            ],
            [
             0.4444444444444444,
             "#bd3786"
            ],
            [
             0.5555555555555556,
             "#d8576b"
            ],
            [
             0.6666666666666666,
             "#ed7953"
            ],
            [
             0.7777777777777778,
             "#fb9f3a"
            ],
            [
             0.8888888888888888,
             "#fdca26"
            ],
            [
             1,
             "#f0f921"
            ]
           ],
           "sequentialminus": [
            [
             0,
             "#0d0887"
            ],
            [
             0.1111111111111111,
             "#46039f"
            ],
            [
             0.2222222222222222,
             "#7201a8"
            ],
            [
             0.3333333333333333,
             "#9c179e"
            ],
            [
             0.4444444444444444,
             "#bd3786"
            ],
            [
             0.5555555555555556,
             "#d8576b"
            ],
            [
             0.6666666666666666,
             "#ed7953"
            ],
            [
             0.7777777777777778,
             "#fb9f3a"
            ],
            [
             0.8888888888888888,
             "#fdca26"
            ],
            [
             1,
             "#f0f921"
            ]
           ]
          },
          "colorway": [
           "#636efa",
           "#EF553B",
           "#00cc96",
           "#ab63fa",
           "#FFA15A",
           "#19d3f3",
           "#FF6692",
           "#B6E880",
           "#FF97FF",
           "#FECB52"
          ],
          "font": {
           "color": "#2a3f5f"
          },
          "geo": {
           "bgcolor": "white",
           "lakecolor": "white",
           "landcolor": "white",
           "showlakes": true,
           "showland": true,
           "subunitcolor": "#C8D4E3"
          },
          "hoverlabel": {
           "align": "left"
          },
          "hovermode": "closest",
          "mapbox": {
           "style": "light"
          },
          "paper_bgcolor": "white",
          "plot_bgcolor": "white",
          "polar": {
           "angularaxis": {
            "gridcolor": "#EBF0F8",
            "linecolor": "#EBF0F8",
            "ticks": ""
           },
           "bgcolor": "white",
           "radialaxis": {
            "gridcolor": "#EBF0F8",
            "linecolor": "#EBF0F8",
            "ticks": ""
           }
          },
          "scene": {
           "xaxis": {
            "backgroundcolor": "white",
            "gridcolor": "#DFE8F3",
            "gridwidth": 2,
            "linecolor": "#EBF0F8",
            "showbackground": true,
            "ticks": "",
            "zerolinecolor": "#EBF0F8"
           },
           "yaxis": {
            "backgroundcolor": "white",
            "gridcolor": "#DFE8F3",
            "gridwidth": 2,
            "linecolor": "#EBF0F8",
            "showbackground": true,
            "ticks": "",
            "zerolinecolor": "#EBF0F8"
           },
           "zaxis": {
            "backgroundcolor": "white",
            "gridcolor": "#DFE8F3",
            "gridwidth": 2,
            "linecolor": "#EBF0F8",
            "showbackground": true,
            "ticks": "",
            "zerolinecolor": "#EBF0F8"
           }
          },
          "shapedefaults": {
           "line": {
            "color": "#2a3f5f"
           }
          },
          "ternary": {
           "aaxis": {
            "gridcolor": "#DFE8F3",
            "linecolor": "#A2B1C6",
            "ticks": ""
           },
           "baxis": {
            "gridcolor": "#DFE8F3",
            "linecolor": "#A2B1C6",
            "ticks": ""
           },
           "bgcolor": "white",
           "caxis": {
            "gridcolor": "#DFE8F3",
            "linecolor": "#A2B1C6",
            "ticks": ""
           }
          },
          "title": {
           "x": 0.05
          },
          "xaxis": {
           "automargin": true,
           "gridcolor": "#EBF0F8",
           "linecolor": "#EBF0F8",
           "ticks": "",
           "title": {
            "standoff": 15
           },
           "zerolinecolor": "#EBF0F8",
           "zerolinewidth": 2
          },
          "yaxis": {
           "automargin": true,
           "gridcolor": "#EBF0F8",
           "linecolor": "#EBF0F8",
           "ticks": "",
           "title": {
            "standoff": 15
           },
           "zerolinecolor": "#EBF0F8",
           "zerolinewidth": 2
          }
         }
        },
        "title": {
         "text": "População por Província e Gênero"
        },
        "xaxis": {
         "title": {
          "text": "Províncias"
         }
        },
        "yaxis": {
         "title": {
          "text": "População"
         }
        }
       }
      }
     },
     "metadata": {},
     "output_type": "display_data"
    }
   ],
   "source": [
    "generos = sexos.drop(24)\n",
    "\n",
    "# Convertendo as colunas de \"Homens\" e \"Mulheres\" para numérico\n",
    "generos[('Gêneros', 'Homens')] = pd.to_numeric(generos[('Gêneros', 'Homens')])\n",
    "generos[('Gêneros', 'Mulheres')] = pd.to_numeric(generos[('Gêneros', 'Mulheres')])\n",
    "\n",
    "# Criando o gráfico de barras\n",
    "fig = go.Figure()\n",
    "\n",
    "# Adicionando barras para Homens\n",
    "fig.add_trace(go.Bar(\n",
    "    x=generos[('', 'Províncias e Município Neutro')],\n",
    "    y=generos[('Gêneros', 'Homens')],\n",
    "    name='Homens',\n",
    "    marker_color='blue'\n",
    "))\n",
    "\n",
    "# Adicionando barras para Mulheres\n",
    "fig.add_trace(go.Bar(\n",
    "    x=generos[('', 'Províncias e Município Neutro')],\n",
    "    y=generos[('Gêneros', 'Mulheres')],\n",
    "    name='Mulheres',\n",
    "    marker_color='pink'\n",
    "))\n",
    "\n",
    "# Configurações do layout\n",
    "fig.update_layout(\n",
    "    title='População por Província e Gênero',\n",
    "    xaxis_title='Províncias',\n",
    "    yaxis_title='População',\n",
    "    barmode='group',  # Barras agrupadas\n",
    "    template='plotly_white'\n",
    ")\n",
    "\n",
    "# Mostrar o gráfico\n",
    "fig.show()"
   ]
  },
  {
   "cell_type": "markdown",
   "metadata": {},
   "source": [
    "## Estados civis"
   ]
  },
  {
   "cell_type": "code",
   "execution_count": 541,
   "metadata": {},
   "outputs": [
    {
     "data": {
      "text/plain": [
       "Index(['Unnamed: 0', 'Unnamed: 1', 'Unnamed: 2', 'Unnamed: 3', 'Unnamed: 4',\n",
       "       'Unnamed: 5', 'Unnamed: 6', 'Unnamed: 7', 'Unnamed: 8', 'Unnamed: 9',\n",
       "       'Unnamed: 10', 'Unnamed: 11', 'Unnamed: 12', 'Unnamed: 13',\n",
       "       'Unnamed: 14', 'Unnamed: 15', 'Unnamed: 16', 'Unnamed: 17',\n",
       "       'Unnamed: 18', 'Unnamed: 19', 'Unnamed: 20', 'Unnamed: 21',\n",
       "       'Unnamed: 22', 'Unnamed: 23', 'Unnamed: 24', 'Unnamed: 25', 'Instrução',\n",
       "       'Unnamed: 27', 'Unnamed: 28', 'Unnamed: 29', 'Unnamed: 30',\n",
       "       'Unnamed: 31', 'Unnamed: 32', 'Unnamed: 33', 'Unnamed: 34',\n",
       "       'Unnamed: 35', 'Unnamed: 36', 'Unnamed: 37', 'Unnamed: 38',\n",
       "       'Unnamed: 39'],\n",
       "      dtype='object')"
      ]
     },
     "execution_count": 541,
     "metadata": {},
     "output_type": "execute_result"
    }
   ],
   "source": [
    "df.columns"
   ]
  },
  {
   "cell_type": "code",
   "execution_count": 542,
   "metadata": {},
   "outputs": [
    {
     "data": {
      "text/html": [
       "<div>\n",
       "<style scoped>\n",
       "    .dataframe tbody tr th:only-of-type {\n",
       "        vertical-align: middle;\n",
       "    }\n",
       "\n",
       "    .dataframe tbody tr th {\n",
       "        vertical-align: top;\n",
       "    }\n",
       "\n",
       "    .dataframe thead th {\n",
       "        text-align: right;\n",
       "    }\n",
       "</style>\n",
       "<table border=\"1\" class=\"dataframe\">\n",
       "  <thead>\n",
       "    <tr style=\"text-align: right;\">\n",
       "      <th></th>\n",
       "      <th>Unnamed: 0</th>\n",
       "      <th>Unnamed: 4</th>\n",
       "      <th>Unnamed: 5</th>\n",
       "      <th>Unnamed: 6</th>\n",
       "      <th>Unnamed: 7</th>\n",
       "      <th>Unnamed: 8</th>\n",
       "      <th>Unnamed: 9</th>\n",
       "    </tr>\n",
       "  </thead>\n",
       "  <tbody>\n",
       "    <tr>\n",
       "      <th>0</th>\n",
       "      <td>NaN</td>\n",
       "      <td>Estados Civis</td>\n",
       "      <td>NaN</td>\n",
       "      <td>NaN</td>\n",
       "      <td>NaN</td>\n",
       "      <td>NaN</td>\n",
       "      <td>NaN</td>\n",
       "    </tr>\n",
       "    <tr>\n",
       "      <th>1</th>\n",
       "      <td>NaN</td>\n",
       "      <td>dos Homens</td>\n",
       "      <td>NaN</td>\n",
       "      <td>NaN</td>\n",
       "      <td>das Mulheres</td>\n",
       "      <td>NaN</td>\n",
       "      <td>NaN</td>\n",
       "    </tr>\n",
       "    <tr>\n",
       "      <th>2</th>\n",
       "      <td>Províncias e Município Neutro</td>\n",
       "      <td>Solteiros</td>\n",
       "      <td>Casados</td>\n",
       "      <td>Viúvos</td>\n",
       "      <td>Solteiras</td>\n",
       "      <td>Casadas</td>\n",
       "      <td>Viúvas</td>\n",
       "    </tr>\n",
       "    <tr>\n",
       "      <th>3</th>\n",
       "      <td>Amazonas</td>\n",
       "      <td>24959</td>\n",
       "      <td>5105</td>\n",
       "      <td>919</td>\n",
       "      <td>19214</td>\n",
       "      <td>4714</td>\n",
       "      <td>1720</td>\n",
       "    </tr>\n",
       "    <tr>\n",
       "      <th>4</th>\n",
       "      <td>Pará</td>\n",
       "      <td>94848</td>\n",
       "      <td>28935</td>\n",
       "      <td>4806</td>\n",
       "      <td>86825</td>\n",
       "      <td>26280</td>\n",
       "      <td>6085</td>\n",
       "    </tr>\n",
       "  </tbody>\n",
       "</table>\n",
       "</div>"
      ],
      "text/plain": [
       "                      Unnamed: 0     Unnamed: 4 Unnamed: 5 Unnamed: 6  \\\n",
       "0                            NaN  Estados Civis        NaN        NaN   \n",
       "1                            NaN     dos Homens        NaN        NaN   \n",
       "2  Províncias e Município Neutro      Solteiros    Casados     Viúvos   \n",
       "3                       Amazonas          24959       5105        919   \n",
       "4                           Pará          94848      28935       4806   \n",
       "\n",
       "     Unnamed: 7 Unnamed: 8 Unnamed: 9  \n",
       "0           NaN        NaN        NaN  \n",
       "1  das Mulheres        NaN        NaN  \n",
       "2     Solteiras    Casadas     Viúvas  \n",
       "3         19214       4714       1720  \n",
       "4         86825      26280       6085  "
      ]
     },
     "execution_count": 542,
     "metadata": {},
     "output_type": "execute_result"
    }
   ],
   "source": [
    "estados_civis = df[['Unnamed: 0','Unnamed: 4', 'Unnamed: 5', 'Unnamed: 6', 'Unnamed: 7', 'Unnamed: 8', 'Unnamed: 9']]\n",
    "estados_civis.head()"
   ]
  },
  {
   "cell_type": "code",
   "execution_count": 543,
   "metadata": {},
   "outputs": [
    {
     "data": {
      "text/html": [
       "<div>\n",
       "<style scoped>\n",
       "    .dataframe tbody tr th:only-of-type {\n",
       "        vertical-align: middle;\n",
       "    }\n",
       "\n",
       "    .dataframe tbody tr th {\n",
       "        vertical-align: top;\n",
       "    }\n",
       "\n",
       "    .dataframe thead th {\n",
       "        text-align: right;\n",
       "    }\n",
       "</style>\n",
       "<table border=\"1\" class=\"dataframe\">\n",
       "  <thead>\n",
       "    <tr style=\"text-align: right;\">\n",
       "      <th></th>\n",
       "      <th>NaN</th>\n",
       "      <th>Estados Civis</th>\n",
       "      <th>NaN</th>\n",
       "      <th>NaN</th>\n",
       "      <th>NaN</th>\n",
       "      <th>NaN</th>\n",
       "      <th>NaN</th>\n",
       "    </tr>\n",
       "  </thead>\n",
       "  <tbody>\n",
       "    <tr>\n",
       "      <th>3</th>\n",
       "      <td>Amazonas</td>\n",
       "      <td>24959</td>\n",
       "      <td>5105</td>\n",
       "      <td>919</td>\n",
       "      <td>19214</td>\n",
       "      <td>4714</td>\n",
       "      <td>1720</td>\n",
       "    </tr>\n",
       "    <tr>\n",
       "      <th>4</th>\n",
       "      <td>Pará</td>\n",
       "      <td>94848</td>\n",
       "      <td>28935</td>\n",
       "      <td>4806</td>\n",
       "      <td>86825</td>\n",
       "      <td>26280</td>\n",
       "      <td>6085</td>\n",
       "    </tr>\n",
       "    <tr>\n",
       "      <th>5</th>\n",
       "      <td>Maranhão</td>\n",
       "      <td>103283</td>\n",
       "      <td>33644</td>\n",
       "      <td>5015</td>\n",
       "      <td>102302</td>\n",
       "      <td>32337</td>\n",
       "      <td>7520</td>\n",
       "    </tr>\n",
       "    <tr>\n",
       "      <th>6</th>\n",
       "      <td>Piauí</td>\n",
       "      <td>63294</td>\n",
       "      <td>23323</td>\n",
       "      <td>3705</td>\n",
       "      <td>59547</td>\n",
       "      <td>23371</td>\n",
       "      <td>5187</td>\n",
       "    </tr>\n",
       "    <tr>\n",
       "      <th>7</th>\n",
       "      <td>Ceará</td>\n",
       "      <td>241692</td>\n",
       "      <td>99915</td>\n",
       "      <td>9299</td>\n",
       "      <td>224509</td>\n",
       "      <td>99849</td>\n",
       "      <td>14509</td>\n",
       "    </tr>\n",
       "  </tbody>\n",
       "</table>\n",
       "</div>"
      ],
      "text/plain": [
       "0       NaN Estados Civis    NaN   NaN     NaN    NaN    NaN\n",
       "3  Amazonas         24959   5105   919   19214   4714   1720\n",
       "4      Pará         94848  28935  4806   86825  26280   6085\n",
       "5  Maranhão        103283  33644  5015  102302  32337   7520\n",
       "6     Piauí         63294  23323  3705   59547  23371   5187\n",
       "7     Ceará        241692  99915  9299  224509  99849  14509"
      ]
     },
     "execution_count": 543,
     "metadata": {},
     "output_type": "execute_result"
    }
   ],
   "source": [
    "estados_civis_header = estados_civis.iloc[0]\n",
    "estados_civis.columns = estados_civis_header\n",
    "estados_civis = estados_civis[3:]\n",
    "estados_civis.head()"
   ]
  },
  {
   "cell_type": "code",
   "execution_count": 544,
   "metadata": {},
   "outputs": [
    {
     "name": "stdout",
     "output_type": "stream",
     "text": [
      "(22, 7)\n"
     ]
    },
    {
     "data": {
      "text/html": [
       "<div>\n",
       "<style scoped>\n",
       "    .dataframe tbody tr th:only-of-type {\n",
       "        vertical-align: middle;\n",
       "    }\n",
       "\n",
       "    .dataframe tbody tr th {\n",
       "        vertical-align: top;\n",
       "    }\n",
       "\n",
       "    .dataframe thead tr th {\n",
       "        text-align: left;\n",
       "    }\n",
       "</style>\n",
       "<table border=\"1\" class=\"dataframe\">\n",
       "  <thead>\n",
       "    <tr>\n",
       "      <th></th>\n",
       "      <th></th>\n",
       "      <th colspan=\"3\" halign=\"left\">dos Homens</th>\n",
       "      <th colspan=\"3\" halign=\"left\">das Mulheres</th>\n",
       "    </tr>\n",
       "    <tr>\n",
       "      <th></th>\n",
       "      <th>Províncias e Município Neutro</th>\n",
       "      <th>Solteiros</th>\n",
       "      <th>Casados</th>\n",
       "      <th>Viúvos</th>\n",
       "      <th>Solteiras</th>\n",
       "      <th>Casadas</th>\n",
       "      <th>Viúvas</th>\n",
       "    </tr>\n",
       "  </thead>\n",
       "  <tbody>\n",
       "    <tr>\n",
       "      <th>3</th>\n",
       "      <td>Amazonas</td>\n",
       "      <td>24959</td>\n",
       "      <td>5105</td>\n",
       "      <td>919</td>\n",
       "      <td>19214</td>\n",
       "      <td>4714</td>\n",
       "      <td>1720</td>\n",
       "    </tr>\n",
       "    <tr>\n",
       "      <th>4</th>\n",
       "      <td>Pará</td>\n",
       "      <td>94848</td>\n",
       "      <td>28935</td>\n",
       "      <td>4806</td>\n",
       "      <td>86825</td>\n",
       "      <td>26280</td>\n",
       "      <td>6085</td>\n",
       "    </tr>\n",
       "    <tr>\n",
       "      <th>5</th>\n",
       "      <td>Maranhão</td>\n",
       "      <td>103283</td>\n",
       "      <td>33644</td>\n",
       "      <td>5015</td>\n",
       "      <td>102302</td>\n",
       "      <td>32337</td>\n",
       "      <td>7520</td>\n",
       "    </tr>\n",
       "    <tr>\n",
       "      <th>6</th>\n",
       "      <td>Piauí</td>\n",
       "      <td>63294</td>\n",
       "      <td>23323</td>\n",
       "      <td>3705</td>\n",
       "      <td>59547</td>\n",
       "      <td>23371</td>\n",
       "      <td>5187</td>\n",
       "    </tr>\n",
       "    <tr>\n",
       "      <th>7</th>\n",
       "      <td>Ceará</td>\n",
       "      <td>241692</td>\n",
       "      <td>99915</td>\n",
       "      <td>9299</td>\n",
       "      <td>224509</td>\n",
       "      <td>99849</td>\n",
       "      <td>14509</td>\n",
       "    </tr>\n",
       "    <tr>\n",
       "      <th>8</th>\n",
       "      <td>Rio Grande do Norte</td>\n",
       "      <td>80803</td>\n",
       "      <td>26832</td>\n",
       "      <td>5086</td>\n",
       "      <td>75915</td>\n",
       "      <td>26735</td>\n",
       "      <td>5588</td>\n",
       "    </tr>\n",
       "    <tr>\n",
       "      <th>9</th>\n",
       "      <td>Paraíba</td>\n",
       "      <td>119403</td>\n",
       "      <td>53474</td>\n",
       "      <td>6556</td>\n",
       "      <td>112332</td>\n",
       "      <td>53274</td>\n",
       "      <td>9661</td>\n",
       "    </tr>\n",
       "    <tr>\n",
       "      <th>10</th>\n",
       "      <td>Pernambuco</td>\n",
       "      <td>258936</td>\n",
       "      <td>111189</td>\n",
       "      <td>11440</td>\n",
       "      <td>240239</td>\n",
       "      <td>111465</td>\n",
       "      <td>19242</td>\n",
       "    </tr>\n",
       "    <tr>\n",
       "      <th>11</th>\n",
       "      <td>Alagoas</td>\n",
       "      <td>102729</td>\n",
       "      <td>47865</td>\n",
       "      <td>4990</td>\n",
       "      <td>99772</td>\n",
       "      <td>46743</td>\n",
       "      <td>10169</td>\n",
       "    </tr>\n",
       "    <tr>\n",
       "      <th>12</th>\n",
       "      <td>Sergipe</td>\n",
       "      <td>48013</td>\n",
       "      <td>24027</td>\n",
       "      <td>2699</td>\n",
       "      <td>50746</td>\n",
       "      <td>24795</td>\n",
       "      <td>3340</td>\n",
       "    </tr>\n",
       "    <tr>\n",
       "      <th>13</th>\n",
       "      <td>Bahia</td>\n",
       "      <td>440556</td>\n",
       "      <td>160204</td>\n",
       "      <td>29593</td>\n",
       "      <td>398473</td>\n",
       "      <td>151883</td>\n",
       "      <td>31083</td>\n",
       "    </tr>\n",
       "    <tr>\n",
       "      <th>14</th>\n",
       "      <td>Espírito Santo</td>\n",
       "      <td>19415</td>\n",
       "      <td>9298</td>\n",
       "      <td>894</td>\n",
       "      <td>19251</td>\n",
       "      <td>9449</td>\n",
       "      <td>1171</td>\n",
       "    </tr>\n",
       "    <tr>\n",
       "      <th>15</th>\n",
       "      <td>Município Neutro</td>\n",
       "      <td>104036</td>\n",
       "      <td>25763</td>\n",
       "      <td>4081</td>\n",
       "      <td>64074</td>\n",
       "      <td>20174</td>\n",
       "      <td>7905</td>\n",
       "    </tr>\n",
       "    <tr>\n",
       "      <th>16</th>\n",
       "      <td>Rio de Janeiro</td>\n",
       "      <td>168391</td>\n",
       "      <td>71842</td>\n",
       "      <td>15573</td>\n",
       "      <td>148840</td>\n",
       "      <td>68726</td>\n",
       "      <td>16715</td>\n",
       "    </tr>\n",
       "    <tr>\n",
       "      <th>17</th>\n",
       "      <td>São Paulo</td>\n",
       "      <td>234386</td>\n",
       "      <td>98864</td>\n",
       "      <td>15054</td>\n",
       "      <td>218684</td>\n",
       "      <td>96290</td>\n",
       "      <td>17464</td>\n",
       "    </tr>\n",
       "    <tr>\n",
       "      <th>18</th>\n",
       "      <td>Paraná</td>\n",
       "      <td>37977</td>\n",
       "      <td>18649</td>\n",
       "      <td>2678</td>\n",
       "      <td>35006</td>\n",
       "      <td>18332</td>\n",
       "      <td>3520</td>\n",
       "    </tr>\n",
       "    <tr>\n",
       "      <th>19</th>\n",
       "      <td>Santa Catarina</td>\n",
       "      <td>49985</td>\n",
       "      <td>21351</td>\n",
       "      <td>1752</td>\n",
       "      <td>47122</td>\n",
       "      <td>20412</td>\n",
       "      <td>4196</td>\n",
       "    </tr>\n",
       "    <tr>\n",
       "      <th>20</th>\n",
       "      <td>Rio Grande do Sul</td>\n",
       "      <td>139899</td>\n",
       "      <td>45104</td>\n",
       "      <td>6019</td>\n",
       "      <td>124864</td>\n",
       "      <td>41525</td>\n",
       "      <td>9611</td>\n",
       "    </tr>\n",
       "    <tr>\n",
       "      <th>21</th>\n",
       "      <td>Minas Gerais</td>\n",
       "      <td>572728</td>\n",
       "      <td>231947</td>\n",
       "      <td>42917</td>\n",
       "      <td>557389</td>\n",
       "      <td>217353</td>\n",
       "      <td>46942</td>\n",
       "    </tr>\n",
       "    <tr>\n",
       "      <th>22</th>\n",
       "      <td>Goiás</td>\n",
       "      <td>51886</td>\n",
       "      <td>20696</td>\n",
       "      <td>2386</td>\n",
       "      <td>50125</td>\n",
       "      <td>20340</td>\n",
       "      <td>4310</td>\n",
       "    </tr>\n",
       "    <tr>\n",
       "      <th>23</th>\n",
       "      <td>Mato Grosso</td>\n",
       "      <td>18227</td>\n",
       "      <td>7839</td>\n",
       "      <td>1925</td>\n",
       "      <td>17353</td>\n",
       "      <td>6953</td>\n",
       "      <td>1453</td>\n",
       "    </tr>\n",
       "    <tr>\n",
       "      <th>24</th>\n",
       "      <td>Total</td>\n",
       "      <td>2975446</td>\n",
       "      <td>1165866</td>\n",
       "      <td>177387</td>\n",
       "      <td>2752582</td>\n",
       "      <td>1121000</td>\n",
       "      <td>227391</td>\n",
       "    </tr>\n",
       "  </tbody>\n",
       "</table>\n",
       "</div>"
      ],
      "text/plain": [
       "                                 dos Homens                  das Mulheres  \\\n",
       "   Províncias e Município Neutro  Solteiros  Casados  Viúvos    Solteiras   \n",
       "3                       Amazonas      24959     5105     919        19214   \n",
       "4                           Pará      94848    28935    4806        86825   \n",
       "5                       Maranhão     103283    33644    5015       102302   \n",
       "6                          Piauí      63294    23323    3705        59547   \n",
       "7                          Ceará     241692    99915    9299       224509   \n",
       "8            Rio Grande do Norte      80803    26832    5086        75915   \n",
       "9                        Paraíba     119403    53474    6556       112332   \n",
       "10                    Pernambuco     258936   111189   11440       240239   \n",
       "11                       Alagoas     102729    47865    4990        99772   \n",
       "12                       Sergipe      48013    24027    2699        50746   \n",
       "13                         Bahia     440556   160204   29593       398473   \n",
       "14                Espírito Santo      19415     9298     894        19251   \n",
       "15              Município Neutro     104036    25763    4081        64074   \n",
       "16                Rio de Janeiro     168391    71842   15573       148840   \n",
       "17                     São Paulo     234386    98864   15054       218684   \n",
       "18                        Paraná      37977    18649    2678        35006   \n",
       "19                Santa Catarina      49985    21351    1752        47122   \n",
       "20             Rio Grande do Sul     139899    45104    6019       124864   \n",
       "21                  Minas Gerais     572728   231947   42917       557389   \n",
       "22                         Goiás      51886    20696    2386        50125   \n",
       "23                   Mato Grosso      18227     7839    1925        17353   \n",
       "24                         Total    2975446  1165866  177387      2752582   \n",
       "\n",
       "                     \n",
       "    Casadas  Viúvas  \n",
       "3      4714    1720  \n",
       "4     26280    6085  \n",
       "5     32337    7520  \n",
       "6     23371    5187  \n",
       "7     99849   14509  \n",
       "8     26735    5588  \n",
       "9     53274    9661  \n",
       "10   111465   19242  \n",
       "11    46743   10169  \n",
       "12    24795    3340  \n",
       "13   151883   31083  \n",
       "14     9449    1171  \n",
       "15    20174    7905  \n",
       "16    68726   16715  \n",
       "17    96290   17464  \n",
       "18    18332    3520  \n",
       "19    20412    4196  \n",
       "20    41525    9611  \n",
       "21   217353   46942  \n",
       "22    20340    4310  \n",
       "23     6953    1453  \n",
       "24  1121000  227391  "
      ]
     },
     "execution_count": 544,
     "metadata": {},
     "output_type": "execute_result"
    }
   ],
   "source": [
    "columns_multiindex = pd.MultiIndex.from_tuples([\n",
    "    #('Gêneros', 'Províncias e Município Neutro'),\n",
    "    ('', 'Províncias e Município Neutro'),\n",
    "    ('dos Homens', 'Solteiros'),\n",
    "    ('dos Homens', 'Casados'),\n",
    "    ('dos Homens', 'Viúvos'),\n",
    "    ('das Mulheres', 'Solteiras'),\n",
    "    ('das Mulheres', 'Casadas'),\n",
    "    ('das Mulheres', 'Viúvas')\n",
    "])\n",
    "\n",
    "# Atribuindo o MultiIndex às colunas do DataFrame\n",
    "estados_civis.columns = columns_multiindex\n",
    "print(estados_civis.shape)\n",
    "estados_civis"
   ]
  },
  {
   "cell_type": "code",
   "execution_count": 545,
   "metadata": {},
   "outputs": [],
   "source": [
    "estados_civis.drop(columns=('', 'Províncias e Município Neutro'), inplace=True)"
   ]
  },
  {
   "cell_type": "code",
   "execution_count": 546,
   "metadata": {},
   "outputs": [
    {
     "data": {
      "text/html": [
       "<div>\n",
       "<style scoped>\n",
       "    .dataframe tbody tr th:only-of-type {\n",
       "        vertical-align: middle;\n",
       "    }\n",
       "\n",
       "    .dataframe tbody tr th {\n",
       "        vertical-align: top;\n",
       "    }\n",
       "\n",
       "    .dataframe thead tr th {\n",
       "        text-align: left;\n",
       "    }\n",
       "</style>\n",
       "<table border=\"1\" class=\"dataframe\">\n",
       "  <thead>\n",
       "    <tr>\n",
       "      <th></th>\n",
       "      <th></th>\n",
       "      <th colspan=\"3\" halign=\"left\">Gêneros</th>\n",
       "      <th colspan=\"3\" halign=\"left\">dos Homens</th>\n",
       "      <th colspan=\"3\" halign=\"left\">das Mulheres</th>\n",
       "    </tr>\n",
       "    <tr>\n",
       "      <th></th>\n",
       "      <th>Províncias e Município Neutro</th>\n",
       "      <th>Homens</th>\n",
       "      <th>Mulheres</th>\n",
       "      <th>Total</th>\n",
       "      <th>Solteiros</th>\n",
       "      <th>Casados</th>\n",
       "      <th>Viúvos</th>\n",
       "      <th>Solteiras</th>\n",
       "      <th>Casadas</th>\n",
       "      <th>Viúvas</th>\n",
       "    </tr>\n",
       "  </thead>\n",
       "  <tbody>\n",
       "    <tr>\n",
       "      <th>3</th>\n",
       "      <td>Amazonas</td>\n",
       "      <td>30983</td>\n",
       "      <td>2564</td>\n",
       "      <td>56631</td>\n",
       "      <td>24959</td>\n",
       "      <td>5105</td>\n",
       "      <td>919</td>\n",
       "      <td>19214</td>\n",
       "      <td>4714</td>\n",
       "      <td>1720</td>\n",
       "    </tr>\n",
       "    <tr>\n",
       "      <th>4</th>\n",
       "      <td>Pará</td>\n",
       "      <td>128589</td>\n",
       "      <td>11919</td>\n",
       "      <td>247779</td>\n",
       "      <td>94848</td>\n",
       "      <td>28935</td>\n",
       "      <td>4806</td>\n",
       "      <td>86825</td>\n",
       "      <td>26280</td>\n",
       "      <td>6085</td>\n",
       "    </tr>\n",
       "    <tr>\n",
       "      <th>5</th>\n",
       "      <td>Maranhão</td>\n",
       "      <td>141942</td>\n",
       "      <td>14215</td>\n",
       "      <td>284101</td>\n",
       "      <td>103283</td>\n",
       "      <td>33644</td>\n",
       "      <td>5015</td>\n",
       "      <td>102302</td>\n",
       "      <td>32337</td>\n",
       "      <td>7520</td>\n",
       "    </tr>\n",
       "    <tr>\n",
       "      <th>6</th>\n",
       "      <td>Piauí</td>\n",
       "      <td>90322</td>\n",
       "      <td>8810</td>\n",
       "      <td>178427</td>\n",
       "      <td>63294</td>\n",
       "      <td>23323</td>\n",
       "      <td>3705</td>\n",
       "      <td>59547</td>\n",
       "      <td>23371</td>\n",
       "      <td>5187</td>\n",
       "    </tr>\n",
       "    <tr>\n",
       "      <th>7</th>\n",
       "      <td>Ceará</td>\n",
       "      <td>350906</td>\n",
       "      <td>33886</td>\n",
       "      <td>689773</td>\n",
       "      <td>241692</td>\n",
       "      <td>99915</td>\n",
       "      <td>9299</td>\n",
       "      <td>224509</td>\n",
       "      <td>99849</td>\n",
       "      <td>14509</td>\n",
       "    </tr>\n",
       "    <tr>\n",
       "      <th>8</th>\n",
       "      <td>Rio Grande do Norte</td>\n",
       "      <td>112721</td>\n",
       "      <td>10823</td>\n",
       "      <td>220959</td>\n",
       "      <td>80803</td>\n",
       "      <td>26832</td>\n",
       "      <td>5086</td>\n",
       "      <td>75915</td>\n",
       "      <td>26735</td>\n",
       "      <td>5588</td>\n",
       "    </tr>\n",
       "    <tr>\n",
       "      <th>9</th>\n",
       "      <td>Paraíba</td>\n",
       "      <td>179433</td>\n",
       "      <td>17526</td>\n",
       "      <td>354700</td>\n",
       "      <td>119403</td>\n",
       "      <td>53474</td>\n",
       "      <td>6556</td>\n",
       "      <td>112332</td>\n",
       "      <td>53274</td>\n",
       "      <td>9661</td>\n",
       "    </tr>\n",
       "    <tr>\n",
       "      <th>10</th>\n",
       "      <td>Pernambuco</td>\n",
       "      <td>381565</td>\n",
       "      <td>37094</td>\n",
       "      <td>752511</td>\n",
       "      <td>258936</td>\n",
       "      <td>111189</td>\n",
       "      <td>11440</td>\n",
       "      <td>240239</td>\n",
       "      <td>111465</td>\n",
       "      <td>19242</td>\n",
       "    </tr>\n",
       "    <tr>\n",
       "      <th>11</th>\n",
       "      <td>Alagoas</td>\n",
       "      <td>155584</td>\n",
       "      <td>15667</td>\n",
       "      <td>312268</td>\n",
       "      <td>102729</td>\n",
       "      <td>47865</td>\n",
       "      <td>4990</td>\n",
       "      <td>99772</td>\n",
       "      <td>46743</td>\n",
       "      <td>10169</td>\n",
       "    </tr>\n",
       "    <tr>\n",
       "      <th>12</th>\n",
       "      <td>Sergipe</td>\n",
       "      <td>74739</td>\n",
       "      <td>7888</td>\n",
       "      <td>153620</td>\n",
       "      <td>48013</td>\n",
       "      <td>24027</td>\n",
       "      <td>2699</td>\n",
       "      <td>50746</td>\n",
       "      <td>24795</td>\n",
       "      <td>3340</td>\n",
       "    </tr>\n",
       "    <tr>\n",
       "      <th>13</th>\n",
       "      <td>Bahia</td>\n",
       "      <td>630353</td>\n",
       "      <td>58143</td>\n",
       "      <td>1211792</td>\n",
       "      <td>440556</td>\n",
       "      <td>160204</td>\n",
       "      <td>29593</td>\n",
       "      <td>398473</td>\n",
       "      <td>151883</td>\n",
       "      <td>31083</td>\n",
       "    </tr>\n",
       "    <tr>\n",
       "      <th>14</th>\n",
       "      <td>Espírito Santo</td>\n",
       "      <td>29607</td>\n",
       "      <td>29871</td>\n",
       "      <td>59478</td>\n",
       "      <td>19415</td>\n",
       "      <td>9298</td>\n",
       "      <td>894</td>\n",
       "      <td>19251</td>\n",
       "      <td>9449</td>\n",
       "      <td>1171</td>\n",
       "    </tr>\n",
       "    <tr>\n",
       "      <th>15</th>\n",
       "      <td>Município Neutro</td>\n",
       "      <td>133880</td>\n",
       "      <td>92153</td>\n",
       "      <td>226033</td>\n",
       "      <td>104036</td>\n",
       "      <td>25763</td>\n",
       "      <td>4081</td>\n",
       "      <td>64074</td>\n",
       "      <td>20174</td>\n",
       "      <td>7905</td>\n",
       "    </tr>\n",
       "    <tr>\n",
       "      <th>16</th>\n",
       "      <td>Rio de Janeiro</td>\n",
       "      <td>255806</td>\n",
       "      <td>234281</td>\n",
       "      <td>499087</td>\n",
       "      <td>168391</td>\n",
       "      <td>71842</td>\n",
       "      <td>15573</td>\n",
       "      <td>148840</td>\n",
       "      <td>68726</td>\n",
       "      <td>16715</td>\n",
       "    </tr>\n",
       "    <tr>\n",
       "      <th>17</th>\n",
       "      <td>São Paulo</td>\n",
       "      <td>348304</td>\n",
       "      <td>332438</td>\n",
       "      <td>680742</td>\n",
       "      <td>234386</td>\n",
       "      <td>98864</td>\n",
       "      <td>15054</td>\n",
       "      <td>218684</td>\n",
       "      <td>96290</td>\n",
       "      <td>17464</td>\n",
       "    </tr>\n",
       "    <tr>\n",
       "      <th>18</th>\n",
       "      <td>Paraná</td>\n",
       "      <td>59384</td>\n",
       "      <td>56858</td>\n",
       "      <td>116162</td>\n",
       "      <td>37977</td>\n",
       "      <td>18649</td>\n",
       "      <td>2678</td>\n",
       "      <td>35006</td>\n",
       "      <td>18332</td>\n",
       "      <td>3520</td>\n",
       "    </tr>\n",
       "    <tr>\n",
       "      <th>19</th>\n",
       "      <td>Santa Catarina</td>\n",
       "      <td>73088</td>\n",
       "      <td>71730</td>\n",
       "      <td>144818</td>\n",
       "      <td>49985</td>\n",
       "      <td>21351</td>\n",
       "      <td>1752</td>\n",
       "      <td>47122</td>\n",
       "      <td>20412</td>\n",
       "      <td>4196</td>\n",
       "    </tr>\n",
       "    <tr>\n",
       "      <th>20</th>\n",
       "      <td>Rio Grande do Sul</td>\n",
       "      <td>191022</td>\n",
       "      <td>176000</td>\n",
       "      <td>367022</td>\n",
       "      <td>139899</td>\n",
       "      <td>45104</td>\n",
       "      <td>6019</td>\n",
       "      <td>124864</td>\n",
       "      <td>41525</td>\n",
       "      <td>9611</td>\n",
       "    </tr>\n",
       "    <tr>\n",
       "      <th>21</th>\n",
       "      <td>Minas Gerais</td>\n",
       "      <td>847592</td>\n",
       "      <td>821684</td>\n",
       "      <td>1669276</td>\n",
       "      <td>572728</td>\n",
       "      <td>231947</td>\n",
       "      <td>42917</td>\n",
       "      <td>557389</td>\n",
       "      <td>217353</td>\n",
       "      <td>46942</td>\n",
       "    </tr>\n",
       "    <tr>\n",
       "      <th>22</th>\n",
       "      <td>Goiás</td>\n",
       "      <td>74968</td>\n",
       "      <td>74775</td>\n",
       "      <td>149743</td>\n",
       "      <td>51886</td>\n",
       "      <td>20696</td>\n",
       "      <td>2386</td>\n",
       "      <td>50125</td>\n",
       "      <td>20340</td>\n",
       "      <td>4310</td>\n",
       "    </tr>\n",
       "    <tr>\n",
       "      <th>23</th>\n",
       "      <td>Mato Grosso</td>\n",
       "      <td>27991</td>\n",
       "      <td>25759</td>\n",
       "      <td>53750</td>\n",
       "      <td>18227</td>\n",
       "      <td>7839</td>\n",
       "      <td>1925</td>\n",
       "      <td>17353</td>\n",
       "      <td>6953</td>\n",
       "      <td>1453</td>\n",
       "    </tr>\n",
       "    <tr>\n",
       "      <th>24</th>\n",
       "      <td>Total</td>\n",
       "      <td>4318699</td>\n",
       "      <td>4100973</td>\n",
       "      <td>8419672</td>\n",
       "      <td>2975446</td>\n",
       "      <td>1165866</td>\n",
       "      <td>177387</td>\n",
       "      <td>2752582</td>\n",
       "      <td>1121000</td>\n",
       "      <td>227391</td>\n",
       "    </tr>\n",
       "  </tbody>\n",
       "</table>\n",
       "</div>"
      ],
      "text/plain": [
       "                                  Gêneros                   dos Homens  \\\n",
       "   Províncias e Município Neutro   Homens Mulheres    Total  Solteiros   \n",
       "3                       Amazonas    30983     2564    56631      24959   \n",
       "4                           Pará   128589    11919   247779      94848   \n",
       "5                       Maranhão   141942    14215   284101     103283   \n",
       "6                          Piauí    90322     8810   178427      63294   \n",
       "7                          Ceará   350906    33886   689773     241692   \n",
       "8            Rio Grande do Norte   112721    10823   220959      80803   \n",
       "9                        Paraíba   179433    17526   354700     119403   \n",
       "10                    Pernambuco   381565    37094   752511     258936   \n",
       "11                       Alagoas   155584    15667   312268     102729   \n",
       "12                       Sergipe    74739     7888   153620      48013   \n",
       "13                         Bahia   630353    58143  1211792     440556   \n",
       "14                Espírito Santo    29607    29871    59478      19415   \n",
       "15              Município Neutro   133880    92153   226033     104036   \n",
       "16                Rio de Janeiro   255806   234281   499087     168391   \n",
       "17                     São Paulo   348304   332438   680742     234386   \n",
       "18                        Paraná    59384    56858   116162      37977   \n",
       "19                Santa Catarina    73088    71730   144818      49985   \n",
       "20             Rio Grande do Sul   191022   176000   367022     139899   \n",
       "21                  Minas Gerais   847592   821684  1669276     572728   \n",
       "22                         Goiás    74968    74775   149743      51886   \n",
       "23                   Mato Grosso    27991    25759    53750      18227   \n",
       "24                         Total  4318699  4100973  8419672    2975446   \n",
       "\n",
       "                    das Mulheres                   \n",
       "    Casados  Viúvos    Solteiras  Casadas  Viúvas  \n",
       "3      5105     919        19214     4714    1720  \n",
       "4     28935    4806        86825    26280    6085  \n",
       "5     33644    5015       102302    32337    7520  \n",
       "6     23323    3705        59547    23371    5187  \n",
       "7     99915    9299       224509    99849   14509  \n",
       "8     26832    5086        75915    26735    5588  \n",
       "9     53474    6556       112332    53274    9661  \n",
       "10   111189   11440       240239   111465   19242  \n",
       "11    47865    4990        99772    46743   10169  \n",
       "12    24027    2699        50746    24795    3340  \n",
       "13   160204   29593       398473   151883   31083  \n",
       "14     9298     894        19251     9449    1171  \n",
       "15    25763    4081        64074    20174    7905  \n",
       "16    71842   15573       148840    68726   16715  \n",
       "17    98864   15054       218684    96290   17464  \n",
       "18    18649    2678        35006    18332    3520  \n",
       "19    21351    1752        47122    20412    4196  \n",
       "20    45104    6019       124864    41525    9611  \n",
       "21   231947   42917       557389   217353   46942  \n",
       "22    20696    2386        50125    20340    4310  \n",
       "23     7839    1925        17353     6953    1453  \n",
       "24  1165866  177387      2752582  1121000  227391  "
      ]
     },
     "execution_count": 546,
     "metadata": {},
     "output_type": "execute_result"
    }
   ],
   "source": [
    "df_sex_estados_c = pd.concat([sexos, estados_civis], axis=1)\n",
    "df_sex_estados_c"
   ]
  },
  {
   "cell_type": "code",
   "execution_count": 547,
   "metadata": {},
   "outputs": [
    {
     "name": "stdout",
     "output_type": "stream",
     "text": [
      "[Index(['Amazonas', 'Pará', 'Maranhão', 'Piauí', 'Ceará', 'Rio Grande do Norte',\n",
      "       'Paraíba', 'Pernambuco', 'Alagoas', 'Sergipe', 'Bahia',\n",
      "       'Espírito Santo', 'Município Neutro', 'Rio de Janeiro', 'São Paulo',\n",
      "       'Paraná', 'Santa Catarina', 'Rio Grande do Sul', 'Minas Gerais',\n",
      "       'Goiás', 'Mato Grosso', 'Total'],\n",
      "      dtype='object', name=('', 'Províncias e Município Neutro')), MultiIndex([(     'Gêneros',    'Homens'),\n",
      "            (     'Gêneros',  'Mulheres'),\n",
      "            (     'Gêneros',     'Total'),\n",
      "            (  'dos Homens', 'Solteiros'),\n",
      "            (  'dos Homens',   'Casados'),\n",
      "            (  'dos Homens',    'Viúvos'),\n",
      "            ('das Mulheres', 'Solteiras'),\n",
      "            ('das Mulheres',   'Casadas'),\n",
      "            ('das Mulheres',    'Viúvas')],\n",
      "           )]\n"
     ]
    },
    {
     "data": {
      "text/html": [
       "<div>\n",
       "<style scoped>\n",
       "    .dataframe tbody tr th:only-of-type {\n",
       "        vertical-align: middle;\n",
       "    }\n",
       "\n",
       "    .dataframe tbody tr th {\n",
       "        vertical-align: top;\n",
       "    }\n",
       "\n",
       "    .dataframe thead tr th {\n",
       "        text-align: left;\n",
       "    }\n",
       "\n",
       "    .dataframe thead tr:last-of-type th {\n",
       "        text-align: right;\n",
       "    }\n",
       "</style>\n",
       "<table border=\"1\" class=\"dataframe\">\n",
       "  <thead>\n",
       "    <tr>\n",
       "      <th></th>\n",
       "      <th colspan=\"3\" halign=\"left\">Gêneros</th>\n",
       "      <th colspan=\"3\" halign=\"left\">dos Homens</th>\n",
       "      <th colspan=\"3\" halign=\"left\">das Mulheres</th>\n",
       "    </tr>\n",
       "    <tr>\n",
       "      <th></th>\n",
       "      <th>Homens</th>\n",
       "      <th>Mulheres</th>\n",
       "      <th>Total</th>\n",
       "      <th>Solteiros</th>\n",
       "      <th>Casados</th>\n",
       "      <th>Viúvos</th>\n",
       "      <th>Solteiras</th>\n",
       "      <th>Casadas</th>\n",
       "      <th>Viúvas</th>\n",
       "    </tr>\n",
       "    <tr>\n",
       "      <th>(, Províncias e Município Neutro)</th>\n",
       "      <th></th>\n",
       "      <th></th>\n",
       "      <th></th>\n",
       "      <th></th>\n",
       "      <th></th>\n",
       "      <th></th>\n",
       "      <th></th>\n",
       "      <th></th>\n",
       "      <th></th>\n",
       "    </tr>\n",
       "  </thead>\n",
       "  <tbody>\n",
       "    <tr>\n",
       "      <th>Ceará</th>\n",
       "      <td>350906</td>\n",
       "      <td>33886</td>\n",
       "      <td>689773</td>\n",
       "      <td>241692</td>\n",
       "      <td>99915</td>\n",
       "      <td>9299</td>\n",
       "      <td>224509</td>\n",
       "      <td>99849</td>\n",
       "      <td>14509</td>\n",
       "    </tr>\n",
       "    <tr>\n",
       "      <th>Total</th>\n",
       "      <td>4318699</td>\n",
       "      <td>4100973</td>\n",
       "      <td>8419672</td>\n",
       "      <td>2975446</td>\n",
       "      <td>1165866</td>\n",
       "      <td>177387</td>\n",
       "      <td>2752582</td>\n",
       "      <td>1121000</td>\n",
       "      <td>227391</td>\n",
       "    </tr>\n",
       "  </tbody>\n",
       "</table>\n",
       "</div>"
      ],
      "text/plain": [
       "                                   Gêneros                   dos Homens  \\\n",
       "                                    Homens Mulheres    Total  Solteiros   \n",
       "(, Províncias e Município Neutro)                                         \n",
       "Ceará                               350906    33886   689773     241692   \n",
       "Total                              4318699  4100973  8419672    2975446   \n",
       "\n",
       "                                                   das Mulheres           \\\n",
       "                                   Casados  Viúvos    Solteiras  Casadas   \n",
       "(, Províncias e Município Neutro)                                          \n",
       "Ceará                                99915    9299       224509    99849   \n",
       "Total                              1165866  177387      2752582  1121000   \n",
       "\n",
       "                                           \n",
       "                                   Viúvas  \n",
       "(, Províncias e Município Neutro)          \n",
       "Ceará                               14509  \n",
       "Total                              227391  "
      ]
     },
     "execution_count": 547,
     "metadata": {},
     "output_type": "execute_result"
    }
   ],
   "source": [
    "#(            '', 'Províncias e Município Neutro') == \"Ceará\"\n",
    "test_index = df_sex_estados_c.set_index((            '', 'Províncias e Município Neutro'))\n",
    "print(test_index.axes)\n",
    "test_index.loc[['Ceará', 'Total']]"
   ]
  },
  {
   "cell_type": "markdown",
   "metadata": {},
   "source": [
    "### métricas estatísticas"
   ]
  },
  {
   "cell_type": "code",
   "execution_count": 548,
   "metadata": {},
   "outputs": [
    {
     "data": {
      "text/plain": [
       "Gêneros       Homens        1130.728172\n",
       "              Mulheres     12002.263472\n",
       "              Total         1120.643893\n",
       "dos Homens    Solteiros     1131.089982\n",
       "              Casados       1066.857829\n",
       "              Viúvos        1807.592214\n",
       "das Mulheres  Solteiras     1126.045281\n",
       "              Casadas       1022.695270\n",
       "              Viúvas        1467.241023\n",
       "Name: Total, dtype: float64"
      ]
     },
     "execution_count": 548,
     "metadata": {},
     "output_type": "execute_result"
    }
   ],
   "source": [
    "df_pct_change = test_index.loc[['Ceará', 'Total']]\n",
    "df_pct_change = df_pct_change.apply(pd.to_numeric)\n",
    "\n",
    "# Calcular a mudança percentual entre o slice (linha 0) e o total (linha 1)\n",
    "percentual_mudanca = df_pct_change.pct_change().iloc[1] * 100\n",
    "\n",
    "# Exibir o resultado\n",
    "percentual_mudanca"
   ]
  },
  {
   "cell_type": "code",
   "execution_count": 549,
   "metadata": {},
   "outputs": [
    {
     "data": {
      "text/plain": [
       "Gêneros       Homens       8.125271\n",
       "              Mulheres     0.826292\n",
       "              Total        8.192398\n",
       "dos Homens    Solteiros    8.122883\n",
       "              Casados      8.570024\n",
       "              Viúvos       5.242211\n",
       "das Mulheres  Solteiras    8.156306\n",
       "              Casadas      8.907136\n",
       "              Viúvas       6.380640\n",
       "dtype: float64"
      ]
     },
     "execution_count": 549,
     "metadata": {},
     "output_type": "execute_result"
    }
   ],
   "source": [
    "df_pct_change_total = test_index.loc[['Ceará', 'Total']]\n",
    "df_pct_change_total = df_pct_change_total.apply(pd.to_numeric)\n",
    "\n",
    "# Calcular quanto o slice representa do total\n",
    "(df_pct_change_total.iloc[0] / df_pct_change_total.iloc[1]) * 100"
   ]
  },
  {
   "cell_type": "code",
   "execution_count": 550,
   "metadata": {},
   "outputs": [],
   "source": [
    "### Quantil"
   ]
  },
  {
   "cell_type": "code",
   "execution_count": 551,
   "metadata": {},
   "outputs": [
    {
     "data": {
      "text/plain": [
       "Gêneros       Homens       2334802.5\n",
       "              Mulheres     2067429.5\n",
       "              Total        4554722.5\n",
       "dos Homens    Solteiros    1608569.0\n",
       "              Casados       632890.5\n",
       "              Viúvos         93343.0\n",
       "das Mulheres  Solteiras    1488545.5\n",
       "              Casadas       610424.5\n",
       "              Viúvas        120950.0\n",
       "Name: 0.5, dtype: float64"
      ]
     },
     "execution_count": 551,
     "metadata": {},
     "output_type": "execute_result"
    }
   ],
   "source": [
    "# Não sei se faz sentido calcular quantil\n",
    "df_pct_change_total.quantile(0.50)"
   ]
  },
  {
   "cell_type": "markdown",
   "metadata": {},
   "source": [
    "## Raças"
   ]
  },
  {
   "cell_type": "code",
   "execution_count": 552,
   "metadata": {},
   "outputs": [
    {
     "data": {
      "text/plain": [
       "Index(['Unnamed: 0', 'Unnamed: 1', 'Unnamed: 2', 'Unnamed: 3', 'Unnamed: 4',\n",
       "       'Unnamed: 5', 'Unnamed: 6', 'Unnamed: 7', 'Unnamed: 8', 'Unnamed: 9',\n",
       "       'Unnamed: 10', 'Unnamed: 11', 'Unnamed: 12', 'Unnamed: 13',\n",
       "       'Unnamed: 14', 'Unnamed: 15', 'Unnamed: 16', 'Unnamed: 17',\n",
       "       'Unnamed: 18', 'Unnamed: 19', 'Unnamed: 20', 'Unnamed: 21',\n",
       "       'Unnamed: 22', 'Unnamed: 23', 'Unnamed: 24', 'Unnamed: 25', 'Instrução',\n",
       "       'Unnamed: 27', 'Unnamed: 28', 'Unnamed: 29', 'Unnamed: 30',\n",
       "       'Unnamed: 31', 'Unnamed: 32', 'Unnamed: 33', 'Unnamed: 34',\n",
       "       'Unnamed: 35', 'Unnamed: 36', 'Unnamed: 37', 'Unnamed: 38',\n",
       "       'Unnamed: 39'],\n",
       "      dtype='object')"
      ]
     },
     "execution_count": 552,
     "metadata": {},
     "output_type": "execute_result"
    }
   ],
   "source": [
    "df.columns"
   ]
  },
  {
   "cell_type": "code",
   "execution_count": 553,
   "metadata": {},
   "outputs": [
    {
     "data": {
      "text/html": [
       "<div>\n",
       "<style scoped>\n",
       "    .dataframe tbody tr th:only-of-type {\n",
       "        vertical-align: middle;\n",
       "    }\n",
       "\n",
       "    .dataframe tbody tr th {\n",
       "        vertical-align: top;\n",
       "    }\n",
       "\n",
       "    .dataframe thead th {\n",
       "        text-align: right;\n",
       "    }\n",
       "</style>\n",
       "<table border=\"1\" class=\"dataframe\">\n",
       "  <thead>\n",
       "    <tr style=\"text-align: right;\">\n",
       "      <th></th>\n",
       "      <th>Unnamed: 0</th>\n",
       "      <th>Unnamed: 10</th>\n",
       "      <th>Unnamed: 11</th>\n",
       "      <th>Unnamed: 12</th>\n",
       "      <th>Unnamed: 13</th>\n",
       "      <th>Unnamed: 14</th>\n",
       "      <th>Unnamed: 15</th>\n",
       "      <th>Unnamed: 16</th>\n",
       "      <th>Unnamed: 17</th>\n",
       "    </tr>\n",
       "  </thead>\n",
       "  <tbody>\n",
       "    <tr>\n",
       "      <th>0</th>\n",
       "      <td>NaN</td>\n",
       "      <td>Raças</td>\n",
       "      <td>NaN</td>\n",
       "      <td>NaN</td>\n",
       "      <td>NaN</td>\n",
       "      <td>NaN</td>\n",
       "      <td>NaN</td>\n",
       "      <td>NaN</td>\n",
       "      <td>NaN</td>\n",
       "    </tr>\n",
       "    <tr>\n",
       "      <th>1</th>\n",
       "      <td>NaN</td>\n",
       "      <td>dos Homens</td>\n",
       "      <td>NaN</td>\n",
       "      <td>NaN</td>\n",
       "      <td>NaN</td>\n",
       "      <td>das Mulheres</td>\n",
       "      <td>NaN</td>\n",
       "      <td>NaN</td>\n",
       "      <td>NaN</td>\n",
       "    </tr>\n",
       "    <tr>\n",
       "      <th>2</th>\n",
       "      <td>Províncias e Município Neutro</td>\n",
       "      <td>Brancos</td>\n",
       "      <td>Pardos</td>\n",
       "      <td>Pretos</td>\n",
       "      <td>Caboclos</td>\n",
       "      <td>Brancas</td>\n",
       "      <td>Pardas</td>\n",
       "      <td>Pretas</td>\n",
       "      <td>Caboclas</td>\n",
       "    </tr>\n",
       "    <tr>\n",
       "      <th>3</th>\n",
       "      <td>Amazonas</td>\n",
       "      <td>6911</td>\n",
       "      <td>4210</td>\n",
       "      <td>711</td>\n",
       "      <td>19151</td>\n",
       "      <td>4300</td>\n",
       "      <td>3046</td>\n",
       "      <td>625</td>\n",
       "      <td>17677</td>\n",
       "    </tr>\n",
       "    <tr>\n",
       "      <th>4</th>\n",
       "      <td>Pará</td>\n",
       "      <td>49663</td>\n",
       "      <td>46899</td>\n",
       "      <td>9200</td>\n",
       "      <td>22827</td>\n",
       "      <td>42971</td>\n",
       "      <td>46828</td>\n",
       "      <td>7629</td>\n",
       "      <td>21762</td>\n",
       "    </tr>\n",
       "  </tbody>\n",
       "</table>\n",
       "</div>"
      ],
      "text/plain": [
       "                      Unnamed: 0 Unnamed: 10 Unnamed: 11 Unnamed: 12  \\\n",
       "0                            NaN       Raças         NaN         NaN   \n",
       "1                            NaN  dos Homens         NaN         NaN   \n",
       "2  Províncias e Município Neutro     Brancos      Pardos      Pretos   \n",
       "3                       Amazonas        6911        4210         711   \n",
       "4                           Pará       49663       46899        9200   \n",
       "\n",
       "  Unnamed: 13   Unnamed: 14 Unnamed: 15 Unnamed: 16 Unnamed: 17  \n",
       "0         NaN           NaN         NaN         NaN         NaN  \n",
       "1         NaN  das Mulheres         NaN         NaN         NaN  \n",
       "2    Caboclos       Brancas      Pardas      Pretas    Caboclas  \n",
       "3       19151          4300        3046         625       17677  \n",
       "4       22827         42971       46828        7629       21762  "
      ]
     },
     "execution_count": 553,
     "metadata": {},
     "output_type": "execute_result"
    }
   ],
   "source": [
    "racas = df[['Unnamed: 0','Unnamed: 10', 'Unnamed: 11', 'Unnamed: 12', 'Unnamed: 13', 'Unnamed: 14', 'Unnamed: 15', 'Unnamed: 16', 'Unnamed: 17']]\n",
    "racas.head()"
   ]
  },
  {
   "cell_type": "code",
   "execution_count": 554,
   "metadata": {},
   "outputs": [
    {
     "data": {
      "text/html": [
       "<div>\n",
       "<style scoped>\n",
       "    .dataframe tbody tr th:only-of-type {\n",
       "        vertical-align: middle;\n",
       "    }\n",
       "\n",
       "    .dataframe tbody tr th {\n",
       "        vertical-align: top;\n",
       "    }\n",
       "\n",
       "    .dataframe thead th {\n",
       "        text-align: right;\n",
       "    }\n",
       "</style>\n",
       "<table border=\"1\" class=\"dataframe\">\n",
       "  <thead>\n",
       "    <tr style=\"text-align: right;\">\n",
       "      <th></th>\n",
       "      <th>NaN</th>\n",
       "      <th>Raças</th>\n",
       "      <th>NaN</th>\n",
       "      <th>NaN</th>\n",
       "      <th>NaN</th>\n",
       "      <th>NaN</th>\n",
       "      <th>NaN</th>\n",
       "      <th>NaN</th>\n",
       "      <th>NaN</th>\n",
       "    </tr>\n",
       "  </thead>\n",
       "  <tbody>\n",
       "    <tr>\n",
       "      <th>3</th>\n",
       "      <td>Amazonas</td>\n",
       "      <td>6911</td>\n",
       "      <td>4210</td>\n",
       "      <td>711</td>\n",
       "      <td>19151</td>\n",
       "      <td>4300</td>\n",
       "      <td>3046</td>\n",
       "      <td>625</td>\n",
       "      <td>17677</td>\n",
       "    </tr>\n",
       "    <tr>\n",
       "      <th>4</th>\n",
       "      <td>Pará</td>\n",
       "      <td>49663</td>\n",
       "      <td>46899</td>\n",
       "      <td>9200</td>\n",
       "      <td>22827</td>\n",
       "      <td>42971</td>\n",
       "      <td>46828</td>\n",
       "      <td>7629</td>\n",
       "      <td>21762</td>\n",
       "    </tr>\n",
       "    <tr>\n",
       "      <th>5</th>\n",
       "      <td>Maranhão</td>\n",
       "      <td>52267</td>\n",
       "      <td>71662</td>\n",
       "      <td>12504</td>\n",
       "      <td>5509</td>\n",
       "      <td>51246</td>\n",
       "      <td>72699</td>\n",
       "      <td>12780</td>\n",
       "      <td>5434</td>\n",
       "    </tr>\n",
       "    <tr>\n",
       "      <th>6</th>\n",
       "      <td>Piauí</td>\n",
       "      <td>22208</td>\n",
       "      <td>53474</td>\n",
       "      <td>7505</td>\n",
       "      <td>7135</td>\n",
       "      <td>21239</td>\n",
       "      <td>53191</td>\n",
       "      <td>7357</td>\n",
       "      <td>6318</td>\n",
       "    </tr>\n",
       "    <tr>\n",
       "      <th>7</th>\n",
       "      <td>Ceará</td>\n",
       "      <td>136940</td>\n",
       "      <td>172841</td>\n",
       "      <td>14424</td>\n",
       "      <td>26701</td>\n",
       "      <td>131896</td>\n",
       "      <td>166325</td>\n",
       "      <td>14510</td>\n",
       "      <td>26136</td>\n",
       "    </tr>\n",
       "  </tbody>\n",
       "</table>\n",
       "</div>"
      ],
      "text/plain": [
       "0       NaN   Raças     NaN    NaN    NaN     NaN     NaN    NaN    NaN\n",
       "3  Amazonas    6911    4210    711  19151    4300    3046    625  17677\n",
       "4      Pará   49663   46899   9200  22827   42971   46828   7629  21762\n",
       "5  Maranhão   52267   71662  12504   5509   51246   72699  12780   5434\n",
       "6     Piauí   22208   53474   7505   7135   21239   53191   7357   6318\n",
       "7     Ceará  136940  172841  14424  26701  131896  166325  14510  26136"
      ]
     },
     "execution_count": 554,
     "metadata": {},
     "output_type": "execute_result"
    }
   ],
   "source": [
    "racas_header = racas.iloc[0]\n",
    "racas.columns = racas_header\n",
    "racas = racas[3:]\n",
    "racas.head()"
   ]
  },
  {
   "cell_type": "code",
   "execution_count": 555,
   "metadata": {},
   "outputs": [
    {
     "data": {
      "text/html": [
       "<div>\n",
       "<style scoped>\n",
       "    .dataframe tbody tr th:only-of-type {\n",
       "        vertical-align: middle;\n",
       "    }\n",
       "\n",
       "    .dataframe tbody tr th {\n",
       "        vertical-align: top;\n",
       "    }\n",
       "\n",
       "    .dataframe thead tr th {\n",
       "        text-align: left;\n",
       "    }\n",
       "</style>\n",
       "<table border=\"1\" class=\"dataframe\">\n",
       "  <thead>\n",
       "    <tr>\n",
       "      <th></th>\n",
       "      <th></th>\n",
       "      <th colspan=\"4\" halign=\"left\">dos Homens</th>\n",
       "      <th colspan=\"4\" halign=\"left\">das Mulheres</th>\n",
       "    </tr>\n",
       "    <tr>\n",
       "      <th></th>\n",
       "      <th>Províncias e Município Neutro</th>\n",
       "      <th>Brancos</th>\n",
       "      <th>Pardos</th>\n",
       "      <th>Pretos</th>\n",
       "      <th>Caboclos</th>\n",
       "      <th>Brancas</th>\n",
       "      <th>Pardas</th>\n",
       "      <th>Pretas</th>\n",
       "      <th>Caboclas</th>\n",
       "    </tr>\n",
       "  </thead>\n",
       "  <tbody>\n",
       "    <tr>\n",
       "      <th>3</th>\n",
       "      <td>Amazonas</td>\n",
       "      <td>6911</td>\n",
       "      <td>4210</td>\n",
       "      <td>711</td>\n",
       "      <td>19151</td>\n",
       "      <td>4300</td>\n",
       "      <td>3046</td>\n",
       "      <td>625</td>\n",
       "      <td>17677</td>\n",
       "    </tr>\n",
       "    <tr>\n",
       "      <th>4</th>\n",
       "      <td>Pará</td>\n",
       "      <td>49663</td>\n",
       "      <td>46899</td>\n",
       "      <td>9200</td>\n",
       "      <td>22827</td>\n",
       "      <td>42971</td>\n",
       "      <td>46828</td>\n",
       "      <td>7629</td>\n",
       "      <td>21762</td>\n",
       "    </tr>\n",
       "    <tr>\n",
       "      <th>5</th>\n",
       "      <td>Maranhão</td>\n",
       "      <td>52267</td>\n",
       "      <td>71662</td>\n",
       "      <td>12504</td>\n",
       "      <td>5509</td>\n",
       "      <td>51246</td>\n",
       "      <td>72699</td>\n",
       "      <td>12780</td>\n",
       "      <td>5434</td>\n",
       "    </tr>\n",
       "    <tr>\n",
       "      <th>6</th>\n",
       "      <td>Piauí</td>\n",
       "      <td>22208</td>\n",
       "      <td>53474</td>\n",
       "      <td>7505</td>\n",
       "      <td>7135</td>\n",
       "      <td>21239</td>\n",
       "      <td>53191</td>\n",
       "      <td>7357</td>\n",
       "      <td>6318</td>\n",
       "    </tr>\n",
       "    <tr>\n",
       "      <th>7</th>\n",
       "      <td>Ceará</td>\n",
       "      <td>136940</td>\n",
       "      <td>172841</td>\n",
       "      <td>14424</td>\n",
       "      <td>26701</td>\n",
       "      <td>131896</td>\n",
       "      <td>166325</td>\n",
       "      <td>14510</td>\n",
       "      <td>26136</td>\n",
       "    </tr>\n",
       "    <tr>\n",
       "      <th>8</th>\n",
       "      <td>Rio Grande do Norte</td>\n",
       "      <td>52835</td>\n",
       "      <td>42213</td>\n",
       "      <td>12202</td>\n",
       "      <td>5471</td>\n",
       "      <td>49630</td>\n",
       "      <td>41877</td>\n",
       "      <td>11163</td>\n",
       "      <td>5568</td>\n",
       "    </tr>\n",
       "    <tr>\n",
       "      <th>9</th>\n",
       "      <td>Paraíba</td>\n",
       "      <td>73475</td>\n",
       "      <td>89921</td>\n",
       "      <td>11155</td>\n",
       "      <td>4882</td>\n",
       "      <td>71246</td>\n",
       "      <td>88675</td>\n",
       "      <td>10661</td>\n",
       "      <td>4685</td>\n",
       "    </tr>\n",
       "    <tr>\n",
       "      <th>10</th>\n",
       "      <td>Pernambuco</td>\n",
       "      <td>149930</td>\n",
       "      <td>194897</td>\n",
       "      <td>30795</td>\n",
       "      <td>5943</td>\n",
       "      <td>141229</td>\n",
       "      <td>192954</td>\n",
       "      <td>30901</td>\n",
       "      <td>5862</td>\n",
       "    </tr>\n",
       "    <tr>\n",
       "      <th>11</th>\n",
       "      <td>Alagoas</td>\n",
       "      <td>45343</td>\n",
       "      <td>98916</td>\n",
       "      <td>8220</td>\n",
       "      <td>3105</td>\n",
       "      <td>43455</td>\n",
       "      <td>101283</td>\n",
       "      <td>8687</td>\n",
       "      <td>3259</td>\n",
       "    </tr>\n",
       "    <tr>\n",
       "      <th>12</th>\n",
       "      <td>Sergipe</td>\n",
       "      <td>24358</td>\n",
       "      <td>39524</td>\n",
       "      <td>9321</td>\n",
       "      <td>1536</td>\n",
       "      <td>25420</td>\n",
       "      <td>42059</td>\n",
       "      <td>9851</td>\n",
       "      <td>1551</td>\n",
       "    </tr>\n",
       "    <tr>\n",
       "      <th>13</th>\n",
       "      <td>Bahia</td>\n",
       "      <td>178605</td>\n",
       "      <td>287131</td>\n",
       "      <td>137574</td>\n",
       "      <td>27043</td>\n",
       "      <td>152874</td>\n",
       "      <td>278573</td>\n",
       "      <td>127153</td>\n",
       "      <td>22839</td>\n",
       "    </tr>\n",
       "    <tr>\n",
       "      <th>14</th>\n",
       "      <td>Espírito Santo</td>\n",
       "      <td>13555</td>\n",
       "      <td>9648</td>\n",
       "      <td>3395</td>\n",
       "      <td>3009</td>\n",
       "      <td>13027</td>\n",
       "      <td>10881</td>\n",
       "      <td>3443</td>\n",
       "      <td>2520</td>\n",
       "    </tr>\n",
       "    <tr>\n",
       "      <th>15</th>\n",
       "      <td>Município Neutro</td>\n",
       "      <td>96255</td>\n",
       "      <td>22762</td>\n",
       "      <td>14198</td>\n",
       "      <td>665</td>\n",
       "      <td>55544</td>\n",
       "      <td>22083</td>\n",
       "      <td>14268</td>\n",
       "      <td>258</td>\n",
       "    </tr>\n",
       "    <tr>\n",
       "      <th>16</th>\n",
       "      <td>Rio de Janeiro</td>\n",
       "      <td>160595</td>\n",
       "      <td>61542</td>\n",
       "      <td>29517</td>\n",
       "      <td>4152</td>\n",
       "      <td>142680</td>\n",
       "      <td>59703</td>\n",
       "      <td>28198</td>\n",
       "      <td>3700</td>\n",
       "    </tr>\n",
       "    <tr>\n",
       "      <th>17</th>\n",
       "      <td>São Paulo</td>\n",
       "      <td>221260</td>\n",
       "      <td>76288</td>\n",
       "      <td>29512</td>\n",
       "      <td>21244</td>\n",
       "      <td>212172</td>\n",
       "      <td>75018</td>\n",
       "      <td>27027</td>\n",
       "      <td>18221</td>\n",
       "    </tr>\n",
       "    <tr>\n",
       "      <th>18</th>\n",
       "      <td>Paraná</td>\n",
       "      <td>35936</td>\n",
       "      <td>15358</td>\n",
       "      <td>3292</td>\n",
       "      <td>4718</td>\n",
       "      <td>33762</td>\n",
       "      <td>15278</td>\n",
       "      <td>3449</td>\n",
       "      <td>4369</td>\n",
       "    </tr>\n",
       "    <tr>\n",
       "      <th>19</th>\n",
       "      <td>Santa Catarina</td>\n",
       "      <td>63502</td>\n",
       "      <td>5941</td>\n",
       "      <td>2199</td>\n",
       "      <td>1446</td>\n",
       "      <td>62440</td>\n",
       "      <td>5796</td>\n",
       "      <td>2048</td>\n",
       "      <td>1446</td>\n",
       "    </tr>\n",
       "    <tr>\n",
       "      <th>20</th>\n",
       "      <td>Rio Grande do Sul</td>\n",
       "      <td>136094</td>\n",
       "      <td>24487</td>\n",
       "      <td>17828</td>\n",
       "      <td>12613</td>\n",
       "      <td>122273</td>\n",
       "      <td>24179</td>\n",
       "      <td>16444</td>\n",
       "      <td>13104</td>\n",
       "    </tr>\n",
       "    <tr>\n",
       "      <th>21</th>\n",
       "      <td>Minas Gerais</td>\n",
       "      <td>421861</td>\n",
       "      <td>302948</td>\n",
       "      <td>105507</td>\n",
       "      <td>17276</td>\n",
       "      <td>409126</td>\n",
       "      <td>295865</td>\n",
       "      <td>101647</td>\n",
       "      <td>15046</td>\n",
       "    </tr>\n",
       "    <tr>\n",
       "      <th>22</th>\n",
       "      <td>Goiás</td>\n",
       "      <td>21152</td>\n",
       "      <td>42482</td>\n",
       "      <td>9088</td>\n",
       "      <td>2246</td>\n",
       "      <td>20777</td>\n",
       "      <td>43907</td>\n",
       "      <td>8087</td>\n",
       "      <td>2004</td>\n",
       "    </tr>\n",
       "    <tr>\n",
       "      <th>23</th>\n",
       "      <td>Mato Grosso</td>\n",
       "      <td>9027</td>\n",
       "      <td>10827</td>\n",
       "      <td>3861</td>\n",
       "      <td>4276</td>\n",
       "      <td>8210</td>\n",
       "      <td>10087</td>\n",
       "      <td>3214</td>\n",
       "      <td>4248</td>\n",
       "    </tr>\n",
       "    <tr>\n",
       "      <th>24</th>\n",
       "      <td>Total</td>\n",
       "      <td>1971772</td>\n",
       "      <td>1673971</td>\n",
       "      <td>472008</td>\n",
       "      <td>200948</td>\n",
       "      <td>1815517</td>\n",
       "      <td>1650307</td>\n",
       "      <td>449142</td>\n",
       "      <td>186007</td>\n",
       "    </tr>\n",
       "  </tbody>\n",
       "</table>\n",
       "</div>"
      ],
      "text/plain": [
       "                                 dos Homens                            \\\n",
       "   Províncias e Município Neutro    Brancos   Pardos  Pretos Caboclos   \n",
       "3                       Amazonas       6911     4210     711    19151   \n",
       "4                           Pará      49663    46899    9200    22827   \n",
       "5                       Maranhão      52267    71662   12504     5509   \n",
       "6                          Piauí      22208    53474    7505     7135   \n",
       "7                          Ceará     136940   172841   14424    26701   \n",
       "8            Rio Grande do Norte      52835    42213   12202     5471   \n",
       "9                        Paraíba      73475    89921   11155     4882   \n",
       "10                    Pernambuco     149930   194897   30795     5943   \n",
       "11                       Alagoas      45343    98916    8220     3105   \n",
       "12                       Sergipe      24358    39524    9321     1536   \n",
       "13                         Bahia     178605   287131  137574    27043   \n",
       "14                Espírito Santo      13555     9648    3395     3009   \n",
       "15              Município Neutro      96255    22762   14198      665   \n",
       "16                Rio de Janeiro     160595    61542   29517     4152   \n",
       "17                     São Paulo     221260    76288   29512    21244   \n",
       "18                        Paraná      35936    15358    3292     4718   \n",
       "19                Santa Catarina      63502     5941    2199     1446   \n",
       "20             Rio Grande do Sul     136094    24487   17828    12613   \n",
       "21                  Minas Gerais     421861   302948  105507    17276   \n",
       "22                         Goiás      21152    42482    9088     2246   \n",
       "23                   Mato Grosso       9027    10827    3861     4276   \n",
       "24                         Total    1971772  1673971  472008   200948   \n",
       "\n",
       "   das Mulheres                            \n",
       "        Brancas   Pardas  Pretas Caboclas  \n",
       "3          4300     3046     625    17677  \n",
       "4         42971    46828    7629    21762  \n",
       "5         51246    72699   12780     5434  \n",
       "6         21239    53191    7357     6318  \n",
       "7        131896   166325   14510    26136  \n",
       "8         49630    41877   11163     5568  \n",
       "9         71246    88675   10661     4685  \n",
       "10       141229   192954   30901     5862  \n",
       "11        43455   101283    8687     3259  \n",
       "12        25420    42059    9851     1551  \n",
       "13       152874   278573  127153    22839  \n",
       "14        13027    10881    3443     2520  \n",
       "15        55544    22083   14268      258  \n",
       "16       142680    59703   28198     3700  \n",
       "17       212172    75018   27027    18221  \n",
       "18        33762    15278    3449     4369  \n",
       "19        62440     5796    2048     1446  \n",
       "20       122273    24179   16444    13104  \n",
       "21       409126   295865  101647    15046  \n",
       "22        20777    43907    8087     2004  \n",
       "23         8210    10087    3214     4248  \n",
       "24      1815517  1650307  449142   186007  "
      ]
     },
     "execution_count": 555,
     "metadata": {},
     "output_type": "execute_result"
    }
   ],
   "source": [
    "columns_multindex = pd.MultiIndex.from_tuples([\n",
    "    #('Gêneros', 'Províncias e Município Neutro'),\n",
    "    ('', 'Províncias e Município Neutro'),\n",
    "    ('dos Homens', 'Brancos'),\n",
    "    ('dos Homens', 'Pardos'),\n",
    "    ('dos Homens', 'Pretos'),\n",
    "    ('dos Homens', 'Caboclos'),\n",
    "    ('das Mulheres', 'Brancas'),\n",
    "    ('das Mulheres', 'Pardas'),\n",
    "    ('das Mulheres', 'Pretas'),\n",
    "    ('das Mulheres', 'Caboclas')\n",
    "])\n",
    "\n",
    "# Atribuindo o MultiIndex às colunas do DataFrame\n",
    "racas.columns = columns_multindex\n",
    "\n",
    "racas"
   ]
  },
  {
   "cell_type": "code",
   "execution_count": 556,
   "metadata": {},
   "outputs": [
    {
     "data": {
      "text/plain": [
       "{('', 'Províncias e Município Neutro'): {3: 'Amazonas',\n",
       "  4: 'Pará',\n",
       "  5: 'Maranhão',\n",
       "  6: 'Piauí',\n",
       "  7: 'Ceará',\n",
       "  8: 'Rio Grande do Norte',\n",
       "  9: 'Paraíba',\n",
       "  10: 'Pernambuco',\n",
       "  11: 'Alagoas',\n",
       "  12: 'Sergipe',\n",
       "  13: 'Bahia',\n",
       "  14: 'Espírito Santo',\n",
       "  15: 'Município Neutro',\n",
       "  16: 'Rio de Janeiro',\n",
       "  17: 'São Paulo',\n",
       "  18: 'Paraná',\n",
       "  19: 'Santa Catarina',\n",
       "  20: 'Rio Grande do Sul',\n",
       "  21: 'Minas Gerais',\n",
       "  22: 'Goiás',\n",
       "  23: 'Mato Grosso',\n",
       "  24: 'Total'},\n",
       " ('dos Homens', 'Brancos'): {3: '6911',\n",
       "  4: '49663',\n",
       "  5: '52267',\n",
       "  6: '22208',\n",
       "  7: '136940',\n",
       "  8: '52835',\n",
       "  9: '73475',\n",
       "  10: '149930',\n",
       "  11: '45343',\n",
       "  12: '24358',\n",
       "  13: '178605',\n",
       "  14: '13555',\n",
       "  15: '96255',\n",
       "  16: '160595',\n",
       "  17: '221260',\n",
       "  18: '35936',\n",
       "  19: '63502',\n",
       "  20: '136094',\n",
       "  21: '421861',\n",
       "  22: '21152',\n",
       "  23: '9027',\n",
       "  24: '1971772'},\n",
       " ('dos Homens', 'Pardos'): {3: '4210',\n",
       "  4: '46899',\n",
       "  5: '71662',\n",
       "  6: '53474',\n",
       "  7: '172841',\n",
       "  8: '42213',\n",
       "  9: '89921',\n",
       "  10: '194897',\n",
       "  11: '98916',\n",
       "  12: '39524',\n",
       "  13: '287131',\n",
       "  14: '9648',\n",
       "  15: '22762',\n",
       "  16: '61542',\n",
       "  17: '76288',\n",
       "  18: '15358',\n",
       "  19: '5941',\n",
       "  20: '24487',\n",
       "  21: '302948',\n",
       "  22: '42482',\n",
       "  23: '10827',\n",
       "  24: '1673971'},\n",
       " ('dos Homens', 'Pretos'): {3: '711',\n",
       "  4: '9200',\n",
       "  5: '12504',\n",
       "  6: '7505',\n",
       "  7: '14424',\n",
       "  8: '12202',\n",
       "  9: '11155',\n",
       "  10: '30795',\n",
       "  11: '8220',\n",
       "  12: '9321',\n",
       "  13: '137574',\n",
       "  14: '3395',\n",
       "  15: '14198',\n",
       "  16: '29517',\n",
       "  17: '29512',\n",
       "  18: '3292',\n",
       "  19: '2199',\n",
       "  20: '17828',\n",
       "  21: '105507',\n",
       "  22: '9088',\n",
       "  23: '3861',\n",
       "  24: '472008'},\n",
       " ('dos Homens', 'Caboclos'): {3: '19151',\n",
       "  4: '22827',\n",
       "  5: '5509',\n",
       "  6: '7135',\n",
       "  7: '26701',\n",
       "  8: '5471',\n",
       "  9: '4882',\n",
       "  10: '5943',\n",
       "  11: '3105',\n",
       "  12: '1536',\n",
       "  13: '27043',\n",
       "  14: '3009',\n",
       "  15: '665',\n",
       "  16: '4152',\n",
       "  17: '21244',\n",
       "  18: '4718',\n",
       "  19: '1446',\n",
       "  20: '12613',\n",
       "  21: '17276',\n",
       "  22: '2246',\n",
       "  23: '4276',\n",
       "  24: '200948'},\n",
       " ('das Mulheres', 'Brancas'): {3: '4300',\n",
       "  4: '42971',\n",
       "  5: '51246',\n",
       "  6: '21239',\n",
       "  7: '131896',\n",
       "  8: '49630',\n",
       "  9: '71246',\n",
       "  10: '141229',\n",
       "  11: '43455',\n",
       "  12: '25420',\n",
       "  13: '152874',\n",
       "  14: '13027',\n",
       "  15: '55544',\n",
       "  16: '142680',\n",
       "  17: '212172',\n",
       "  18: '33762',\n",
       "  19: '62440',\n",
       "  20: '122273',\n",
       "  21: '409126',\n",
       "  22: '20777',\n",
       "  23: '8210',\n",
       "  24: '1815517'},\n",
       " ('das Mulheres', 'Pardas'): {3: '3046',\n",
       "  4: '46828',\n",
       "  5: '72699',\n",
       "  6: '53191',\n",
       "  7: '166325',\n",
       "  8: '41877',\n",
       "  9: '88675',\n",
       "  10: '192954',\n",
       "  11: '101283',\n",
       "  12: '42059',\n",
       "  13: '278573',\n",
       "  14: '10881',\n",
       "  15: '22083',\n",
       "  16: '59703',\n",
       "  17: '75018',\n",
       "  18: '15278',\n",
       "  19: '5796',\n",
       "  20: '24179',\n",
       "  21: '295865',\n",
       "  22: '43907',\n",
       "  23: '10087',\n",
       "  24: '1650307'},\n",
       " ('das Mulheres', 'Pretas'): {3: '625',\n",
       "  4: '7629',\n",
       "  5: '12780',\n",
       "  6: '7357',\n",
       "  7: '14510',\n",
       "  8: '11163',\n",
       "  9: '10661',\n",
       "  10: '30901',\n",
       "  11: '8687',\n",
       "  12: '9851',\n",
       "  13: '127153',\n",
       "  14: '3443',\n",
       "  15: '14268',\n",
       "  16: '28198',\n",
       "  17: '27027',\n",
       "  18: '3449',\n",
       "  19: '2048',\n",
       "  20: '16444',\n",
       "  21: '101647',\n",
       "  22: '8087',\n",
       "  23: '3214',\n",
       "  24: '449142'},\n",
       " ('das Mulheres', 'Caboclas'): {3: '17677',\n",
       "  4: '21762',\n",
       "  5: '5434',\n",
       "  6: '6318',\n",
       "  7: '26136',\n",
       "  8: '5568',\n",
       "  9: '4685',\n",
       "  10: '5862',\n",
       "  11: '3259',\n",
       "  12: '1551',\n",
       "  13: '22839',\n",
       "  14: '2520',\n",
       "  15: '258',\n",
       "  16: '3700',\n",
       "  17: '18221',\n",
       "  18: '4369',\n",
       "  19: '1446',\n",
       "  20: '13104',\n",
       "  21: '15046',\n",
       "  22: '2004',\n",
       "  23: '4248',\n",
       "  24: '186007'}}"
      ]
     },
     "execution_count": 556,
     "metadata": {},
     "output_type": "execute_result"
    }
   ],
   "source": [
    "racas.to_dict()"
   ]
  },
  {
   "cell_type": "markdown",
   "metadata": {},
   "source": [
    "### gráfico de barras"
   ]
  },
  {
   "cell_type": "code",
   "execution_count": 557,
   "metadata": {},
   "outputs": [
    {
     "data": {
      "text/plain": [
       "MultiIndex([(            '', 'Províncias e Município Neutro'),\n",
       "            (  'dos Homens',                       'Brancos'),\n",
       "            (  'dos Homens',                        'Pardos'),\n",
       "            (  'dos Homens',                        'Pretos'),\n",
       "            (  'dos Homens',                      'Caboclos'),\n",
       "            ('das Mulheres',                       'Brancas'),\n",
       "            ('das Mulheres',                        'Pardas'),\n",
       "            ('das Mulheres',                        'Pretas'),\n",
       "            ('das Mulheres',                      'Caboclas')],\n",
       "           )"
      ]
     },
     "execution_count": 557,
     "metadata": {},
     "output_type": "execute_result"
    }
   ],
   "source": [
    "racas.columns"
   ]
  },
  {
   "cell_type": "code",
   "execution_count": 558,
   "metadata": {},
   "outputs": [
    {
     "data": {
      "application/vnd.plotly.v1+json": {
       "config": {
        "plotlyServerURL": "https://plot.ly"
       },
       "data": [
        {
         "marker": {
          "color": "blue"
         },
         "name": "Homens - Brancos",
         "type": "bar",
         "x": [
          "Amazonas",
          "Pará",
          "Maranhão",
          "Piauí",
          "Ceará",
          "Rio Grande do Norte",
          "Paraíba",
          "Pernambuco",
          "Alagoas",
          "Sergipe",
          "Bahia",
          "Espírito Santo",
          "Município Neutro",
          "Rio de Janeiro",
          "São Paulo",
          "Paraná",
          "Santa Catarina",
          "Rio Grande do Sul",
          "Minas Gerais",
          "Goiás",
          "Mato Grosso"
         ],
         "y": [
          "6911",
          "49663",
          "52267",
          "22208",
          "136940",
          "52835",
          "73475",
          "149930",
          "45343",
          "24358",
          "178605",
          "13555",
          "96255",
          "160595",
          "221260",
          "35936",
          "63502",
          "136094",
          "421861",
          "21152",
          "9027"
         ]
        },
        {
         "marker": {
          "color": "orange"
         },
         "name": "Homens - Pardos",
         "type": "bar",
         "x": [
          "Amazonas",
          "Pará",
          "Maranhão",
          "Piauí",
          "Ceará",
          "Rio Grande do Norte",
          "Paraíba",
          "Pernambuco",
          "Alagoas",
          "Sergipe",
          "Bahia",
          "Espírito Santo",
          "Município Neutro",
          "Rio de Janeiro",
          "São Paulo",
          "Paraná",
          "Santa Catarina",
          "Rio Grande do Sul",
          "Minas Gerais",
          "Goiás",
          "Mato Grosso"
         ],
         "y": [
          "4210",
          "46899",
          "71662",
          "53474",
          "172841",
          "42213",
          "89921",
          "194897",
          "98916",
          "39524",
          "287131",
          "9648",
          "22762",
          "61542",
          "76288",
          "15358",
          "5941",
          "24487",
          "302948",
          "42482",
          "10827"
         ]
        },
        {
         "marker": {
          "color": "black"
         },
         "name": "Homens - Pretos",
         "type": "bar",
         "x": [
          "Amazonas",
          "Pará",
          "Maranhão",
          "Piauí",
          "Ceará",
          "Rio Grande do Norte",
          "Paraíba",
          "Pernambuco",
          "Alagoas",
          "Sergipe",
          "Bahia",
          "Espírito Santo",
          "Município Neutro",
          "Rio de Janeiro",
          "São Paulo",
          "Paraná",
          "Santa Catarina",
          "Rio Grande do Sul",
          "Minas Gerais",
          "Goiás",
          "Mato Grosso"
         ],
         "y": [
          "711",
          "9200",
          "12504",
          "7505",
          "14424",
          "12202",
          "11155",
          "30795",
          "8220",
          "9321",
          "137574",
          "3395",
          "14198",
          "29517",
          "29512",
          "3292",
          "2199",
          "17828",
          "105507",
          "9088",
          "3861"
         ]
        },
        {
         "marker": {
          "color": "green"
         },
         "name": "Homens - Caboclos",
         "type": "bar",
         "x": [
          "Amazonas",
          "Pará",
          "Maranhão",
          "Piauí",
          "Ceará",
          "Rio Grande do Norte",
          "Paraíba",
          "Pernambuco",
          "Alagoas",
          "Sergipe",
          "Bahia",
          "Espírito Santo",
          "Município Neutro",
          "Rio de Janeiro",
          "São Paulo",
          "Paraná",
          "Santa Catarina",
          "Rio Grande do Sul",
          "Minas Gerais",
          "Goiás",
          "Mato Grosso"
         ],
         "y": [
          "19151",
          "22827",
          "5509",
          "7135",
          "26701",
          "5471",
          "4882",
          "5943",
          "3105",
          "1536",
          "27043",
          "3009",
          "665",
          "4152",
          "21244",
          "4718",
          "1446",
          "12613",
          "17276",
          "2246",
          "4276"
         ]
        },
        {
         "marker": {
          "color": "lightblue"
         },
         "name": "Mulheres - Brancas",
         "type": "bar",
         "x": [
          "Amazonas",
          "Pará",
          "Maranhão",
          "Piauí",
          "Ceará",
          "Rio Grande do Norte",
          "Paraíba",
          "Pernambuco",
          "Alagoas",
          "Sergipe",
          "Bahia",
          "Espírito Santo",
          "Município Neutro",
          "Rio de Janeiro",
          "São Paulo",
          "Paraná",
          "Santa Catarina",
          "Rio Grande do Sul",
          "Minas Gerais",
          "Goiás",
          "Mato Grosso"
         ],
         "y": [
          "4300",
          "42971",
          "51246",
          "21239",
          "131896",
          "49630",
          "71246",
          "141229",
          "43455",
          "25420",
          "152874",
          "13027",
          "55544",
          "142680",
          "212172",
          "33762",
          "62440",
          "122273",
          "409126",
          "20777",
          "8210"
         ]
        },
        {
         "marker": {
          "color": "lightcoral"
         },
         "name": "Mulheres - Pardas",
         "type": "bar",
         "x": [
          "Amazonas",
          "Pará",
          "Maranhão",
          "Piauí",
          "Ceará",
          "Rio Grande do Norte",
          "Paraíba",
          "Pernambuco",
          "Alagoas",
          "Sergipe",
          "Bahia",
          "Espírito Santo",
          "Município Neutro",
          "Rio de Janeiro",
          "São Paulo",
          "Paraná",
          "Santa Catarina",
          "Rio Grande do Sul",
          "Minas Gerais",
          "Goiás",
          "Mato Grosso"
         ],
         "y": [
          "3046",
          "46828",
          "72699",
          "53191",
          "166325",
          "41877",
          "88675",
          "192954",
          "101283",
          "42059",
          "278573",
          "10881",
          "22083",
          "59703",
          "75018",
          "15278",
          "5796",
          "24179",
          "295865",
          "43907",
          "10087"
         ]
        },
        {
         "marker": {
          "color": "lightpink"
         },
         "name": "Mulheres - Pretas",
         "type": "bar",
         "x": [
          "Amazonas",
          "Pará",
          "Maranhão",
          "Piauí",
          "Ceará",
          "Rio Grande do Norte",
          "Paraíba",
          "Pernambuco",
          "Alagoas",
          "Sergipe",
          "Bahia",
          "Espírito Santo",
          "Município Neutro",
          "Rio de Janeiro",
          "São Paulo",
          "Paraná",
          "Santa Catarina",
          "Rio Grande do Sul",
          "Minas Gerais",
          "Goiás",
          "Mato Grosso"
         ],
         "y": [
          "625",
          "7629",
          "12780",
          "7357",
          "14510",
          "11163",
          "10661",
          "30901",
          "8687",
          "9851",
          "127153",
          "3443",
          "14268",
          "28198",
          "27027",
          "3449",
          "2048",
          "16444",
          "101647",
          "8087",
          "3214"
         ]
        },
        {
         "marker": {
          "color": "lightgreen"
         },
         "name": "Mulheres - Caboclas",
         "type": "bar",
         "x": [
          "Amazonas",
          "Pará",
          "Maranhão",
          "Piauí",
          "Ceará",
          "Rio Grande do Norte",
          "Paraíba",
          "Pernambuco",
          "Alagoas",
          "Sergipe",
          "Bahia",
          "Espírito Santo",
          "Município Neutro",
          "Rio de Janeiro",
          "São Paulo",
          "Paraná",
          "Santa Catarina",
          "Rio Grande do Sul",
          "Minas Gerais",
          "Goiás",
          "Mato Grosso"
         ],
         "y": [
          "17677",
          "21762",
          "5434",
          "6318",
          "26136",
          "5568",
          "4685",
          "5862",
          "3259",
          "1551",
          "22839",
          "2520",
          "258",
          "3700",
          "18221",
          "4369",
          "1446",
          "13104",
          "15046",
          "2004",
          "4248"
         ]
        }
       ],
       "layout": {
        "barmode": "group",
        "template": {
         "data": {
          "bar": [
           {
            "error_x": {
             "color": "#2a3f5f"
            },
            "error_y": {
             "color": "#2a3f5f"
            },
            "marker": {
             "line": {
              "color": "#E5ECF6",
              "width": 0.5
             },
             "pattern": {
              "fillmode": "overlay",
              "size": 10,
              "solidity": 0.2
             }
            },
            "type": "bar"
           }
          ],
          "barpolar": [
           {
            "marker": {
             "line": {
              "color": "#E5ECF6",
              "width": 0.5
             },
             "pattern": {
              "fillmode": "overlay",
              "size": 10,
              "solidity": 0.2
             }
            },
            "type": "barpolar"
           }
          ],
          "carpet": [
           {
            "aaxis": {
             "endlinecolor": "#2a3f5f",
             "gridcolor": "white",
             "linecolor": "white",
             "minorgridcolor": "white",
             "startlinecolor": "#2a3f5f"
            },
            "baxis": {
             "endlinecolor": "#2a3f5f",
             "gridcolor": "white",
             "linecolor": "white",
             "minorgridcolor": "white",
             "startlinecolor": "#2a3f5f"
            },
            "type": "carpet"
           }
          ],
          "choropleth": [
           {
            "colorbar": {
             "outlinewidth": 0,
             "ticks": ""
            },
            "type": "choropleth"
           }
          ],
          "contour": [
           {
            "colorbar": {
             "outlinewidth": 0,
             "ticks": ""
            },
            "colorscale": [
             [
              0,
              "#0d0887"
             ],
             [
              0.1111111111111111,
              "#46039f"
             ],
             [
              0.2222222222222222,
              "#7201a8"
             ],
             [
              0.3333333333333333,
              "#9c179e"
             ],
             [
              0.4444444444444444,
              "#bd3786"
             ],
             [
              0.5555555555555556,
              "#d8576b"
             ],
             [
              0.6666666666666666,
              "#ed7953"
             ],
             [
              0.7777777777777778,
              "#fb9f3a"
             ],
             [
              0.8888888888888888,
              "#fdca26"
             ],
             [
              1,
              "#f0f921"
             ]
            ],
            "type": "contour"
           }
          ],
          "contourcarpet": [
           {
            "colorbar": {
             "outlinewidth": 0,
             "ticks": ""
            },
            "type": "contourcarpet"
           }
          ],
          "heatmap": [
           {
            "colorbar": {
             "outlinewidth": 0,
             "ticks": ""
            },
            "colorscale": [
             [
              0,
              "#0d0887"
             ],
             [
              0.1111111111111111,
              "#46039f"
             ],
             [
              0.2222222222222222,
              "#7201a8"
             ],
             [
              0.3333333333333333,
              "#9c179e"
             ],
             [
              0.4444444444444444,
              "#bd3786"
             ],
             [
              0.5555555555555556,
              "#d8576b"
             ],
             [
              0.6666666666666666,
              "#ed7953"
             ],
             [
              0.7777777777777778,
              "#fb9f3a"
             ],
             [
              0.8888888888888888,
              "#fdca26"
             ],
             [
              1,
              "#f0f921"
             ]
            ],
            "type": "heatmap"
           }
          ],
          "heatmapgl": [
           {
            "colorbar": {
             "outlinewidth": 0,
             "ticks": ""
            },
            "colorscale": [
             [
              0,
              "#0d0887"
             ],
             [
              0.1111111111111111,
              "#46039f"
             ],
             [
              0.2222222222222222,
              "#7201a8"
             ],
             [
              0.3333333333333333,
              "#9c179e"
             ],
             [
              0.4444444444444444,
              "#bd3786"
             ],
             [
              0.5555555555555556,
              "#d8576b"
             ],
             [
              0.6666666666666666,
              "#ed7953"
             ],
             [
              0.7777777777777778,
              "#fb9f3a"
             ],
             [
              0.8888888888888888,
              "#fdca26"
             ],
             [
              1,
              "#f0f921"
             ]
            ],
            "type": "heatmapgl"
           }
          ],
          "histogram": [
           {
            "marker": {
             "pattern": {
              "fillmode": "overlay",
              "size": 10,
              "solidity": 0.2
             }
            },
            "type": "histogram"
           }
          ],
          "histogram2d": [
           {
            "colorbar": {
             "outlinewidth": 0,
             "ticks": ""
            },
            "colorscale": [
             [
              0,
              "#0d0887"
             ],
             [
              0.1111111111111111,
              "#46039f"
             ],
             [
              0.2222222222222222,
              "#7201a8"
             ],
             [
              0.3333333333333333,
              "#9c179e"
             ],
             [
              0.4444444444444444,
              "#bd3786"
             ],
             [
              0.5555555555555556,
              "#d8576b"
             ],
             [
              0.6666666666666666,
              "#ed7953"
             ],
             [
              0.7777777777777778,
              "#fb9f3a"
             ],
             [
              0.8888888888888888,
              "#fdca26"
             ],
             [
              1,
              "#f0f921"
             ]
            ],
            "type": "histogram2d"
           }
          ],
          "histogram2dcontour": [
           {
            "colorbar": {
             "outlinewidth": 0,
             "ticks": ""
            },
            "colorscale": [
             [
              0,
              "#0d0887"
             ],
             [
              0.1111111111111111,
              "#46039f"
             ],
             [
              0.2222222222222222,
              "#7201a8"
             ],
             [
              0.3333333333333333,
              "#9c179e"
             ],
             [
              0.4444444444444444,
              "#bd3786"
             ],
             [
              0.5555555555555556,
              "#d8576b"
             ],
             [
              0.6666666666666666,
              "#ed7953"
             ],
             [
              0.7777777777777778,
              "#fb9f3a"
             ],
             [
              0.8888888888888888,
              "#fdca26"
             ],
             [
              1,
              "#f0f921"
             ]
            ],
            "type": "histogram2dcontour"
           }
          ],
          "mesh3d": [
           {
            "colorbar": {
             "outlinewidth": 0,
             "ticks": ""
            },
            "type": "mesh3d"
           }
          ],
          "parcoords": [
           {
            "line": {
             "colorbar": {
              "outlinewidth": 0,
              "ticks": ""
             }
            },
            "type": "parcoords"
           }
          ],
          "pie": [
           {
            "automargin": true,
            "type": "pie"
           }
          ],
          "scatter": [
           {
            "fillpattern": {
             "fillmode": "overlay",
             "size": 10,
             "solidity": 0.2
            },
            "type": "scatter"
           }
          ],
          "scatter3d": [
           {
            "line": {
             "colorbar": {
              "outlinewidth": 0,
              "ticks": ""
             }
            },
            "marker": {
             "colorbar": {
              "outlinewidth": 0,
              "ticks": ""
             }
            },
            "type": "scatter3d"
           }
          ],
          "scattercarpet": [
           {
            "marker": {
             "colorbar": {
              "outlinewidth": 0,
              "ticks": ""
             }
            },
            "type": "scattercarpet"
           }
          ],
          "scattergeo": [
           {
            "marker": {
             "colorbar": {
              "outlinewidth": 0,
              "ticks": ""
             }
            },
            "type": "scattergeo"
           }
          ],
          "scattergl": [
           {
            "marker": {
             "colorbar": {
              "outlinewidth": 0,
              "ticks": ""
             }
            },
            "type": "scattergl"
           }
          ],
          "scattermapbox": [
           {
            "marker": {
             "colorbar": {
              "outlinewidth": 0,
              "ticks": ""
             }
            },
            "type": "scattermapbox"
           }
          ],
          "scatterpolar": [
           {
            "marker": {
             "colorbar": {
              "outlinewidth": 0,
              "ticks": ""
             }
            },
            "type": "scatterpolar"
           }
          ],
          "scatterpolargl": [
           {
            "marker": {
             "colorbar": {
              "outlinewidth": 0,
              "ticks": ""
             }
            },
            "type": "scatterpolargl"
           }
          ],
          "scatterternary": [
           {
            "marker": {
             "colorbar": {
              "outlinewidth": 0,
              "ticks": ""
             }
            },
            "type": "scatterternary"
           }
          ],
          "surface": [
           {
            "colorbar": {
             "outlinewidth": 0,
             "ticks": ""
            },
            "colorscale": [
             [
              0,
              "#0d0887"
             ],
             [
              0.1111111111111111,
              "#46039f"
             ],
             [
              0.2222222222222222,
              "#7201a8"
             ],
             [
              0.3333333333333333,
              "#9c179e"
             ],
             [
              0.4444444444444444,
              "#bd3786"
             ],
             [
              0.5555555555555556,
              "#d8576b"
             ],
             [
              0.6666666666666666,
              "#ed7953"
             ],
             [
              0.7777777777777778,
              "#fb9f3a"
             ],
             [
              0.8888888888888888,
              "#fdca26"
             ],
             [
              1,
              "#f0f921"
             ]
            ],
            "type": "surface"
           }
          ],
          "table": [
           {
            "cells": {
             "fill": {
              "color": "#EBF0F8"
             },
             "line": {
              "color": "white"
             }
            },
            "header": {
             "fill": {
              "color": "#C8D4E3"
             },
             "line": {
              "color": "white"
             }
            },
            "type": "table"
           }
          ]
         },
         "layout": {
          "annotationdefaults": {
           "arrowcolor": "#2a3f5f",
           "arrowhead": 0,
           "arrowwidth": 1
          },
          "autotypenumbers": "strict",
          "coloraxis": {
           "colorbar": {
            "outlinewidth": 0,
            "ticks": ""
           }
          },
          "colorscale": {
           "diverging": [
            [
             0,
             "#8e0152"
            ],
            [
             0.1,
             "#c51b7d"
            ],
            [
             0.2,
             "#de77ae"
            ],
            [
             0.3,
             "#f1b6da"
            ],
            [
             0.4,
             "#fde0ef"
            ],
            [
             0.5,
             "#f7f7f7"
            ],
            [
             0.6,
             "#e6f5d0"
            ],
            [
             0.7,
             "#b8e186"
            ],
            [
             0.8,
             "#7fbc41"
            ],
            [
             0.9,
             "#4d9221"
            ],
            [
             1,
             "#276419"
            ]
           ],
           "sequential": [
            [
             0,
             "#0d0887"
            ],
            [
             0.1111111111111111,
             "#46039f"
            ],
            [
             0.2222222222222222,
             "#7201a8"
            ],
            [
             0.3333333333333333,
             "#9c179e"
            ],
            [
             0.4444444444444444,
             "#bd3786"
            ],
            [
             0.5555555555555556,
             "#d8576b"
            ],
            [
             0.6666666666666666,
             "#ed7953"
            ],
            [
             0.7777777777777778,
             "#fb9f3a"
            ],
            [
             0.8888888888888888,
             "#fdca26"
            ],
            [
             1,
             "#f0f921"
            ]
           ],
           "sequentialminus": [
            [
             0,
             "#0d0887"
            ],
            [
             0.1111111111111111,
             "#46039f"
            ],
            [
             0.2222222222222222,
             "#7201a8"
            ],
            [
             0.3333333333333333,
             "#9c179e"
            ],
            [
             0.4444444444444444,
             "#bd3786"
            ],
            [
             0.5555555555555556,
             "#d8576b"
            ],
            [
             0.6666666666666666,
             "#ed7953"
            ],
            [
             0.7777777777777778,
             "#fb9f3a"
            ],
            [
             0.8888888888888888,
             "#fdca26"
            ],
            [
             1,
             "#f0f921"
            ]
           ]
          },
          "colorway": [
           "#636efa",
           "#EF553B",
           "#00cc96",
           "#ab63fa",
           "#FFA15A",
           "#19d3f3",
           "#FF6692",
           "#B6E880",
           "#FF97FF",
           "#FECB52"
          ],
          "font": {
           "color": "#2a3f5f"
          },
          "geo": {
           "bgcolor": "white",
           "lakecolor": "white",
           "landcolor": "#E5ECF6",
           "showlakes": true,
           "showland": true,
           "subunitcolor": "white"
          },
          "hoverlabel": {
           "align": "left"
          },
          "hovermode": "closest",
          "mapbox": {
           "style": "light"
          },
          "paper_bgcolor": "white",
          "plot_bgcolor": "#E5ECF6",
          "polar": {
           "angularaxis": {
            "gridcolor": "white",
            "linecolor": "white",
            "ticks": ""
           },
           "bgcolor": "#E5ECF6",
           "radialaxis": {
            "gridcolor": "white",
            "linecolor": "white",
            "ticks": ""
           }
          },
          "scene": {
           "xaxis": {
            "backgroundcolor": "#E5ECF6",
            "gridcolor": "white",
            "gridwidth": 2,
            "linecolor": "white",
            "showbackground": true,
            "ticks": "",
            "zerolinecolor": "white"
           },
           "yaxis": {
            "backgroundcolor": "#E5ECF6",
            "gridcolor": "white",
            "gridwidth": 2,
            "linecolor": "white",
            "showbackground": true,
            "ticks": "",
            "zerolinecolor": "white"
           },
           "zaxis": {
            "backgroundcolor": "#E5ECF6",
            "gridcolor": "white",
            "gridwidth": 2,
            "linecolor": "white",
            "showbackground": true,
            "ticks": "",
            "zerolinecolor": "white"
           }
          },
          "shapedefaults": {
           "line": {
            "color": "#2a3f5f"
           }
          },
          "ternary": {
           "aaxis": {
            "gridcolor": "white",
            "linecolor": "white",
            "ticks": ""
           },
           "baxis": {
            "gridcolor": "white",
            "linecolor": "white",
            "ticks": ""
           },
           "bgcolor": "#E5ECF6",
           "caxis": {
            "gridcolor": "white",
            "linecolor": "white",
            "ticks": ""
           }
          },
          "title": {
           "x": 0.05
          },
          "xaxis": {
           "automargin": true,
           "gridcolor": "white",
           "linecolor": "white",
           "ticks": "",
           "title": {
            "standoff": 15
           },
           "zerolinecolor": "white",
           "zerolinewidth": 2
          },
          "yaxis": {
           "automargin": true,
           "gridcolor": "white",
           "linecolor": "white",
           "ticks": "",
           "title": {
            "standoff": 15
           },
           "zerolinecolor": "white",
           "zerolinewidth": 2
          }
         }
        },
        "title": {
         "text": "População por Província e Raça (Homens e Mulheres)"
        },
        "xaxis": {
         "tickangle": -45,
         "title": {
          "text": "Províncias"
         }
        },
        "yaxis": {
         "autorange": true,
         "title": {
          "text": "População"
         }
        }
       }
      }
     },
     "metadata": {},
     "output_type": "display_data"
    }
   ],
   "source": [
    "racas_bar = racas.drop(24)\n",
    "\n",
    "for i, col in enumerate(racas.columns):\n",
    "    if(i >= 1):\n",
    "        racas[col] = pd.to_numeric(racas[col])\n",
    "    \n",
    "# Criando o gráfico de barras\n",
    "fig = go.Figure()\n",
    "\n",
    "# Adicionando barras para homens em cada categoria\n",
    "for category in ['Brancos', 'Pardos', 'Pretos', 'Caboclos']:\n",
    "    fig.add_trace(go.Bar(\n",
    "        x=racas_bar[('', 'Províncias e Município Neutro')],\n",
    "        y=racas_bar[('dos Homens', category)],\n",
    "        name=f'Homens - {category}',\n",
    "        marker_color='blue' if category == 'Brancos' else \n",
    "                      'orange' if category == 'Pardos' else \n",
    "                      'black' if category == 'Pretos' else \n",
    "                      'green'\n",
    "    ))\n",
    "\n",
    "# Adicionando barras para mulheres em cada categoria\n",
    "for category in ['Brancas', 'Pardas', 'Pretas', 'Caboclas']:\n",
    "    fig.add_trace(go.Bar(\n",
    "        x=racas_bar[('', 'Províncias e Município Neutro')],\n",
    "        y=racas_bar[('das Mulheres', category)],\n",
    "        name=f'Mulheres - {category}',\n",
    "        marker_color='lightblue' if category == 'Brancas' else \n",
    "                      'lightcoral' if category == 'Pardas' else \n",
    "                      'lightpink' if category == 'Pretas' else \n",
    "                      'lightgreen'\n",
    "    ))\n",
    "\n",
    "# Configurações do layout\n",
    "fig.update_layout(\n",
    "    title='População por Província e Raça (Homens e Mulheres)',\n",
    "    xaxis_title='Províncias',\n",
    "    yaxis_title='População',\n",
    "    barmode='group',\n",
    "    xaxis_tickangle=-45,\n",
    ")\n",
    "\n",
    "fig.update_yaxes(autorange=True)\n",
    "# Mostrando o gráfico\n",
    "fig.show()"
   ]
  },
  {
   "cell_type": "code",
   "execution_count": 559,
   "metadata": {},
   "outputs": [
    {
     "data": {
      "text/plain": [
       "'Amazonas'"
      ]
     },
     "execution_count": 559,
     "metadata": {},
     "output_type": "execute_result"
    }
   ],
   "source": [
    "racas_bar.iloc[0, 0]"
   ]
  },
  {
   "cell_type": "code",
   "execution_count": 560,
   "metadata": {},
   "outputs": [
    {
     "data": {
      "text/plain": [
       "'6911'"
      ]
     },
     "execution_count": 560,
     "metadata": {},
     "output_type": "execute_result"
    }
   ],
   "source": [
    "racas_bar.iloc[0, racas_bar.columns.get_loc(('dos Homens', 'Brancos'))]"
   ]
  },
  {
   "cell_type": "code",
   "execution_count": 563,
   "metadata": {},
   "outputs": [
    {
     "data": {
      "application/vnd.plotly.v1+json": {
       "config": {
        "plotlyServerURL": "https://plot.ly"
       },
       "data": [
        {
         "marker": {
          "color": "blue"
         },
         "name": "Homens - Brancos",
         "type": "bar",
         "x": [
          "Amazonas",
          "Pará",
          "Maranhão",
          "Piauí",
          "Ceará",
          "Rio Grande do Norte",
          "Paraíba",
          "Pernambuco",
          "Alagoas",
          "Sergipe",
          "Bahia",
          "Espírito Santo",
          "Município Neutro",
          "Rio de Janeiro",
          "São Paulo",
          "Paraná",
          "Santa Catarina",
          "Rio Grande do Sul",
          "Minas Gerais",
          "Goiás",
          "Mato Grosso"
         ],
         "y": [
          6911,
          49663,
          52267,
          22208,
          136940,
          52835,
          73475,
          149930,
          45343,
          24358,
          178605,
          13555,
          96255,
          160595,
          221260,
          35936,
          63502,
          136094,
          421861,
          21152,
          9027
         ]
        },
        {
         "marker": {
          "color": "orange"
         },
         "name": "Homens - Pardos",
         "type": "bar",
         "x": [
          "Amazonas",
          "Pará",
          "Maranhão",
          "Piauí",
          "Ceará",
          "Rio Grande do Norte",
          "Paraíba",
          "Pernambuco",
          "Alagoas",
          "Sergipe",
          "Bahia",
          "Espírito Santo",
          "Município Neutro",
          "Rio de Janeiro",
          "São Paulo",
          "Paraná",
          "Santa Catarina",
          "Rio Grande do Sul",
          "Minas Gerais",
          "Goiás",
          "Mato Grosso"
         ],
         "y": [
          4210,
          46899,
          71662,
          53474,
          172841,
          42213,
          89921,
          194897,
          98916,
          39524,
          287131,
          9648,
          22762,
          61542,
          76288,
          15358,
          5941,
          24487,
          302948,
          42482,
          10827
         ]
        },
        {
         "marker": {
          "color": "black"
         },
         "name": "Homens - Pretos",
         "type": "bar",
         "x": [
          "Amazonas",
          "Pará",
          "Maranhão",
          "Piauí",
          "Ceará",
          "Rio Grande do Norte",
          "Paraíba",
          "Pernambuco",
          "Alagoas",
          "Sergipe",
          "Bahia",
          "Espírito Santo",
          "Município Neutro",
          "Rio de Janeiro",
          "São Paulo",
          "Paraná",
          "Santa Catarina",
          "Rio Grande do Sul",
          "Minas Gerais",
          "Goiás",
          "Mato Grosso"
         ],
         "y": [
          711,
          9200,
          12504,
          7505,
          14424,
          12202,
          11155,
          30795,
          8220,
          9321,
          137574,
          3395,
          14198,
          29517,
          29512,
          3292,
          2199,
          17828,
          105507,
          9088,
          3861
         ]
        },
        {
         "marker": {
          "color": "green"
         },
         "name": "Homens - Caboclos",
         "type": "bar",
         "x": [
          "Amazonas",
          "Pará",
          "Maranhão",
          "Piauí",
          "Ceará",
          "Rio Grande do Norte",
          "Paraíba",
          "Pernambuco",
          "Alagoas",
          "Sergipe",
          "Bahia",
          "Espírito Santo",
          "Município Neutro",
          "Rio de Janeiro",
          "São Paulo",
          "Paraná",
          "Santa Catarina",
          "Rio Grande do Sul",
          "Minas Gerais",
          "Goiás",
          "Mato Grosso"
         ],
         "y": [
          19151,
          22827,
          5509,
          7135,
          26701,
          5471,
          4882,
          5943,
          3105,
          1536,
          27043,
          3009,
          665,
          4152,
          21244,
          4718,
          1446,
          12613,
          17276,
          2246,
          4276
         ]
        },
        {
         "marker": {
          "color": "lightblue"
         },
         "name": "Mulheres - Brancas",
         "type": "bar",
         "x": [
          "Amazonas",
          "Pará",
          "Maranhão",
          "Piauí",
          "Ceará",
          "Rio Grande do Norte",
          "Paraíba",
          "Pernambuco",
          "Alagoas",
          "Sergipe",
          "Bahia",
          "Espírito Santo",
          "Município Neutro",
          "Rio de Janeiro",
          "São Paulo",
          "Paraná",
          "Santa Catarina",
          "Rio Grande do Sul",
          "Minas Gerais",
          "Goiás",
          "Mato Grosso"
         ],
         "y": [
          4300,
          42971,
          51246,
          21239,
          131896,
          49630,
          71246,
          141229,
          43455,
          25420,
          152874,
          13027,
          55544,
          142680,
          212172,
          33762,
          62440,
          122273,
          409126,
          20777,
          8210
         ]
        },
        {
         "marker": {
          "color": "lightcoral"
         },
         "name": "Mulheres - Pardas",
         "type": "bar",
         "x": [
          "Amazonas",
          "Pará",
          "Maranhão",
          "Piauí",
          "Ceará",
          "Rio Grande do Norte",
          "Paraíba",
          "Pernambuco",
          "Alagoas",
          "Sergipe",
          "Bahia",
          "Espírito Santo",
          "Município Neutro",
          "Rio de Janeiro",
          "São Paulo",
          "Paraná",
          "Santa Catarina",
          "Rio Grande do Sul",
          "Minas Gerais",
          "Goiás",
          "Mato Grosso"
         ],
         "y": [
          3046,
          46828,
          72699,
          53191,
          166325,
          41877,
          88675,
          192954,
          101283,
          42059,
          278573,
          10881,
          22083,
          59703,
          75018,
          15278,
          5796,
          24179,
          295865,
          43907,
          10087
         ]
        },
        {
         "marker": {
          "color": "lightpink"
         },
         "name": "Mulheres - Pretas",
         "type": "bar",
         "x": [
          "Amazonas",
          "Pará",
          "Maranhão",
          "Piauí",
          "Ceará",
          "Rio Grande do Norte",
          "Paraíba",
          "Pernambuco",
          "Alagoas",
          "Sergipe",
          "Bahia",
          "Espírito Santo",
          "Município Neutro",
          "Rio de Janeiro",
          "São Paulo",
          "Paraná",
          "Santa Catarina",
          "Rio Grande do Sul",
          "Minas Gerais",
          "Goiás",
          "Mato Grosso"
         ],
         "y": [
          625,
          7629,
          12780,
          7357,
          14510,
          11163,
          10661,
          30901,
          8687,
          9851,
          127153,
          3443,
          14268,
          28198,
          27027,
          3449,
          2048,
          16444,
          101647,
          8087,
          3214
         ]
        },
        {
         "marker": {
          "color": "lightgreen"
         },
         "name": "Mulheres - Caboclas",
         "type": "bar",
         "x": [
          "Amazonas",
          "Pará",
          "Maranhão",
          "Piauí",
          "Ceará",
          "Rio Grande do Norte",
          "Paraíba",
          "Pernambuco",
          "Alagoas",
          "Sergipe",
          "Bahia",
          "Espírito Santo",
          "Município Neutro",
          "Rio de Janeiro",
          "São Paulo",
          "Paraná",
          "Santa Catarina",
          "Rio Grande do Sul",
          "Minas Gerais",
          "Goiás",
          "Mato Grosso"
         ],
         "y": [
          17677,
          21762,
          5434,
          6318,
          26136,
          5568,
          4685,
          5862,
          3259,
          1551,
          22839,
          2520,
          258,
          3700,
          18221,
          4369,
          1446,
          13104,
          15046,
          2004,
          4248
         ]
        }
       ],
       "layout": {
        "barmode": "group",
        "template": {
         "data": {
          "bar": [
           {
            "error_x": {
             "color": "#2a3f5f"
            },
            "error_y": {
             "color": "#2a3f5f"
            },
            "marker": {
             "line": {
              "color": "#E5ECF6",
              "width": 0.5
             },
             "pattern": {
              "fillmode": "overlay",
              "size": 10,
              "solidity": 0.2
             }
            },
            "type": "bar"
           }
          ],
          "barpolar": [
           {
            "marker": {
             "line": {
              "color": "#E5ECF6",
              "width": 0.5
             },
             "pattern": {
              "fillmode": "overlay",
              "size": 10,
              "solidity": 0.2
             }
            },
            "type": "barpolar"
           }
          ],
          "carpet": [
           {
            "aaxis": {
             "endlinecolor": "#2a3f5f",
             "gridcolor": "white",
             "linecolor": "white",
             "minorgridcolor": "white",
             "startlinecolor": "#2a3f5f"
            },
            "baxis": {
             "endlinecolor": "#2a3f5f",
             "gridcolor": "white",
             "linecolor": "white",
             "minorgridcolor": "white",
             "startlinecolor": "#2a3f5f"
            },
            "type": "carpet"
           }
          ],
          "choropleth": [
           {
            "colorbar": {
             "outlinewidth": 0,
             "ticks": ""
            },
            "type": "choropleth"
           }
          ],
          "contour": [
           {
            "colorbar": {
             "outlinewidth": 0,
             "ticks": ""
            },
            "colorscale": [
             [
              0,
              "#0d0887"
             ],
             [
              0.1111111111111111,
              "#46039f"
             ],
             [
              0.2222222222222222,
              "#7201a8"
             ],
             [
              0.3333333333333333,
              "#9c179e"
             ],
             [
              0.4444444444444444,
              "#bd3786"
             ],
             [
              0.5555555555555556,
              "#d8576b"
             ],
             [
              0.6666666666666666,
              "#ed7953"
             ],
             [
              0.7777777777777778,
              "#fb9f3a"
             ],
             [
              0.8888888888888888,
              "#fdca26"
             ],
             [
              1,
              "#f0f921"
             ]
            ],
            "type": "contour"
           }
          ],
          "contourcarpet": [
           {
            "colorbar": {
             "outlinewidth": 0,
             "ticks": ""
            },
            "type": "contourcarpet"
           }
          ],
          "heatmap": [
           {
            "colorbar": {
             "outlinewidth": 0,
             "ticks": ""
            },
            "colorscale": [
             [
              0,
              "#0d0887"
             ],
             [
              0.1111111111111111,
              "#46039f"
             ],
             [
              0.2222222222222222,
              "#7201a8"
             ],
             [
              0.3333333333333333,
              "#9c179e"
             ],
             [
              0.4444444444444444,
              "#bd3786"
             ],
             [
              0.5555555555555556,
              "#d8576b"
             ],
             [
              0.6666666666666666,
              "#ed7953"
             ],
             [
              0.7777777777777778,
              "#fb9f3a"
             ],
             [
              0.8888888888888888,
              "#fdca26"
             ],
             [
              1,
              "#f0f921"
             ]
            ],
            "type": "heatmap"
           }
          ],
          "heatmapgl": [
           {
            "colorbar": {
             "outlinewidth": 0,
             "ticks": ""
            },
            "colorscale": [
             [
              0,
              "#0d0887"
             ],
             [
              0.1111111111111111,
              "#46039f"
             ],
             [
              0.2222222222222222,
              "#7201a8"
             ],
             [
              0.3333333333333333,
              "#9c179e"
             ],
             [
              0.4444444444444444,
              "#bd3786"
             ],
             [
              0.5555555555555556,
              "#d8576b"
             ],
             [
              0.6666666666666666,
              "#ed7953"
             ],
             [
              0.7777777777777778,
              "#fb9f3a"
             ],
             [
              0.8888888888888888,
              "#fdca26"
             ],
             [
              1,
              "#f0f921"
             ]
            ],
            "type": "heatmapgl"
           }
          ],
          "histogram": [
           {
            "marker": {
             "pattern": {
              "fillmode": "overlay",
              "size": 10,
              "solidity": 0.2
             }
            },
            "type": "histogram"
           }
          ],
          "histogram2d": [
           {
            "colorbar": {
             "outlinewidth": 0,
             "ticks": ""
            },
            "colorscale": [
             [
              0,
              "#0d0887"
             ],
             [
              0.1111111111111111,
              "#46039f"
             ],
             [
              0.2222222222222222,
              "#7201a8"
             ],
             [
              0.3333333333333333,
              "#9c179e"
             ],
             [
              0.4444444444444444,
              "#bd3786"
             ],
             [
              0.5555555555555556,
              "#d8576b"
             ],
             [
              0.6666666666666666,
              "#ed7953"
             ],
             [
              0.7777777777777778,
              "#fb9f3a"
             ],
             [
              0.8888888888888888,
              "#fdca26"
             ],
             [
              1,
              "#f0f921"
             ]
            ],
            "type": "histogram2d"
           }
          ],
          "histogram2dcontour": [
           {
            "colorbar": {
             "outlinewidth": 0,
             "ticks": ""
            },
            "colorscale": [
             [
              0,
              "#0d0887"
             ],
             [
              0.1111111111111111,
              "#46039f"
             ],
             [
              0.2222222222222222,
              "#7201a8"
             ],
             [
              0.3333333333333333,
              "#9c179e"
             ],
             [
              0.4444444444444444,
              "#bd3786"
             ],
             [
              0.5555555555555556,
              "#d8576b"
             ],
             [
              0.6666666666666666,
              "#ed7953"
             ],
             [
              0.7777777777777778,
              "#fb9f3a"
             ],
             [
              0.8888888888888888,
              "#fdca26"
             ],
             [
              1,
              "#f0f921"
             ]
            ],
            "type": "histogram2dcontour"
           }
          ],
          "mesh3d": [
           {
            "colorbar": {
             "outlinewidth": 0,
             "ticks": ""
            },
            "type": "mesh3d"
           }
          ],
          "parcoords": [
           {
            "line": {
             "colorbar": {
              "outlinewidth": 0,
              "ticks": ""
             }
            },
            "type": "parcoords"
           }
          ],
          "pie": [
           {
            "automargin": true,
            "type": "pie"
           }
          ],
          "scatter": [
           {
            "fillpattern": {
             "fillmode": "overlay",
             "size": 10,
             "solidity": 0.2
            },
            "type": "scatter"
           }
          ],
          "scatter3d": [
           {
            "line": {
             "colorbar": {
              "outlinewidth": 0,
              "ticks": ""
             }
            },
            "marker": {
             "colorbar": {
              "outlinewidth": 0,
              "ticks": ""
             }
            },
            "type": "scatter3d"
           }
          ],
          "scattercarpet": [
           {
            "marker": {
             "colorbar": {
              "outlinewidth": 0,
              "ticks": ""
             }
            },
            "type": "scattercarpet"
           }
          ],
          "scattergeo": [
           {
            "marker": {
             "colorbar": {
              "outlinewidth": 0,
              "ticks": ""
             }
            },
            "type": "scattergeo"
           }
          ],
          "scattergl": [
           {
            "marker": {
             "colorbar": {
              "outlinewidth": 0,
              "ticks": ""
             }
            },
            "type": "scattergl"
           }
          ],
          "scattermapbox": [
           {
            "marker": {
             "colorbar": {
              "outlinewidth": 0,
              "ticks": ""
             }
            },
            "type": "scattermapbox"
           }
          ],
          "scatterpolar": [
           {
            "marker": {
             "colorbar": {
              "outlinewidth": 0,
              "ticks": ""
             }
            },
            "type": "scatterpolar"
           }
          ],
          "scatterpolargl": [
           {
            "marker": {
             "colorbar": {
              "outlinewidth": 0,
              "ticks": ""
             }
            },
            "type": "scatterpolargl"
           }
          ],
          "scatterternary": [
           {
            "marker": {
             "colorbar": {
              "outlinewidth": 0,
              "ticks": ""
             }
            },
            "type": "scatterternary"
           }
          ],
          "surface": [
           {
            "colorbar": {
             "outlinewidth": 0,
             "ticks": ""
            },
            "colorscale": [
             [
              0,
              "#0d0887"
             ],
             [
              0.1111111111111111,
              "#46039f"
             ],
             [
              0.2222222222222222,
              "#7201a8"
             ],
             [
              0.3333333333333333,
              "#9c179e"
             ],
             [
              0.4444444444444444,
              "#bd3786"
             ],
             [
              0.5555555555555556,
              "#d8576b"
             ],
             [
              0.6666666666666666,
              "#ed7953"
             ],
             [
              0.7777777777777778,
              "#fb9f3a"
             ],
             [
              0.8888888888888888,
              "#fdca26"
             ],
             [
              1,
              "#f0f921"
             ]
            ],
            "type": "surface"
           }
          ],
          "table": [
           {
            "cells": {
             "fill": {
              "color": "#EBF0F8"
             },
             "line": {
              "color": "white"
             }
            },
            "header": {
             "fill": {
              "color": "#C8D4E3"
             },
             "line": {
              "color": "white"
             }
            },
            "type": "table"
           }
          ]
         },
         "layout": {
          "annotationdefaults": {
           "arrowcolor": "#2a3f5f",
           "arrowhead": 0,
           "arrowwidth": 1
          },
          "autotypenumbers": "strict",
          "coloraxis": {
           "colorbar": {
            "outlinewidth": 0,
            "ticks": ""
           }
          },
          "colorscale": {
           "diverging": [
            [
             0,
             "#8e0152"
            ],
            [
             0.1,
             "#c51b7d"
            ],
            [
             0.2,
             "#de77ae"
            ],
            [
             0.3,
             "#f1b6da"
            ],
            [
             0.4,
             "#fde0ef"
            ],
            [
             0.5,
             "#f7f7f7"
            ],
            [
             0.6,
             "#e6f5d0"
            ],
            [
             0.7,
             "#b8e186"
            ],
            [
             0.8,
             "#7fbc41"
            ],
            [
             0.9,
             "#4d9221"
            ],
            [
             1,
             "#276419"
            ]
           ],
           "sequential": [
            [
             0,
             "#0d0887"
            ],
            [
             0.1111111111111111,
             "#46039f"
            ],
            [
             0.2222222222222222,
             "#7201a8"
            ],
            [
             0.3333333333333333,
             "#9c179e"
            ],
            [
             0.4444444444444444,
             "#bd3786"
            ],
            [
             0.5555555555555556,
             "#d8576b"
            ],
            [
             0.6666666666666666,
             "#ed7953"
            ],
            [
             0.7777777777777778,
             "#fb9f3a"
            ],
            [
             0.8888888888888888,
             "#fdca26"
            ],
            [
             1,
             "#f0f921"
            ]
           ],
           "sequentialminus": [
            [
             0,
             "#0d0887"
            ],
            [
             0.1111111111111111,
             "#46039f"
            ],
            [
             0.2222222222222222,
             "#7201a8"
            ],
            [
             0.3333333333333333,
             "#9c179e"
            ],
            [
             0.4444444444444444,
             "#bd3786"
            ],
            [
             0.5555555555555556,
             "#d8576b"
            ],
            [
             0.6666666666666666,
             "#ed7953"
            ],
            [
             0.7777777777777778,
             "#fb9f3a"
            ],
            [
             0.8888888888888888,
             "#fdca26"
            ],
            [
             1,
             "#f0f921"
            ]
           ]
          },
          "colorway": [
           "#636efa",
           "#EF553B",
           "#00cc96",
           "#ab63fa",
           "#FFA15A",
           "#19d3f3",
           "#FF6692",
           "#B6E880",
           "#FF97FF",
           "#FECB52"
          ],
          "font": {
           "color": "#2a3f5f"
          },
          "geo": {
           "bgcolor": "white",
           "lakecolor": "white",
           "landcolor": "#E5ECF6",
           "showlakes": true,
           "showland": true,
           "subunitcolor": "white"
          },
          "hoverlabel": {
           "align": "left"
          },
          "hovermode": "closest",
          "mapbox": {
           "style": "light"
          },
          "paper_bgcolor": "white",
          "plot_bgcolor": "#E5ECF6",
          "polar": {
           "angularaxis": {
            "gridcolor": "white",
            "linecolor": "white",
            "ticks": ""
           },
           "bgcolor": "#E5ECF6",
           "radialaxis": {
            "gridcolor": "white",
            "linecolor": "white",
            "ticks": ""
           }
          },
          "scene": {
           "xaxis": {
            "backgroundcolor": "#E5ECF6",
            "gridcolor": "white",
            "gridwidth": 2,
            "linecolor": "white",
            "showbackground": true,
            "ticks": "",
            "zerolinecolor": "white"
           },
           "yaxis": {
            "backgroundcolor": "#E5ECF6",
            "gridcolor": "white",
            "gridwidth": 2,
            "linecolor": "white",
            "showbackground": true,
            "ticks": "",
            "zerolinecolor": "white"
           },
           "zaxis": {
            "backgroundcolor": "#E5ECF6",
            "gridcolor": "white",
            "gridwidth": 2,
            "linecolor": "white",
            "showbackground": true,
            "ticks": "",
            "zerolinecolor": "white"
           }
          },
          "shapedefaults": {
           "line": {
            "color": "#2a3f5f"
           }
          },
          "ternary": {
           "aaxis": {
            "gridcolor": "white",
            "linecolor": "white",
            "ticks": ""
           },
           "baxis": {
            "gridcolor": "white",
            "linecolor": "white",
            "ticks": ""
           },
           "bgcolor": "#E5ECF6",
           "caxis": {
            "gridcolor": "white",
            "linecolor": "white",
            "ticks": ""
           }
          },
          "title": {
           "x": 0.05
          },
          "xaxis": {
           "automargin": true,
           "gridcolor": "white",
           "linecolor": "white",
           "ticks": "",
           "title": {
            "standoff": 15
           },
           "zerolinecolor": "white",
           "zerolinewidth": 2
          },
          "yaxis": {
           "automargin": true,
           "gridcolor": "white",
           "linecolor": "white",
           "ticks": "",
           "title": {
            "standoff": 15
           },
           "zerolinecolor": "white",
           "zerolinewidth": 2
          }
         }
        },
        "title": {
         "text": "População por Província e Raça (Homens e Mulheres)"
        },
        "xaxis": {
         "title": {
          "text": "Províncias"
         }
        },
        "yaxis": {
         "title": {
          "text": "População"
         }
        }
       }
      }
     },
     "metadata": {},
     "output_type": "display_data"
    }
   ],
   "source": [
    "# Definindo os traces\n",
    "traces = []\n",
    "\n",
    "# Convertendo as colunas numéricas para int\n",
    "for col in racas_bar.columns:\n",
    "    if racas_bar[col].dtype == 'object':  # Verifica se o tipo de dado é 'object' (strings)\n",
    "        try:\n",
    "            racas_bar[col] = pd.to_numeric(racas_bar[col])  # Tenta converter para numérico (int/float)\n",
    "        except ValueError:\n",
    "            pass  # Se não puder ser convertido (ex: nomes), ignora\n",
    "\n",
    "\n",
    "# Adicionando as barras de homens\n",
    "for category in ['Brancos', 'Pardos', 'Pretos', 'Caboclos']:\n",
    "    trace = {\n",
    "        \"type\": \"bar\",\n",
    "        \"x\": [racas_bar.iloc[i, 0] for i in range(len(racas_bar))],  # Coluna de Províncias\n",
    "        \"y\": [racas_bar.iloc[i, racas_bar.columns.get_loc(('dos Homens', category))] for i in range(len(racas_bar))],\n",
    "        \"name\": f'Homens - {category}',\n",
    "        \"marker\": {\"color\": 'blue' if category == 'Brancos' else \n",
    "                   'orange' if category == 'Pardos' else \n",
    "                   'black' if category == 'Pretos' else \n",
    "                   'green'}\n",
    "    }\n",
    "    traces.append(trace)\n",
    "\n",
    "# Adicionando as barras de mulheres\n",
    "for category in ['Brancas', 'Pardas', 'Pretas', 'Caboclas']:\n",
    "    trace = {\n",
    "        \"type\": \"bar\",\n",
    "        \"x\": [racas_bar.iloc[i, 0] for i in range(len(racas_bar))],  # Coluna de Províncias\n",
    "        \"y\": [racas_bar.iloc[i, racas_bar.columns.get_loc(('das Mulheres', category))] for i in range(len(racas_bar))],\n",
    "        \"name\": f'Mulheres - {category}',\n",
    "        \"marker\": {\"color\": 'lightblue' if category == 'Brancas' else \n",
    "                   'lightcoral' if category == 'Pardas' else \n",
    "                   'lightpink' if category == 'Pretas' else \n",
    "                   'lightgreen'}\n",
    "    }\n",
    "    traces.append(trace)\n",
    "\n",
    "# Criando o gráfico com as traces definidas\n",
    "fig = go.Figure(data=traces)\n",
    "\n",
    "# Configurações do layout\n",
    "fig.update_layout(\n",
    "    title='População por Província e Raça (Homens e Mulheres)',\n",
    "    xaxis_title='Províncias',\n",
    "    yaxis_title='População',\n",
    "    barmode='group'\n",
    ")\n",
    "\n",
    "# Exibindo o gráfico\n",
    "fig.show()"
   ]
  },
  {
   "cell_type": "code",
   "execution_count": 443,
   "metadata": {},
   "outputs": [
    {
     "data": {
      "text/plain": [
       "              Províncias e Município Neutro    Amazonas\n",
       "dos Homens    Brancos                              6911\n",
       "              Pardos                               4210\n",
       "              Pretos                                711\n",
       "              Caboclos                            19151\n",
       "das Mulheres  Brancas                              4300\n",
       "              Pardas                               3046\n",
       "              Pretas                                625\n",
       "              Caboclas                            17677\n",
       "Name: 3, dtype: object"
      ]
     },
     "execution_count": 443,
     "metadata": {},
     "output_type": "execute_result"
    }
   ],
   "source": [
    "racas_bar.iloc[0]"
   ]
  },
  {
   "cell_type": "markdown",
   "metadata": {},
   "source": [
    "## Religiao"
   ]
  },
  {
   "cell_type": "code",
   "execution_count": 444,
   "metadata": {},
   "outputs": [
    {
     "data": {
      "text/html": [
       "<div>\n",
       "<style scoped>\n",
       "    .dataframe tbody tr th:only-of-type {\n",
       "        vertical-align: middle;\n",
       "    }\n",
       "\n",
       "    .dataframe tbody tr th {\n",
       "        vertical-align: top;\n",
       "    }\n",
       "\n",
       "    .dataframe thead th {\n",
       "        text-align: right;\n",
       "    }\n",
       "</style>\n",
       "<table border=\"1\" class=\"dataframe\">\n",
       "  <thead>\n",
       "    <tr style=\"text-align: right;\">\n",
       "      <th></th>\n",
       "      <th>Unnamed: 0</th>\n",
       "      <th>Unnamed: 18</th>\n",
       "      <th>Unnamed: 19</th>\n",
       "      <th>Unnamed: 20</th>\n",
       "      <th>Unnamed: 21</th>\n",
       "    </tr>\n",
       "  </thead>\n",
       "  <tbody>\n",
       "    <tr>\n",
       "      <th>0</th>\n",
       "      <td>NaN</td>\n",
       "      <td>Religião</td>\n",
       "      <td>NaN</td>\n",
       "      <td>NaN</td>\n",
       "      <td>NaN</td>\n",
       "    </tr>\n",
       "    <tr>\n",
       "      <th>1</th>\n",
       "      <td>NaN</td>\n",
       "      <td>dos Homens</td>\n",
       "      <td>NaN</td>\n",
       "      <td>das Mulheres</td>\n",
       "      <td>NaN</td>\n",
       "    </tr>\n",
       "    <tr>\n",
       "      <th>2</th>\n",
       "      <td>Províncias e Município Neutro</td>\n",
       "      <td>Católicos</td>\n",
       "      <td>Acatólicos</td>\n",
       "      <td>Católicas</td>\n",
       "      <td>Acatólicas</td>\n",
       "    </tr>\n",
       "    <tr>\n",
       "      <th>3</th>\n",
       "      <td>Amazonas</td>\n",
       "      <td>30903</td>\n",
       "      <td>80</td>\n",
       "      <td>25641</td>\n",
       "      <td>7</td>\n",
       "    </tr>\n",
       "    <tr>\n",
       "      <th>4</th>\n",
       "      <td>Pará</td>\n",
       "      <td>128396</td>\n",
       "      <td>193</td>\n",
       "      <td>119169</td>\n",
       "      <td>21</td>\n",
       "    </tr>\n",
       "  </tbody>\n",
       "</table>\n",
       "</div>"
      ],
      "text/plain": [
       "                      Unnamed: 0 Unnamed: 18 Unnamed: 19   Unnamed: 20  \\\n",
       "0                            NaN    Religião         NaN           NaN   \n",
       "1                            NaN  dos Homens         NaN  das Mulheres   \n",
       "2  Províncias e Município Neutro   Católicos  Acatólicos     Católicas   \n",
       "3                       Amazonas       30903          80         25641   \n",
       "4                           Pará      128396         193        119169   \n",
       "\n",
       "  Unnamed: 21  \n",
       "0         NaN  \n",
       "1         NaN  \n",
       "2  Acatólicas  \n",
       "3           7  \n",
       "4          21  "
      ]
     },
     "execution_count": 444,
     "metadata": {},
     "output_type": "execute_result"
    }
   ],
   "source": [
    "religiao = df[['Unnamed: 0','Unnamed: 18', 'Unnamed: 19', 'Unnamed: 20', 'Unnamed: 21']]\n",
    "religiao.head()"
   ]
  },
  {
   "cell_type": "code",
   "execution_count": 445,
   "metadata": {},
   "outputs": [
    {
     "data": {
      "text/html": [
       "<div>\n",
       "<style scoped>\n",
       "    .dataframe tbody tr th:only-of-type {\n",
       "        vertical-align: middle;\n",
       "    }\n",
       "\n",
       "    .dataframe tbody tr th {\n",
       "        vertical-align: top;\n",
       "    }\n",
       "\n",
       "    .dataframe thead th {\n",
       "        text-align: right;\n",
       "    }\n",
       "</style>\n",
       "<table border=\"1\" class=\"dataframe\">\n",
       "  <thead>\n",
       "    <tr style=\"text-align: right;\">\n",
       "      <th></th>\n",
       "      <th>NaN</th>\n",
       "      <th>Religião</th>\n",
       "      <th>NaN</th>\n",
       "      <th>NaN</th>\n",
       "      <th>NaN</th>\n",
       "    </tr>\n",
       "  </thead>\n",
       "  <tbody>\n",
       "    <tr>\n",
       "      <th>1</th>\n",
       "      <td>NaN</td>\n",
       "      <td>dos Homens</td>\n",
       "      <td>NaN</td>\n",
       "      <td>das Mulheres</td>\n",
       "      <td>NaN</td>\n",
       "    </tr>\n",
       "    <tr>\n",
       "      <th>2</th>\n",
       "      <td>Províncias e Município Neutro</td>\n",
       "      <td>Católicos</td>\n",
       "      <td>Acatólicos</td>\n",
       "      <td>Católicas</td>\n",
       "      <td>Acatólicas</td>\n",
       "    </tr>\n",
       "    <tr>\n",
       "      <th>3</th>\n",
       "      <td>Amazonas</td>\n",
       "      <td>30903</td>\n",
       "      <td>80</td>\n",
       "      <td>25641</td>\n",
       "      <td>7</td>\n",
       "    </tr>\n",
       "    <tr>\n",
       "      <th>4</th>\n",
       "      <td>Pará</td>\n",
       "      <td>128396</td>\n",
       "      <td>193</td>\n",
       "      <td>119169</td>\n",
       "      <td>21</td>\n",
       "    </tr>\n",
       "    <tr>\n",
       "      <th>5</th>\n",
       "      <td>Maranhão</td>\n",
       "      <td>141865</td>\n",
       "      <td>77</td>\n",
       "      <td>142100</td>\n",
       "      <td>59</td>\n",
       "    </tr>\n",
       "  </tbody>\n",
       "</table>\n",
       "</div>"
      ],
      "text/plain": [
       "0                            NaN    Religião         NaN           NaN  \\\n",
       "1                            NaN  dos Homens         NaN  das Mulheres   \n",
       "2  Províncias e Município Neutro   Católicos  Acatólicos     Católicas   \n",
       "3                       Amazonas       30903          80         25641   \n",
       "4                           Pará      128396         193        119169   \n",
       "5                       Maranhão      141865          77        142100   \n",
       "\n",
       "0         NaN  \n",
       "1         NaN  \n",
       "2  Acatólicas  \n",
       "3           7  \n",
       "4          21  \n",
       "5          59  "
      ]
     },
     "execution_count": 445,
     "metadata": {},
     "output_type": "execute_result"
    }
   ],
   "source": [
    "religiao_header = religiao.iloc[0]\n",
    "religiao.columns = religiao_header\n",
    "religiao = religiao[1:]\n",
    "religiao.head()"
   ]
  },
  {
   "cell_type": "markdown",
   "metadata": {},
   "source": [
    "## Nacionalidade"
   ]
  },
  {
   "cell_type": "code",
   "execution_count": 446,
   "metadata": {},
   "outputs": [
    {
     "data": {
      "text/html": [
       "<div>\n",
       "<style scoped>\n",
       "    .dataframe tbody tr th:only-of-type {\n",
       "        vertical-align: middle;\n",
       "    }\n",
       "\n",
       "    .dataframe tbody tr th {\n",
       "        vertical-align: top;\n",
       "    }\n",
       "\n",
       "    .dataframe thead th {\n",
       "        text-align: right;\n",
       "    }\n",
       "</style>\n",
       "<table border=\"1\" class=\"dataframe\">\n",
       "  <thead>\n",
       "    <tr style=\"text-align: right;\">\n",
       "      <th></th>\n",
       "      <th>Unnamed: 0</th>\n",
       "      <th>Unnamed: 22</th>\n",
       "      <th>Unnamed: 23</th>\n",
       "      <th>Unnamed: 24</th>\n",
       "      <th>Unnamed: 25</th>\n",
       "    </tr>\n",
       "  </thead>\n",
       "  <tbody>\n",
       "    <tr>\n",
       "      <th>0</th>\n",
       "      <td>NaN</td>\n",
       "      <td>Nacionalidades</td>\n",
       "      <td>NaN</td>\n",
       "      <td>NaN</td>\n",
       "      <td>NaN</td>\n",
       "    </tr>\n",
       "    <tr>\n",
       "      <th>1</th>\n",
       "      <td>NaN</td>\n",
       "      <td>dos Homens</td>\n",
       "      <td>NaN</td>\n",
       "      <td>das Mulheres</td>\n",
       "      <td>NaN</td>\n",
       "    </tr>\n",
       "    <tr>\n",
       "      <th>2</th>\n",
       "      <td>Províncias e Município Neutro</td>\n",
       "      <td>Brasileiros</td>\n",
       "      <td>Estrangeiros</td>\n",
       "      <td>Brasileiras</td>\n",
       "      <td>Estrangeiras</td>\n",
       "    </tr>\n",
       "    <tr>\n",
       "      <th>3</th>\n",
       "      <td>Amazonas</td>\n",
       "      <td>29223</td>\n",
       "      <td>1760</td>\n",
       "      <td>25222</td>\n",
       "      <td>426</td>\n",
       "    </tr>\n",
       "    <tr>\n",
       "      <th>4</th>\n",
       "      <td>Pará</td>\n",
       "      <td>123365</td>\n",
       "      <td>5224</td>\n",
       "      <td>118437</td>\n",
       "      <td>753</td>\n",
       "    </tr>\n",
       "  </tbody>\n",
       "</table>\n",
       "</div>"
      ],
      "text/plain": [
       "                      Unnamed: 0     Unnamed: 22   Unnamed: 23   Unnamed: 24  \\\n",
       "0                            NaN  Nacionalidades           NaN           NaN   \n",
       "1                            NaN      dos Homens           NaN  das Mulheres   \n",
       "2  Províncias e Município Neutro     Brasileiros  Estrangeiros   Brasileiras   \n",
       "3                       Amazonas           29223          1760         25222   \n",
       "4                           Pará          123365          5224        118437   \n",
       "\n",
       "    Unnamed: 25  \n",
       "0           NaN  \n",
       "1           NaN  \n",
       "2  Estrangeiras  \n",
       "3           426  \n",
       "4           753  "
      ]
     },
     "execution_count": 446,
     "metadata": {},
     "output_type": "execute_result"
    }
   ],
   "source": [
    "nacionalidade = df[['Unnamed: 0','Unnamed: 22', 'Unnamed: 23', 'Unnamed: 24', 'Unnamed: 25']]\n",
    "nacionalidade.head()"
   ]
  },
  {
   "cell_type": "code",
   "execution_count": 447,
   "metadata": {},
   "outputs": [
    {
     "data": {
      "text/html": [
       "<div>\n",
       "<style scoped>\n",
       "    .dataframe tbody tr th:only-of-type {\n",
       "        vertical-align: middle;\n",
       "    }\n",
       "\n",
       "    .dataframe tbody tr th {\n",
       "        vertical-align: top;\n",
       "    }\n",
       "\n",
       "    .dataframe thead th {\n",
       "        text-align: right;\n",
       "    }\n",
       "</style>\n",
       "<table border=\"1\" class=\"dataframe\">\n",
       "  <thead>\n",
       "    <tr style=\"text-align: right;\">\n",
       "      <th></th>\n",
       "      <th>NaN</th>\n",
       "      <th>Nacionalidades</th>\n",
       "      <th>NaN</th>\n",
       "      <th>NaN</th>\n",
       "      <th>NaN</th>\n",
       "    </tr>\n",
       "  </thead>\n",
       "  <tbody>\n",
       "    <tr>\n",
       "      <th>1</th>\n",
       "      <td>NaN</td>\n",
       "      <td>dos Homens</td>\n",
       "      <td>NaN</td>\n",
       "      <td>das Mulheres</td>\n",
       "      <td>NaN</td>\n",
       "    </tr>\n",
       "    <tr>\n",
       "      <th>2</th>\n",
       "      <td>Províncias e Município Neutro</td>\n",
       "      <td>Brasileiros</td>\n",
       "      <td>Estrangeiros</td>\n",
       "      <td>Brasileiras</td>\n",
       "      <td>Estrangeiras</td>\n",
       "    </tr>\n",
       "    <tr>\n",
       "      <th>3</th>\n",
       "      <td>Amazonas</td>\n",
       "      <td>29223</td>\n",
       "      <td>1760</td>\n",
       "      <td>25222</td>\n",
       "      <td>426</td>\n",
       "    </tr>\n",
       "    <tr>\n",
       "      <th>4</th>\n",
       "      <td>Pará</td>\n",
       "      <td>123365</td>\n",
       "      <td>5224</td>\n",
       "      <td>118437</td>\n",
       "      <td>753</td>\n",
       "    </tr>\n",
       "    <tr>\n",
       "      <th>5</th>\n",
       "      <td>Maranhão</td>\n",
       "      <td>139413</td>\n",
       "      <td>2529</td>\n",
       "      <td>141191</td>\n",
       "      <td>968</td>\n",
       "    </tr>\n",
       "  </tbody>\n",
       "</table>\n",
       "</div>"
      ],
      "text/plain": [
       "0                            NaN Nacionalidades           NaN           NaN  \\\n",
       "1                            NaN     dos Homens           NaN  das Mulheres   \n",
       "2  Províncias e Município Neutro    Brasileiros  Estrangeiros   Brasileiras   \n",
       "3                       Amazonas          29223          1760         25222   \n",
       "4                           Pará         123365          5224        118437   \n",
       "5                       Maranhão         139413          2529        141191   \n",
       "\n",
       "0           NaN  \n",
       "1           NaN  \n",
       "2  Estrangeiras  \n",
       "3           426  \n",
       "4           753  \n",
       "5           968  "
      ]
     },
     "execution_count": 447,
     "metadata": {},
     "output_type": "execute_result"
    }
   ],
   "source": [
    "nacionalidade_header = nacionalidade.iloc[0]\n",
    "nacionalidade.columns = nacionalidade_header\n",
    "nacionalidade = nacionalidade[1:]\n",
    "nacionalidade.head()"
   ]
  },
  {
   "cell_type": "markdown",
   "metadata": {},
   "source": [
    "## Instrução"
   ]
  },
  {
   "cell_type": "code",
   "execution_count": 448,
   "metadata": {},
   "outputs": [
    {
     "data": {
      "text/html": [
       "<div>\n",
       "<style scoped>\n",
       "    .dataframe tbody tr th:only-of-type {\n",
       "        vertical-align: middle;\n",
       "    }\n",
       "\n",
       "    .dataframe tbody tr th {\n",
       "        vertical-align: top;\n",
       "    }\n",
       "\n",
       "    .dataframe thead th {\n",
       "        text-align: right;\n",
       "    }\n",
       "</style>\n",
       "<table border=\"1\" class=\"dataframe\">\n",
       "  <thead>\n",
       "    <tr style=\"text-align: right;\">\n",
       "      <th></th>\n",
       "      <th>Unnamed: 0</th>\n",
       "      <th>Instrução</th>\n",
       "      <th>Unnamed: 27</th>\n",
       "      <th>Unnamed: 28</th>\n",
       "      <th>Unnamed: 29</th>\n",
       "      <th>Unnamed: 30</th>\n",
       "      <th>Unnamed: 31</th>\n",
       "      <th>Unnamed: 32</th>\n",
       "      <th>Unnamed: 33</th>\n",
       "      <th>Unnamed: 34</th>\n",
       "      <th>Unnamed: 35</th>\n",
       "    </tr>\n",
       "  </thead>\n",
       "  <tbody>\n",
       "    <tr>\n",
       "      <th>0</th>\n",
       "      <td>NaN</td>\n",
       "      <td>NaN</td>\n",
       "      <td>NaN</td>\n",
       "      <td>NaN</td>\n",
       "      <td>NaN</td>\n",
       "      <td>População escolar de 6 a 15 anos</td>\n",
       "      <td>NaN</td>\n",
       "      <td>NaN</td>\n",
       "      <td>NaN</td>\n",
       "      <td>NaN</td>\n",
       "      <td>NaN</td>\n",
       "    </tr>\n",
       "    <tr>\n",
       "      <th>1</th>\n",
       "      <td>NaN</td>\n",
       "      <td>Homens</td>\n",
       "      <td>NaN</td>\n",
       "      <td>Mulheres</td>\n",
       "      <td>NaN</td>\n",
       "      <td>Meninos</td>\n",
       "      <td>NaN</td>\n",
       "      <td>NaN</td>\n",
       "      <td>Meninas</td>\n",
       "      <td>NaN</td>\n",
       "      <td>NaN</td>\n",
       "    </tr>\n",
       "    <tr>\n",
       "      <th>2</th>\n",
       "      <td>Províncias e Município Neutro</td>\n",
       "      <td>Sabem ler e escrever</td>\n",
       "      <td>Analfabetos</td>\n",
       "      <td>Sabem ler e escrever</td>\n",
       "      <td>Analfabetas</td>\n",
       "      <td>Frequentam escolas</td>\n",
       "      <td>Não frequentam</td>\n",
       "      <td>Total</td>\n",
       "      <td>Frequentam escolas</td>\n",
       "      <td>Não frequentam</td>\n",
       "      <td>Total</td>\n",
       "    </tr>\n",
       "    <tr>\n",
       "      <th>3</th>\n",
       "      <td>Amazonas</td>\n",
       "      <td>6160</td>\n",
       "      <td>24823</td>\n",
       "      <td>1453</td>\n",
       "      <td>24195</td>\n",
       "      <td>824</td>\n",
       "      <td>5056</td>\n",
       "      <td>5880</td>\n",
       "      <td>371</td>\n",
       "      <td>3269</td>\n",
       "      <td>3640</td>\n",
       "    </tr>\n",
       "    <tr>\n",
       "      <th>4</th>\n",
       "      <td>Pará</td>\n",
       "      <td>39718</td>\n",
       "      <td>88871</td>\n",
       "      <td>20677</td>\n",
       "      <td>98513</td>\n",
       "      <td>5768</td>\n",
       "      <td>25753</td>\n",
       "      <td>31521</td>\n",
       "      <td>3441</td>\n",
       "      <td>25020</td>\n",
       "      <td>28461</td>\n",
       "    </tr>\n",
       "  </tbody>\n",
       "</table>\n",
       "</div>"
      ],
      "text/plain": [
       "                      Unnamed: 0             Instrução  Unnamed: 27  \\\n",
       "0                            NaN                   NaN          NaN   \n",
       "1                            NaN                Homens          NaN   \n",
       "2  Províncias e Município Neutro  Sabem ler e escrever  Analfabetos   \n",
       "3                       Amazonas                  6160        24823   \n",
       "4                           Pará                 39718        88871   \n",
       "\n",
       "            Unnamed: 28  Unnamed: 29                       Unnamed: 30  \\\n",
       "0                   NaN          NaN  População escolar de 6 a 15 anos   \n",
       "1              Mulheres          NaN                           Meninos   \n",
       "2  Sabem ler e escrever  Analfabetas                Frequentam escolas   \n",
       "3                  1453        24195                               824   \n",
       "4                 20677        98513                              5768   \n",
       "\n",
       "      Unnamed: 31 Unnamed: 32         Unnamed: 33     Unnamed: 34 Unnamed: 35  \n",
       "0             NaN         NaN                 NaN             NaN         NaN  \n",
       "1             NaN         NaN             Meninas             NaN         NaN  \n",
       "2  Não frequentam       Total  Frequentam escolas  Não frequentam       Total  \n",
       "3            5056        5880                 371            3269        3640  \n",
       "4           25753       31521                3441           25020       28461  "
      ]
     },
     "execution_count": 448,
     "metadata": {},
     "output_type": "execute_result"
    }
   ],
   "source": [
    "instrucao = df[['Unnamed: 0','Instrução', 'Unnamed: 27', 'Unnamed: 28', 'Unnamed: 29', 'Unnamed: 30', 'Unnamed: 31', 'Unnamed: 32', 'Unnamed: 33', 'Unnamed: 34', 'Unnamed: 35']]\n",
    "instrucao.head()"
   ]
  },
  {
   "cell_type": "code",
   "execution_count": 449,
   "metadata": {},
   "outputs": [
    {
     "data": {
      "text/html": [
       "<div>\n",
       "<style scoped>\n",
       "    .dataframe tbody tr th:only-of-type {\n",
       "        vertical-align: middle;\n",
       "    }\n",
       "\n",
       "    .dataframe tbody tr th {\n",
       "        vertical-align: top;\n",
       "    }\n",
       "\n",
       "    .dataframe thead th {\n",
       "        text-align: right;\n",
       "    }\n",
       "</style>\n",
       "<table border=\"1\" class=\"dataframe\">\n",
       "  <thead>\n",
       "    <tr style=\"text-align: right;\">\n",
       "      <th></th>\n",
       "      <th>NaN</th>\n",
       "      <th>NaN</th>\n",
       "      <th>NaN</th>\n",
       "      <th>NaN</th>\n",
       "      <th>NaN</th>\n",
       "      <th>População escolar de 6 a 15 anos</th>\n",
       "      <th>NaN</th>\n",
       "      <th>NaN</th>\n",
       "      <th>NaN</th>\n",
       "      <th>NaN</th>\n",
       "      <th>NaN</th>\n",
       "    </tr>\n",
       "  </thead>\n",
       "  <tbody>\n",
       "    <tr>\n",
       "      <th>1</th>\n",
       "      <td>NaN</td>\n",
       "      <td>Homens</td>\n",
       "      <td>NaN</td>\n",
       "      <td>Mulheres</td>\n",
       "      <td>NaN</td>\n",
       "      <td>Meninos</td>\n",
       "      <td>NaN</td>\n",
       "      <td>NaN</td>\n",
       "      <td>Meninas</td>\n",
       "      <td>NaN</td>\n",
       "      <td>NaN</td>\n",
       "    </tr>\n",
       "    <tr>\n",
       "      <th>2</th>\n",
       "      <td>Províncias e Município Neutro</td>\n",
       "      <td>Sabem ler e escrever</td>\n",
       "      <td>Analfabetos</td>\n",
       "      <td>Sabem ler e escrever</td>\n",
       "      <td>Analfabetas</td>\n",
       "      <td>Frequentam escolas</td>\n",
       "      <td>Não frequentam</td>\n",
       "      <td>Total</td>\n",
       "      <td>Frequentam escolas</td>\n",
       "      <td>Não frequentam</td>\n",
       "      <td>Total</td>\n",
       "    </tr>\n",
       "    <tr>\n",
       "      <th>3</th>\n",
       "      <td>Amazonas</td>\n",
       "      <td>6160</td>\n",
       "      <td>24823</td>\n",
       "      <td>1453</td>\n",
       "      <td>24195</td>\n",
       "      <td>824</td>\n",
       "      <td>5056</td>\n",
       "      <td>5880</td>\n",
       "      <td>371</td>\n",
       "      <td>3269</td>\n",
       "      <td>3640</td>\n",
       "    </tr>\n",
       "    <tr>\n",
       "      <th>4</th>\n",
       "      <td>Pará</td>\n",
       "      <td>39718</td>\n",
       "      <td>88871</td>\n",
       "      <td>20677</td>\n",
       "      <td>98513</td>\n",
       "      <td>5768</td>\n",
       "      <td>25753</td>\n",
       "      <td>31521</td>\n",
       "      <td>3441</td>\n",
       "      <td>25020</td>\n",
       "      <td>28461</td>\n",
       "    </tr>\n",
       "    <tr>\n",
       "      <th>5</th>\n",
       "      <td>Maranhão</td>\n",
       "      <td>44375</td>\n",
       "      <td>97567</td>\n",
       "      <td>24196</td>\n",
       "      <td>117963</td>\n",
       "      <td>8739</td>\n",
       "      <td>28142</td>\n",
       "      <td>36881</td>\n",
       "      <td>4844</td>\n",
       "      <td>29567</td>\n",
       "      <td>34411</td>\n",
       "    </tr>\n",
       "  </tbody>\n",
       "</table>\n",
       "</div>"
      ],
      "text/plain": [
       "0                            NaN                   NaN          NaN  \\\n",
       "1                            NaN                Homens          NaN   \n",
       "2  Províncias e Município Neutro  Sabem ler e escrever  Analfabetos   \n",
       "3                       Amazonas                  6160        24823   \n",
       "4                           Pará                 39718        88871   \n",
       "5                       Maranhão                 44375        97567   \n",
       "\n",
       "0                   NaN          NaN População escolar de 6 a 15 anos  \\\n",
       "1              Mulheres          NaN                          Meninos   \n",
       "2  Sabem ler e escrever  Analfabetas               Frequentam escolas   \n",
       "3                  1453        24195                              824   \n",
       "4                 20677        98513                             5768   \n",
       "5                 24196       117963                             8739   \n",
       "\n",
       "0             NaN    NaN                 NaN             NaN    NaN  \n",
       "1             NaN    NaN             Meninas             NaN    NaN  \n",
       "2  Não frequentam  Total  Frequentam escolas  Não frequentam  Total  \n",
       "3            5056   5880                 371            3269   3640  \n",
       "4           25753  31521                3441           25020  28461  \n",
       "5           28142  36881                4844           29567  34411  "
      ]
     },
     "execution_count": 449,
     "metadata": {},
     "output_type": "execute_result"
    }
   ],
   "source": [
    "instrucao_header = instrucao.iloc[0]\n",
    "instrucao.columns = instrucao_header\n",
    "instrucao = instrucao[1:]\n",
    "instrucao.head()"
   ]
  },
  {
   "cell_type": "markdown",
   "metadata": {},
   "source": [
    "### Adultos"
   ]
  },
  {
   "cell_type": "code",
   "execution_count": 450,
   "metadata": {},
   "outputs": [
    {
     "data": {
      "text/html": [
       "<div>\n",
       "<style scoped>\n",
       "    .dataframe tbody tr th:only-of-type {\n",
       "        vertical-align: middle;\n",
       "    }\n",
       "\n",
       "    .dataframe tbody tr th {\n",
       "        vertical-align: top;\n",
       "    }\n",
       "\n",
       "    .dataframe thead th {\n",
       "        text-align: right;\n",
       "    }\n",
       "</style>\n",
       "<table border=\"1\" class=\"dataframe\">\n",
       "  <thead>\n",
       "    <tr style=\"text-align: right;\">\n",
       "      <th></th>\n",
       "      <th>Unnamed: 0</th>\n",
       "      <th>Instrução</th>\n",
       "      <th>Unnamed: 27</th>\n",
       "      <th>Unnamed: 28</th>\n",
       "      <th>Unnamed: 29</th>\n",
       "    </tr>\n",
       "  </thead>\n",
       "  <tbody>\n",
       "    <tr>\n",
       "      <th>0</th>\n",
       "      <td>NaN</td>\n",
       "      <td>NaN</td>\n",
       "      <td>NaN</td>\n",
       "      <td>NaN</td>\n",
       "      <td>NaN</td>\n",
       "    </tr>\n",
       "    <tr>\n",
       "      <th>1</th>\n",
       "      <td>NaN</td>\n",
       "      <td>Homens</td>\n",
       "      <td>NaN</td>\n",
       "      <td>Mulheres</td>\n",
       "      <td>NaN</td>\n",
       "    </tr>\n",
       "    <tr>\n",
       "      <th>2</th>\n",
       "      <td>Províncias e Município Neutro</td>\n",
       "      <td>Sabem ler e escrever</td>\n",
       "      <td>Analfabetos</td>\n",
       "      <td>Sabem ler e escrever</td>\n",
       "      <td>Analfabetas</td>\n",
       "    </tr>\n",
       "    <tr>\n",
       "      <th>3</th>\n",
       "      <td>Amazonas</td>\n",
       "      <td>6160</td>\n",
       "      <td>24823</td>\n",
       "      <td>1453</td>\n",
       "      <td>24195</td>\n",
       "    </tr>\n",
       "    <tr>\n",
       "      <th>4</th>\n",
       "      <td>Pará</td>\n",
       "      <td>39718</td>\n",
       "      <td>88871</td>\n",
       "      <td>20677</td>\n",
       "      <td>98513</td>\n",
       "    </tr>\n",
       "  </tbody>\n",
       "</table>\n",
       "</div>"
      ],
      "text/plain": [
       "                      Unnamed: 0             Instrução  Unnamed: 27  \\\n",
       "0                            NaN                   NaN          NaN   \n",
       "1                            NaN                Homens          NaN   \n",
       "2  Províncias e Município Neutro  Sabem ler e escrever  Analfabetos   \n",
       "3                       Amazonas                  6160        24823   \n",
       "4                           Pará                 39718        88871   \n",
       "\n",
       "            Unnamed: 28  Unnamed: 29  \n",
       "0                   NaN          NaN  \n",
       "1              Mulheres          NaN  \n",
       "2  Sabem ler e escrever  Analfabetas  \n",
       "3                  1453        24195  \n",
       "4                 20677        98513  "
      ]
     },
     "execution_count": 450,
     "metadata": {},
     "output_type": "execute_result"
    }
   ],
   "source": [
    "instrucao_adultos = df[['Unnamed: 0','Instrução', 'Unnamed: 27', 'Unnamed: 28', 'Unnamed: 29']]\n",
    "instrucao_adultos.head()"
   ]
  },
  {
   "cell_type": "code",
   "execution_count": 451,
   "metadata": {},
   "outputs": [
    {
     "data": {
      "text/html": [
       "<div>\n",
       "<style scoped>\n",
       "    .dataframe tbody tr th:only-of-type {\n",
       "        vertical-align: middle;\n",
       "    }\n",
       "\n",
       "    .dataframe tbody tr th {\n",
       "        vertical-align: top;\n",
       "    }\n",
       "\n",
       "    .dataframe thead th {\n",
       "        text-align: right;\n",
       "    }\n",
       "</style>\n",
       "<table border=\"1\" class=\"dataframe\">\n",
       "  <thead>\n",
       "    <tr style=\"text-align: right;\">\n",
       "      <th>1</th>\n",
       "      <th>NaN</th>\n",
       "      <th>Homens</th>\n",
       "      <th>NaN</th>\n",
       "      <th>Mulheres</th>\n",
       "      <th>NaN</th>\n",
       "    </tr>\n",
       "  </thead>\n",
       "  <tbody>\n",
       "    <tr>\n",
       "      <th>2</th>\n",
       "      <td>Províncias e Município Neutro</td>\n",
       "      <td>Sabem ler e escrever</td>\n",
       "      <td>Analfabetos</td>\n",
       "      <td>Sabem ler e escrever</td>\n",
       "      <td>Analfabetas</td>\n",
       "    </tr>\n",
       "    <tr>\n",
       "      <th>3</th>\n",
       "      <td>Amazonas</td>\n",
       "      <td>6160</td>\n",
       "      <td>24823</td>\n",
       "      <td>1453</td>\n",
       "      <td>24195</td>\n",
       "    </tr>\n",
       "    <tr>\n",
       "      <th>4</th>\n",
       "      <td>Pará</td>\n",
       "      <td>39718</td>\n",
       "      <td>88871</td>\n",
       "      <td>20677</td>\n",
       "      <td>98513</td>\n",
       "    </tr>\n",
       "    <tr>\n",
       "      <th>5</th>\n",
       "      <td>Maranhão</td>\n",
       "      <td>44375</td>\n",
       "      <td>97567</td>\n",
       "      <td>24196</td>\n",
       "      <td>117963</td>\n",
       "    </tr>\n",
       "    <tr>\n",
       "      <th>6</th>\n",
       "      <td>Piauí</td>\n",
       "      <td>17677</td>\n",
       "      <td>72645</td>\n",
       "      <td>10093</td>\n",
       "      <td>78012</td>\n",
       "    </tr>\n",
       "  </tbody>\n",
       "</table>\n",
       "</div>"
      ],
      "text/plain": [
       "1                            NaN                Homens          NaN  \\\n",
       "2  Províncias e Município Neutro  Sabem ler e escrever  Analfabetos   \n",
       "3                       Amazonas                  6160        24823   \n",
       "4                           Pará                 39718        88871   \n",
       "5                       Maranhão                 44375        97567   \n",
       "6                          Piauí                 17677        72645   \n",
       "\n",
       "1              Mulheres          NaN  \n",
       "2  Sabem ler e escrever  Analfabetas  \n",
       "3                  1453        24195  \n",
       "4                 20677        98513  \n",
       "5                 24196       117963  \n",
       "6                 10093        78012  "
      ]
     },
     "execution_count": 451,
     "metadata": {},
     "output_type": "execute_result"
    }
   ],
   "source": [
    "instrucao_adultos_header = instrucao_adultos.iloc[1]\n",
    "instrucao_adultos.columns = instrucao_adultos_header\n",
    "instrucao_adultos = instrucao_adultos[2:]\n",
    "instrucao_adultos.head()"
   ]
  },
  {
   "cell_type": "markdown",
   "metadata": {},
   "source": [
    "### Jovens"
   ]
  },
  {
   "cell_type": "code",
   "execution_count": 452,
   "metadata": {},
   "outputs": [
    {
     "data": {
      "text/html": [
       "<div>\n",
       "<style scoped>\n",
       "    .dataframe tbody tr th:only-of-type {\n",
       "        vertical-align: middle;\n",
       "    }\n",
       "\n",
       "    .dataframe tbody tr th {\n",
       "        vertical-align: top;\n",
       "    }\n",
       "\n",
       "    .dataframe thead th {\n",
       "        text-align: right;\n",
       "    }\n",
       "</style>\n",
       "<table border=\"1\" class=\"dataframe\">\n",
       "  <thead>\n",
       "    <tr style=\"text-align: right;\">\n",
       "      <th></th>\n",
       "      <th>Unnamed: 0</th>\n",
       "      <th>Unnamed: 30</th>\n",
       "      <th>Unnamed: 31</th>\n",
       "      <th>Unnamed: 32</th>\n",
       "      <th>Unnamed: 33</th>\n",
       "      <th>Unnamed: 34</th>\n",
       "      <th>Unnamed: 35</th>\n",
       "    </tr>\n",
       "  </thead>\n",
       "  <tbody>\n",
       "    <tr>\n",
       "      <th>0</th>\n",
       "      <td>NaN</td>\n",
       "      <td>População escolar de 6 a 15 anos</td>\n",
       "      <td>NaN</td>\n",
       "      <td>NaN</td>\n",
       "      <td>NaN</td>\n",
       "      <td>NaN</td>\n",
       "      <td>NaN</td>\n",
       "    </tr>\n",
       "    <tr>\n",
       "      <th>1</th>\n",
       "      <td>NaN</td>\n",
       "      <td>Meninos</td>\n",
       "      <td>NaN</td>\n",
       "      <td>NaN</td>\n",
       "      <td>Meninas</td>\n",
       "      <td>NaN</td>\n",
       "      <td>NaN</td>\n",
       "    </tr>\n",
       "    <tr>\n",
       "      <th>2</th>\n",
       "      <td>Províncias e Município Neutro</td>\n",
       "      <td>Frequentam escolas</td>\n",
       "      <td>Não frequentam</td>\n",
       "      <td>Total</td>\n",
       "      <td>Frequentam escolas</td>\n",
       "      <td>Não frequentam</td>\n",
       "      <td>Total</td>\n",
       "    </tr>\n",
       "    <tr>\n",
       "      <th>3</th>\n",
       "      <td>Amazonas</td>\n",
       "      <td>824</td>\n",
       "      <td>5056</td>\n",
       "      <td>5880</td>\n",
       "      <td>371</td>\n",
       "      <td>3269</td>\n",
       "      <td>3640</td>\n",
       "    </tr>\n",
       "    <tr>\n",
       "      <th>4</th>\n",
       "      <td>Pará</td>\n",
       "      <td>5768</td>\n",
       "      <td>25753</td>\n",
       "      <td>31521</td>\n",
       "      <td>3441</td>\n",
       "      <td>25020</td>\n",
       "      <td>28461</td>\n",
       "    </tr>\n",
       "  </tbody>\n",
       "</table>\n",
       "</div>"
      ],
      "text/plain": [
       "                      Unnamed: 0                       Unnamed: 30  \\\n",
       "0                            NaN  População escolar de 6 a 15 anos   \n",
       "1                            NaN                           Meninos   \n",
       "2  Províncias e Município Neutro                Frequentam escolas   \n",
       "3                       Amazonas                               824   \n",
       "4                           Pará                              5768   \n",
       "\n",
       "      Unnamed: 31 Unnamed: 32         Unnamed: 33     Unnamed: 34 Unnamed: 35  \n",
       "0             NaN         NaN                 NaN             NaN         NaN  \n",
       "1             NaN         NaN             Meninas             NaN         NaN  \n",
       "2  Não frequentam       Total  Frequentam escolas  Não frequentam       Total  \n",
       "3            5056        5880                 371            3269        3640  \n",
       "4           25753       31521                3441           25020       28461  "
      ]
     },
     "execution_count": 452,
     "metadata": {},
     "output_type": "execute_result"
    }
   ],
   "source": [
    "instrucao_jovens = df[['Unnamed: 0', 'Unnamed: 30', 'Unnamed: 31', 'Unnamed: 32', 'Unnamed: 33', 'Unnamed: 34', 'Unnamed: 35']]\n",
    "instrucao_jovens.head()"
   ]
  },
  {
   "cell_type": "code",
   "execution_count": 453,
   "metadata": {},
   "outputs": [
    {
     "data": {
      "text/html": [
       "<div>\n",
       "<style scoped>\n",
       "    .dataframe tbody tr th:only-of-type {\n",
       "        vertical-align: middle;\n",
       "    }\n",
       "\n",
       "    .dataframe tbody tr th {\n",
       "        vertical-align: top;\n",
       "    }\n",
       "\n",
       "    .dataframe thead th {\n",
       "        text-align: right;\n",
       "    }\n",
       "</style>\n",
       "<table border=\"1\" class=\"dataframe\">\n",
       "  <thead>\n",
       "    <tr style=\"text-align: right;\">\n",
       "      <th></th>\n",
       "      <th>NaN</th>\n",
       "      <th>População escolar de 6 a 15 anos</th>\n",
       "      <th>NaN</th>\n",
       "      <th>NaN</th>\n",
       "      <th>NaN</th>\n",
       "      <th>NaN</th>\n",
       "      <th>NaN</th>\n",
       "    </tr>\n",
       "  </thead>\n",
       "  <tbody>\n",
       "    <tr>\n",
       "      <th>1</th>\n",
       "      <td>NaN</td>\n",
       "      <td>Meninos</td>\n",
       "      <td>NaN</td>\n",
       "      <td>NaN</td>\n",
       "      <td>Meninas</td>\n",
       "      <td>NaN</td>\n",
       "      <td>NaN</td>\n",
       "    </tr>\n",
       "    <tr>\n",
       "      <th>2</th>\n",
       "      <td>Províncias e Município Neutro</td>\n",
       "      <td>Frequentam escolas</td>\n",
       "      <td>Não frequentam</td>\n",
       "      <td>Total</td>\n",
       "      <td>Frequentam escolas</td>\n",
       "      <td>Não frequentam</td>\n",
       "      <td>Total</td>\n",
       "    </tr>\n",
       "    <tr>\n",
       "      <th>3</th>\n",
       "      <td>Amazonas</td>\n",
       "      <td>824</td>\n",
       "      <td>5056</td>\n",
       "      <td>5880</td>\n",
       "      <td>371</td>\n",
       "      <td>3269</td>\n",
       "      <td>3640</td>\n",
       "    </tr>\n",
       "    <tr>\n",
       "      <th>4</th>\n",
       "      <td>Pará</td>\n",
       "      <td>5768</td>\n",
       "      <td>25753</td>\n",
       "      <td>31521</td>\n",
       "      <td>3441</td>\n",
       "      <td>25020</td>\n",
       "      <td>28461</td>\n",
       "    </tr>\n",
       "    <tr>\n",
       "      <th>5</th>\n",
       "      <td>Maranhão</td>\n",
       "      <td>8739</td>\n",
       "      <td>28142</td>\n",
       "      <td>36881</td>\n",
       "      <td>4844</td>\n",
       "      <td>29567</td>\n",
       "      <td>34411</td>\n",
       "    </tr>\n",
       "  </tbody>\n",
       "</table>\n",
       "</div>"
      ],
      "text/plain": [
       "0                            NaN População escolar de 6 a 15 anos  \\\n",
       "1                            NaN                          Meninos   \n",
       "2  Províncias e Município Neutro               Frequentam escolas   \n",
       "3                       Amazonas                              824   \n",
       "4                           Pará                             5768   \n",
       "5                       Maranhão                             8739   \n",
       "\n",
       "0             NaN    NaN                 NaN             NaN    NaN  \n",
       "1             NaN    NaN             Meninas             NaN    NaN  \n",
       "2  Não frequentam  Total  Frequentam escolas  Não frequentam  Total  \n",
       "3            5056   5880                 371            3269   3640  \n",
       "4           25753  31521                3441           25020  28461  \n",
       "5           28142  36881                4844           29567  34411  "
      ]
     },
     "execution_count": 453,
     "metadata": {},
     "output_type": "execute_result"
    }
   ],
   "source": [
    "instrucao_jovens_header = instrucao_jovens.iloc[0]\n",
    "instrucao_jovens.columns = instrucao_jovens_header\n",
    "instrucao_jovens = instrucao_jovens[1:]\n",
    "instrucao_jovens.head()"
   ]
  },
  {
   "cell_type": "markdown",
   "metadata": {},
   "source": [
    "## Casas"
   ]
  },
  {
   "cell_type": "code",
   "execution_count": 454,
   "metadata": {},
   "outputs": [
    {
     "data": {
      "text/html": [
       "<div>\n",
       "<style scoped>\n",
       "    .dataframe tbody tr th:only-of-type {\n",
       "        vertical-align: middle;\n",
       "    }\n",
       "\n",
       "    .dataframe tbody tr th {\n",
       "        vertical-align: top;\n",
       "    }\n",
       "\n",
       "    .dataframe thead th {\n",
       "        text-align: right;\n",
       "    }\n",
       "</style>\n",
       "<table border=\"1\" class=\"dataframe\">\n",
       "  <thead>\n",
       "    <tr style=\"text-align: right;\">\n",
       "      <th></th>\n",
       "      <th>Unnamed: 0</th>\n",
       "      <th>Unnamed: 36</th>\n",
       "      <th>Unnamed: 37</th>\n",
       "      <th>Unnamed: 38</th>\n",
       "    </tr>\n",
       "  </thead>\n",
       "  <tbody>\n",
       "    <tr>\n",
       "      <th>0</th>\n",
       "      <td>NaN</td>\n",
       "      <td>NaN</td>\n",
       "      <td>NaN</td>\n",
       "      <td>NaN</td>\n",
       "    </tr>\n",
       "    <tr>\n",
       "      <th>1</th>\n",
       "      <td>NaN</td>\n",
       "      <td>Casas</td>\n",
       "      <td>NaN</td>\n",
       "      <td>NaN</td>\n",
       "    </tr>\n",
       "    <tr>\n",
       "      <th>2</th>\n",
       "      <td>Províncias e Município Neutro</td>\n",
       "      <td>Habitadas</td>\n",
       "      <td>Desabitadas</td>\n",
       "      <td>Total</td>\n",
       "    </tr>\n",
       "    <tr>\n",
       "      <th>3</th>\n",
       "      <td>Amazonas</td>\n",
       "      <td>7661</td>\n",
       "      <td>229</td>\n",
       "      <td>7890</td>\n",
       "    </tr>\n",
       "    <tr>\n",
       "      <th>4</th>\n",
       "      <td>Pará</td>\n",
       "      <td>38978</td>\n",
       "      <td>2077</td>\n",
       "      <td>41055</td>\n",
       "    </tr>\n",
       "  </tbody>\n",
       "</table>\n",
       "</div>"
      ],
      "text/plain": [
       "                      Unnamed: 0 Unnamed: 36  Unnamed: 37 Unnamed: 38\n",
       "0                            NaN         NaN          NaN         NaN\n",
       "1                            NaN       Casas          NaN         NaN\n",
       "2  Províncias e Município Neutro   Habitadas  Desabitadas       Total\n",
       "3                       Amazonas        7661          229        7890\n",
       "4                           Pará       38978         2077       41055"
      ]
     },
     "execution_count": 454,
     "metadata": {},
     "output_type": "execute_result"
    }
   ],
   "source": [
    "casas = df[['Unnamed: 0','Unnamed: 36', 'Unnamed: 37', 'Unnamed: 38']]\n",
    "casas.head()"
   ]
  },
  {
   "cell_type": "code",
   "execution_count": 455,
   "metadata": {},
   "outputs": [
    {
     "data": {
      "text/html": [
       "<div>\n",
       "<style scoped>\n",
       "    .dataframe tbody tr th:only-of-type {\n",
       "        vertical-align: middle;\n",
       "    }\n",
       "\n",
       "    .dataframe tbody tr th {\n",
       "        vertical-align: top;\n",
       "    }\n",
       "\n",
       "    .dataframe thead th {\n",
       "        text-align: right;\n",
       "    }\n",
       "</style>\n",
       "<table border=\"1\" class=\"dataframe\">\n",
       "  <thead>\n",
       "    <tr style=\"text-align: right;\">\n",
       "      <th>1</th>\n",
       "      <th>NaN</th>\n",
       "      <th>Casas</th>\n",
       "      <th>NaN</th>\n",
       "      <th>NaN</th>\n",
       "    </tr>\n",
       "  </thead>\n",
       "  <tbody>\n",
       "    <tr>\n",
       "      <th>2</th>\n",
       "      <td>Províncias e Município Neutro</td>\n",
       "      <td>Habitadas</td>\n",
       "      <td>Desabitadas</td>\n",
       "      <td>Total</td>\n",
       "    </tr>\n",
       "    <tr>\n",
       "      <th>3</th>\n",
       "      <td>Amazonas</td>\n",
       "      <td>7661</td>\n",
       "      <td>229</td>\n",
       "      <td>7890</td>\n",
       "    </tr>\n",
       "    <tr>\n",
       "      <th>4</th>\n",
       "      <td>Pará</td>\n",
       "      <td>38978</td>\n",
       "      <td>2077</td>\n",
       "      <td>41055</td>\n",
       "    </tr>\n",
       "    <tr>\n",
       "      <th>5</th>\n",
       "      <td>Maranhão</td>\n",
       "      <td>47166</td>\n",
       "      <td>1405</td>\n",
       "      <td>48571</td>\n",
       "    </tr>\n",
       "    <tr>\n",
       "      <th>6</th>\n",
       "      <td>Piauí</td>\n",
       "      <td>29208</td>\n",
       "      <td>223</td>\n",
       "      <td>29431</td>\n",
       "    </tr>\n",
       "  </tbody>\n",
       "</table>\n",
       "</div>"
      ],
      "text/plain": [
       "1                            NaN      Casas          NaN    NaN\n",
       "2  Províncias e Município Neutro  Habitadas  Desabitadas  Total\n",
       "3                       Amazonas       7661          229   7890\n",
       "4                           Pará      38978         2077  41055\n",
       "5                       Maranhão      47166         1405  48571\n",
       "6                          Piauí      29208          223  29431"
      ]
     },
     "execution_count": 455,
     "metadata": {},
     "output_type": "execute_result"
    }
   ],
   "source": [
    "casas_header = casas.iloc[1]\n",
    "casas.columns = casas_header\n",
    "casas = casas[2:]\n",
    "casas.head()"
   ]
  },
  {
   "cell_type": "markdown",
   "metadata": {},
   "source": [
    "## Fogos"
   ]
  },
  {
   "cell_type": "code",
   "execution_count": 456,
   "metadata": {},
   "outputs": [
    {
     "data": {
      "text/html": [
       "<div>\n",
       "<style scoped>\n",
       "    .dataframe tbody tr th:only-of-type {\n",
       "        vertical-align: middle;\n",
       "    }\n",
       "\n",
       "    .dataframe tbody tr th {\n",
       "        vertical-align: top;\n",
       "    }\n",
       "\n",
       "    .dataframe thead th {\n",
       "        text-align: right;\n",
       "    }\n",
       "</style>\n",
       "<table border=\"1\" class=\"dataframe\">\n",
       "  <thead>\n",
       "    <tr style=\"text-align: right;\">\n",
       "      <th></th>\n",
       "      <th>Unnamed: 0</th>\n",
       "      <th>Unnamed: 39</th>\n",
       "    </tr>\n",
       "  </thead>\n",
       "  <tbody>\n",
       "    <tr>\n",
       "      <th>0</th>\n",
       "      <td>NaN</td>\n",
       "      <td>NaN</td>\n",
       "    </tr>\n",
       "    <tr>\n",
       "      <th>1</th>\n",
       "      <td>NaN</td>\n",
       "      <td>NaN</td>\n",
       "    </tr>\n",
       "    <tr>\n",
       "      <th>2</th>\n",
       "      <td>Províncias e Município Neutro</td>\n",
       "      <td>Número de fogos</td>\n",
       "    </tr>\n",
       "    <tr>\n",
       "      <th>3</th>\n",
       "      <td>Amazonas</td>\n",
       "      <td>7811</td>\n",
       "    </tr>\n",
       "    <tr>\n",
       "      <th>4</th>\n",
       "      <td>Pará</td>\n",
       "      <td>39521</td>\n",
       "    </tr>\n",
       "  </tbody>\n",
       "</table>\n",
       "</div>"
      ],
      "text/plain": [
       "                      Unnamed: 0      Unnamed: 39\n",
       "0                            NaN              NaN\n",
       "1                            NaN              NaN\n",
       "2  Províncias e Município Neutro  Número de fogos\n",
       "3                       Amazonas             7811\n",
       "4                           Pará            39521"
      ]
     },
     "execution_count": 456,
     "metadata": {},
     "output_type": "execute_result"
    }
   ],
   "source": [
    "fogos = df[['Unnamed: 0', 'Unnamed: 39']]\n",
    "fogos.head()"
   ]
  },
  {
   "cell_type": "code",
   "execution_count": 457,
   "metadata": {},
   "outputs": [
    {
     "data": {
      "text/html": [
       "<div>\n",
       "<style scoped>\n",
       "    .dataframe tbody tr th:only-of-type {\n",
       "        vertical-align: middle;\n",
       "    }\n",
       "\n",
       "    .dataframe tbody tr th {\n",
       "        vertical-align: top;\n",
       "    }\n",
       "\n",
       "    .dataframe thead th {\n",
       "        text-align: right;\n",
       "    }\n",
       "</style>\n",
       "<table border=\"1\" class=\"dataframe\">\n",
       "  <thead>\n",
       "    <tr style=\"text-align: right;\">\n",
       "      <th>2</th>\n",
       "      <th>Províncias e Município Neutro</th>\n",
       "      <th>Número de fogos</th>\n",
       "    </tr>\n",
       "  </thead>\n",
       "  <tbody>\n",
       "    <tr>\n",
       "      <th>3</th>\n",
       "      <td>Amazonas</td>\n",
       "      <td>7811</td>\n",
       "    </tr>\n",
       "    <tr>\n",
       "      <th>4</th>\n",
       "      <td>Pará</td>\n",
       "      <td>39521</td>\n",
       "    </tr>\n",
       "    <tr>\n",
       "      <th>5</th>\n",
       "      <td>Maranhão</td>\n",
       "      <td>49282</td>\n",
       "    </tr>\n",
       "    <tr>\n",
       "      <th>6</th>\n",
       "      <td>Piauí</td>\n",
       "      <td>30770</td>\n",
       "    </tr>\n",
       "    <tr>\n",
       "      <th>7</th>\n",
       "      <td>Ceará</td>\n",
       "      <td>100207</td>\n",
       "    </tr>\n",
       "  </tbody>\n",
       "</table>\n",
       "</div>"
      ],
      "text/plain": [
       "2 Províncias e Município Neutro Número de fogos\n",
       "3                      Amazonas            7811\n",
       "4                          Pará           39521\n",
       "5                      Maranhão           49282\n",
       "6                         Piauí           30770\n",
       "7                         Ceará          100207"
      ]
     },
     "execution_count": 457,
     "metadata": {},
     "output_type": "execute_result"
    }
   ],
   "source": [
    "fogos_header = fogos.iloc[2]\n",
    "fogos.columns = fogos_header\n",
    "fogos = fogos[3:]\n",
    "fogos.head()"
   ]
  },
  {
   "cell_type": "markdown",
   "metadata": {},
   "source": [
    "# Parte 2: Pooulação total, livre e escrava"
   ]
  },
  {
   "cell_type": "code",
   "execution_count": 458,
   "metadata": {},
   "outputs": [
    {
     "data": {
      "text/html": [
       "<div>\n",
       "<style scoped>\n",
       "    .dataframe tbody tr th:only-of-type {\n",
       "        vertical-align: middle;\n",
       "    }\n",
       "\n",
       "    .dataframe tbody tr th {\n",
       "        vertical-align: top;\n",
       "    }\n",
       "\n",
       "    .dataframe thead th {\n",
       "        text-align: right;\n",
       "    }\n",
       "</style>\n",
       "<table border=\"1\" class=\"dataframe\">\n",
       "  <thead>\n",
       "    <tr style=\"text-align: right;\">\n",
       "      <th></th>\n",
       "      <th>Recapitulação</th>\n",
       "      <th>Unnamed: 1</th>\n",
       "      <th>Unnamed: 2</th>\n",
       "      <th>Unnamed: 3</th>\n",
       "      <th>Unnamed: 4</th>\n",
       "      <th>Unnamed: 5</th>\n",
       "      <th>Unnamed: 6</th>\n",
       "      <th>Unnamed: 7</th>\n",
       "      <th>Unnamed: 8</th>\n",
       "      <th>Unnamed: 9</th>\n",
       "      <th>...</th>\n",
       "      <th>Unnamed: 30</th>\n",
       "      <th>Unnamed: 31</th>\n",
       "      <th>Unnamed: 32</th>\n",
       "      <th>Unnamed: 33</th>\n",
       "      <th>Unnamed: 34</th>\n",
       "      <th>Unnamed: 35</th>\n",
       "      <th>Unnamed: 36</th>\n",
       "      <th>Unnamed: 37</th>\n",
       "      <th>Unnamed: 38</th>\n",
       "      <th>Unnamed: 39</th>\n",
       "    </tr>\n",
       "  </thead>\n",
       "  <tbody>\n",
       "    <tr>\n",
       "      <th>0</th>\n",
       "      <td>População livre</td>\n",
       "      <td>4318699</td>\n",
       "      <td>4100973</td>\n",
       "      <td>8419672</td>\n",
       "      <td>2975446</td>\n",
       "      <td>1165866</td>\n",
       "      <td>177387</td>\n",
       "      <td>2752582</td>\n",
       "      <td>1121000</td>\n",
       "      <td>227391</td>\n",
       "      <td>...</td>\n",
       "      <td>155651</td>\n",
       "      <td>786131</td>\n",
       "      <td>941782</td>\n",
       "      <td>165098</td>\n",
       "      <td>795574</td>\n",
       "      <td>960672</td>\n",
       "      <td>1296060</td>\n",
       "      <td>34150</td>\n",
       "      <td>1330210</td>\n",
       "      <td>1332274</td>\n",
       "    </tr>\n",
       "    <tr>\n",
       "      <th>1</th>\n",
       "      <td>População escrava</td>\n",
       "      <td>805170</td>\n",
       "      <td>705636</td>\n",
       "      <td>1510806</td>\n",
       "      <td>711869</td>\n",
       "      <td>73079</td>\n",
       "      <td>20222</td>\n",
       "      <td>622804</td>\n",
       "      <td>63046</td>\n",
       "      <td>19816</td>\n",
       "      <td>...</td>\n",
       "      <td>155651</td>\n",
       "      <td>786131</td>\n",
       "      <td>941782</td>\n",
       "      <td>165098</td>\n",
       "      <td>795574</td>\n",
       "      <td>960672</td>\n",
       "      <td>1296060</td>\n",
       "      <td>34150</td>\n",
       "      <td>1330210</td>\n",
       "      <td>1332274</td>\n",
       "    </tr>\n",
       "    <tr>\n",
       "      <th>2</th>\n",
       "      <td>Total</td>\n",
       "      <td>512389</td>\n",
       "      <td>4806609</td>\n",
       "      <td>9930478</td>\n",
       "      <td>3687315</td>\n",
       "      <td>1238945</td>\n",
       "      <td>197609</td>\n",
       "      <td>3375386</td>\n",
       "      <td>1184016</td>\n",
       "      <td>247207</td>\n",
       "      <td>...</td>\n",
       "      <td>155651</td>\n",
       "      <td>786131</td>\n",
       "      <td>941782</td>\n",
       "      <td>165098</td>\n",
       "      <td>1332274</td>\n",
       "      <td>960672</td>\n",
       "      <td>1296060</td>\n",
       "      <td>34150</td>\n",
       "      <td>1330210</td>\n",
       "      <td>1332274</td>\n",
       "    </tr>\n",
       "  </tbody>\n",
       "</table>\n",
       "<p>3 rows × 40 columns</p>\n",
       "</div>"
      ],
      "text/plain": [
       "       Recapitulação  Unnamed: 1  Unnamed: 2  Unnamed: 3  Unnamed: 4  \\\n",
       "0    População livre     4318699     4100973     8419672     2975446   \n",
       "1  População escrava      805170      705636     1510806      711869   \n",
       "2              Total      512389     4806609     9930478     3687315   \n",
       "\n",
       "   Unnamed: 5  Unnamed: 6  Unnamed: 7  Unnamed: 8  Unnamed: 9  ...  \\\n",
       "0     1165866      177387     2752582     1121000      227391  ...   \n",
       "1       73079       20222      622804       63046       19816  ...   \n",
       "2     1238945      197609     3375386     1184016      247207  ...   \n",
       "\n",
       "   Unnamed: 30  Unnamed: 31  Unnamed: 32  Unnamed: 33  Unnamed: 34  \\\n",
       "0       155651       786131       941782       165098       795574   \n",
       "1       155651       786131       941782       165098       795574   \n",
       "2       155651       786131       941782       165098      1332274   \n",
       "\n",
       "   Unnamed: 35  Unnamed: 36  Unnamed: 37  Unnamed: 38  Unnamed: 39  \n",
       "0       960672      1296060        34150      1330210      1332274  \n",
       "1       960672      1296060        34150      1330210      1332274  \n",
       "2       960672      1296060        34150      1330210      1332274  \n",
       "\n",
       "[3 rows x 40 columns]"
      ]
     },
     "execution_count": 458,
     "metadata": {},
     "output_type": "execute_result"
    }
   ],
   "source": [
    "filename = \"censo_1872-003_p2.csv\"\n",
    "path = pf.find_file(filename)\n",
    "df = pd.read_csv(path)\n",
    "\n",
    "df.head(10)"
   ]
  },
  {
   "cell_type": "code",
   "execution_count": 459,
   "metadata": {},
   "outputs": [
    {
     "name": "stdout",
     "output_type": "stream",
     "text": [
      "Index(['Recapitulação', 'Unnamed: 1', 'Unnamed: 2', 'Unnamed: 3', 'Unnamed: 4',\n",
      "       'Unnamed: 5', 'Unnamed: 6', 'Unnamed: 7', 'Unnamed: 8', 'Unnamed: 9',\n",
      "       'Unnamed: 10', 'Unnamed: 11', 'Unnamed: 12', 'Unnamed: 13',\n",
      "       'Unnamed: 14', 'Unnamed: 15', 'Unnamed: 16', 'Unnamed: 17',\n",
      "       'Unnamed: 18', 'Unnamed: 19', 'Unnamed: 20', 'Unnamed: 21',\n",
      "       'Unnamed: 22', 'Unnamed: 23', 'Unnamed: 24', 'Unnamed: 25',\n",
      "       'Unnamed: 26', 'Unnamed: 27', 'Unnamed: 28', 'Unnamed: 29',\n",
      "       'Unnamed: 30', 'Unnamed: 31', 'Unnamed: 32', 'Unnamed: 33',\n",
      "       'Unnamed: 34', 'Unnamed: 35', 'Unnamed: 36', 'Unnamed: 37',\n",
      "       'Unnamed: 38', 'Unnamed: 39'],\n",
      "      dtype='object')\n"
     ]
    }
   ],
   "source": [
    "print(df.columns)"
   ]
  },
  {
   "cell_type": "markdown",
   "metadata": {},
   "source": [
    "## Sexos"
   ]
  },
  {
   "cell_type": "code",
   "execution_count": 460,
   "metadata": {},
   "outputs": [
    {
     "data": {
      "text/html": [
       "<div>\n",
       "<style scoped>\n",
       "    .dataframe tbody tr th:only-of-type {\n",
       "        vertical-align: middle;\n",
       "    }\n",
       "\n",
       "    .dataframe tbody tr th {\n",
       "        vertical-align: top;\n",
       "    }\n",
       "\n",
       "    .dataframe thead th {\n",
       "        text-align: right;\n",
       "    }\n",
       "</style>\n",
       "<table border=\"1\" class=\"dataframe\">\n",
       "  <thead>\n",
       "    <tr style=\"text-align: right;\">\n",
       "      <th></th>\n",
       "      <th>Recapitulação</th>\n",
       "      <th>Homens</th>\n",
       "      <th>Mulheres</th>\n",
       "      <th>Total</th>\n",
       "    </tr>\n",
       "  </thead>\n",
       "  <tbody>\n",
       "    <tr>\n",
       "      <th>0</th>\n",
       "      <td>População livre</td>\n",
       "      <td>4318699</td>\n",
       "      <td>4100973</td>\n",
       "      <td>8419672</td>\n",
       "    </tr>\n",
       "    <tr>\n",
       "      <th>1</th>\n",
       "      <td>População escrava</td>\n",
       "      <td>805170</td>\n",
       "      <td>705636</td>\n",
       "      <td>1510806</td>\n",
       "    </tr>\n",
       "    <tr>\n",
       "      <th>2</th>\n",
       "      <td>Total</td>\n",
       "      <td>512389</td>\n",
       "      <td>4806609</td>\n",
       "      <td>9930478</td>\n",
       "    </tr>\n",
       "  </tbody>\n",
       "</table>\n",
       "</div>"
      ],
      "text/plain": [
       "       Recapitulação   Homens  Mulheres    Total\n",
       "0    População livre  4318699   4100973  8419672\n",
       "1  População escrava   805170    705636  1510806\n",
       "2              Total   512389   4806609  9930478"
      ]
     },
     "execution_count": 460,
     "metadata": {},
     "output_type": "execute_result"
    }
   ],
   "source": [
    "sexos2 = df[['Recapitulação','Unnamed: 1', 'Unnamed: 2', 'Unnamed: 3']]\n",
    "sexos2 = sexos2.rename(columns={'Unnamed: 1': 'Homens', 'Unnamed: 2': 'Mulheres', 'Unnamed: 3': 'Total'})\n",
    "sexos2.head()"
   ]
  },
  {
   "cell_type": "markdown",
   "metadata": {},
   "source": [
    "## Estados civis"
   ]
  },
  {
   "cell_type": "code",
   "execution_count": 461,
   "metadata": {},
   "outputs": [
    {
     "data": {
      "text/html": [
       "<div>\n",
       "<style scoped>\n",
       "    .dataframe tbody tr th:only-of-type {\n",
       "        vertical-align: middle;\n",
       "    }\n",
       "\n",
       "    .dataframe tbody tr th {\n",
       "        vertical-align: top;\n",
       "    }\n",
       "\n",
       "    .dataframe thead th {\n",
       "        text-align: right;\n",
       "    }\n",
       "</style>\n",
       "<table border=\"1\" class=\"dataframe\">\n",
       "  <thead>\n",
       "    <tr style=\"text-align: right;\">\n",
       "      <th></th>\n",
       "      <th>Recapitulação</th>\n",
       "      <th>Solteiros</th>\n",
       "      <th>Casados</th>\n",
       "      <th>Viúvos</th>\n",
       "      <th>Solteiras</th>\n",
       "      <th>Casadas</th>\n",
       "      <th>Viúvas</th>\n",
       "    </tr>\n",
       "  </thead>\n",
       "  <tbody>\n",
       "    <tr>\n",
       "      <th>0</th>\n",
       "      <td>População livre</td>\n",
       "      <td>2975446</td>\n",
       "      <td>1165866</td>\n",
       "      <td>177387</td>\n",
       "      <td>2752582</td>\n",
       "      <td>1121000</td>\n",
       "      <td>227391</td>\n",
       "    </tr>\n",
       "    <tr>\n",
       "      <th>1</th>\n",
       "      <td>População escrava</td>\n",
       "      <td>711869</td>\n",
       "      <td>73079</td>\n",
       "      <td>20222</td>\n",
       "      <td>622804</td>\n",
       "      <td>63046</td>\n",
       "      <td>19816</td>\n",
       "    </tr>\n",
       "    <tr>\n",
       "      <th>2</th>\n",
       "      <td>Total</td>\n",
       "      <td>3687315</td>\n",
       "      <td>1238945</td>\n",
       "      <td>197609</td>\n",
       "      <td>3375386</td>\n",
       "      <td>1184016</td>\n",
       "      <td>247207</td>\n",
       "    </tr>\n",
       "  </tbody>\n",
       "</table>\n",
       "</div>"
      ],
      "text/plain": [
       "       Recapitulação  Solteiros  Casados  Viúvos  Solteiras  Casadas  Viúvas\n",
       "0    População livre    2975446  1165866  177387    2752582  1121000  227391\n",
       "1  População escrava     711869    73079   20222     622804    63046   19816\n",
       "2              Total    3687315  1238945  197609    3375386  1184016  247207"
      ]
     },
     "execution_count": 461,
     "metadata": {},
     "output_type": "execute_result"
    }
   ],
   "source": [
    "estados_civis2 = df[['Recapitulação','Unnamed: 4', 'Unnamed: 5', 'Unnamed: 6', 'Unnamed: 7', 'Unnamed: 8', 'Unnamed: 9']]\n",
    "estados_civis2 = estados_civis2.rename(columns={'Unnamed: 4': 'Solteiros', 'Unnamed: 5': 'Casados', 'Unnamed: 6': 'Viúvos', 'Unnamed: 7': 'Solteiras', 'Unnamed: 8': 'Casadas', 'Unnamed: 9': 'Viúvas'})\n",
    "estados_civis2.head()"
   ]
  },
  {
   "cell_type": "markdown",
   "metadata": {},
   "source": [
    "## Raças"
   ]
  },
  {
   "cell_type": "code",
   "execution_count": 462,
   "metadata": {},
   "outputs": [
    {
     "data": {
      "text/html": [
       "<div>\n",
       "<style scoped>\n",
       "    .dataframe tbody tr th:only-of-type {\n",
       "        vertical-align: middle;\n",
       "    }\n",
       "\n",
       "    .dataframe tbody tr th {\n",
       "        vertical-align: top;\n",
       "    }\n",
       "\n",
       "    .dataframe thead th {\n",
       "        text-align: right;\n",
       "    }\n",
       "</style>\n",
       "<table border=\"1\" class=\"dataframe\">\n",
       "  <thead>\n",
       "    <tr style=\"text-align: right;\">\n",
       "      <th></th>\n",
       "      <th>Recapitulação</th>\n",
       "      <th>Brancos</th>\n",
       "      <th>Pardos</th>\n",
       "      <th>Pretos</th>\n",
       "      <th>Caboclos</th>\n",
       "      <th>Brancas</th>\n",
       "      <th>Pardas</th>\n",
       "      <th>Pretas</th>\n",
       "      <th>Caboclas</th>\n",
       "    </tr>\n",
       "  </thead>\n",
       "  <tbody>\n",
       "    <tr>\n",
       "      <th>0</th>\n",
       "      <td>População livre</td>\n",
       "      <td>1971772</td>\n",
       "      <td>1673971</td>\n",
       "      <td>472008</td>\n",
       "      <td>200948</td>\n",
       "      <td>1815517</td>\n",
       "      <td>1650307</td>\n",
       "      <td>449142</td>\n",
       "      <td>186007</td>\n",
       "    </tr>\n",
       "    <tr>\n",
       "      <th>1</th>\n",
       "      <td>População escrava</td>\n",
       "      <td>0</td>\n",
       "      <td>252824</td>\n",
       "      <td>552346</td>\n",
       "      <td>0</td>\n",
       "      <td>0</td>\n",
       "      <td>224680</td>\n",
       "      <td>480956</td>\n",
       "      <td>0</td>\n",
       "    </tr>\n",
       "    <tr>\n",
       "      <th>2</th>\n",
       "      <td>Total</td>\n",
       "      <td>1971772</td>\n",
       "      <td>1926795</td>\n",
       "      <td>1024354</td>\n",
       "      <td>200948</td>\n",
       "      <td>1815517</td>\n",
       "      <td>1874987</td>\n",
       "      <td>930098</td>\n",
       "      <td>186007</td>\n",
       "    </tr>\n",
       "  </tbody>\n",
       "</table>\n",
       "</div>"
      ],
      "text/plain": [
       "       Recapitulação  Brancos   Pardos   Pretos  Caboclos  Brancas   Pardas  \\\n",
       "0    População livre  1971772  1673971   472008    200948  1815517  1650307   \n",
       "1  População escrava        0   252824   552346         0        0   224680   \n",
       "2              Total  1971772  1926795  1024354    200948  1815517  1874987   \n",
       "\n",
       "   Pretas  Caboclas  \n",
       "0  449142    186007  \n",
       "1  480956         0  \n",
       "2  930098    186007  "
      ]
     },
     "execution_count": 462,
     "metadata": {},
     "output_type": "execute_result"
    }
   ],
   "source": [
    "racas2 = df[['Recapitulação','Unnamed: 10', 'Unnamed: 11', 'Unnamed: 12', 'Unnamed: 13', 'Unnamed: 14', 'Unnamed: 15', 'Unnamed: 16', 'Unnamed: 17']]\n",
    "racas2 = racas2.rename(columns={'Unnamed: 10': 'Brancos', 'Unnamed: 11': 'Pardos', 'Unnamed: 12': 'Pretos', 'Unnamed: 13': 'Caboclos', 'Unnamed: 14': 'Brancas', 'Unnamed: 15': 'Pardas', 'Unnamed: 16': 'Pretas', 'Unnamed: 17': 'Caboclas'})\n",
    "racas2.head()"
   ]
  },
  {
   "cell_type": "markdown",
   "metadata": {},
   "source": [
    "## Religião"
   ]
  },
  {
   "cell_type": "code",
   "execution_count": 463,
   "metadata": {},
   "outputs": [
    {
     "data": {
      "text/html": [
       "<div>\n",
       "<style scoped>\n",
       "    .dataframe tbody tr th:only-of-type {\n",
       "        vertical-align: middle;\n",
       "    }\n",
       "\n",
       "    .dataframe tbody tr th {\n",
       "        vertical-align: top;\n",
       "    }\n",
       "\n",
       "    .dataframe thead th {\n",
       "        text-align: right;\n",
       "    }\n",
       "</style>\n",
       "<table border=\"1\" class=\"dataframe\">\n",
       "  <thead>\n",
       "    <tr style=\"text-align: right;\">\n",
       "      <th></th>\n",
       "      <th>Recapitulação</th>\n",
       "      <th>Católicos</th>\n",
       "      <th>Acatólicos</th>\n",
       "      <th>Católicas</th>\n",
       "      <th>Acatólicas</th>\n",
       "    </tr>\n",
       "  </thead>\n",
       "  <tbody>\n",
       "    <tr>\n",
       "      <th>0</th>\n",
       "      <td>População livre</td>\n",
       "      <td>4302386</td>\n",
       "      <td>16313</td>\n",
       "      <td>4089520</td>\n",
       "      <td>11453</td>\n",
       "    </tr>\n",
       "    <tr>\n",
       "      <th>1</th>\n",
       "      <td>População escrava</td>\n",
       "      <td>895170</td>\n",
       "      <td>0</td>\n",
       "      <td>705636</td>\n",
       "      <td>0</td>\n",
       "    </tr>\n",
       "    <tr>\n",
       "      <th>2</th>\n",
       "      <td>Total</td>\n",
       "      <td>5107556</td>\n",
       "      <td>16313</td>\n",
       "      <td>4795156</td>\n",
       "      <td>11453</td>\n",
       "    </tr>\n",
       "  </tbody>\n",
       "</table>\n",
       "</div>"
      ],
      "text/plain": [
       "       Recapitulação  Católicos  Acatólicos  Católicas  Acatólicas\n",
       "0    População livre    4302386       16313    4089520       11453\n",
       "1  População escrava     895170           0     705636           0\n",
       "2              Total    5107556       16313    4795156       11453"
      ]
     },
     "execution_count": 463,
     "metadata": {},
     "output_type": "execute_result"
    }
   ],
   "source": [
    "religiao2 = df[['Recapitulação','Unnamed: 18', 'Unnamed: 19', 'Unnamed: 20', 'Unnamed: 21']]\n",
    "religiao2 = religiao2.rename(columns={'Unnamed: 18': 'Católicos', 'Unnamed: 19': 'Acatólicos', 'Unnamed: 20': 'Católicas', 'Unnamed: 21': 'Acatólicas'})\n",
    "religiao2.head()"
   ]
  },
  {
   "cell_type": "markdown",
   "metadata": {},
   "source": [
    "## Nacionalidade"
   ]
  },
  {
   "cell_type": "code",
   "execution_count": 464,
   "metadata": {},
   "outputs": [
    {
     "data": {
      "text/html": [
       "<div>\n",
       "<style scoped>\n",
       "    .dataframe tbody tr th:only-of-type {\n",
       "        vertical-align: middle;\n",
       "    }\n",
       "\n",
       "    .dataframe tbody tr th {\n",
       "        vertical-align: top;\n",
       "    }\n",
       "\n",
       "    .dataframe thead th {\n",
       "        text-align: right;\n",
       "    }\n",
       "</style>\n",
       "<table border=\"1\" class=\"dataframe\">\n",
       "  <thead>\n",
       "    <tr style=\"text-align: right;\">\n",
       "      <th></th>\n",
       "      <th>Recapitulação</th>\n",
       "      <th>Brasileiros</th>\n",
       "      <th>Estrangeiros</th>\n",
       "      <th>Brasileiras</th>\n",
       "      <th>Estrangeiras</th>\n",
       "    </tr>\n",
       "  </thead>\n",
       "  <tbody>\n",
       "    <tr>\n",
       "      <th>0</th>\n",
       "      <td>População livre</td>\n",
       "      <td>4139362</td>\n",
       "      <td>179337</td>\n",
       "      <td>4036829</td>\n",
       "      <td>64144</td>\n",
       "    </tr>\n",
       "    <tr>\n",
       "      <th>1</th>\n",
       "      <td>População escrava</td>\n",
       "      <td>719630</td>\n",
       "      <td>35540</td>\n",
       "      <td>352616</td>\n",
       "      <td>53020</td>\n",
       "    </tr>\n",
       "    <tr>\n",
       "      <th>2</th>\n",
       "      <td>Total</td>\n",
       "      <td>4853992</td>\n",
       "      <td>264877</td>\n",
       "      <td>4689945</td>\n",
       "      <td>117164</td>\n",
       "    </tr>\n",
       "  </tbody>\n",
       "</table>\n",
       "</div>"
      ],
      "text/plain": [
       "       Recapitulação  Brasileiros  Estrangeiros  Brasileiras  Estrangeiras\n",
       "0    População livre      4139362        179337      4036829         64144\n",
       "1  População escrava       719630         35540       352616         53020\n",
       "2              Total      4853992        264877      4689945        117164"
      ]
     },
     "execution_count": 464,
     "metadata": {},
     "output_type": "execute_result"
    }
   ],
   "source": [
    "nacionalidade2 = df[['Recapitulação','Unnamed: 22', 'Unnamed: 23', 'Unnamed: 24', 'Unnamed: 25']]\n",
    "nacionalidade2 = nacionalidade2.rename(columns={'Unnamed: 22': 'Brasileiros', 'Unnamed: 23': 'Estrangeiros', 'Unnamed: 24': 'Brasileiras', 'Unnamed: 25': 'Estrangeiras'})\n",
    "nacionalidade2.head()"
   ]
  },
  {
   "cell_type": "markdown",
   "metadata": {},
   "source": [
    "## Instrução"
   ]
  },
  {
   "cell_type": "code",
   "execution_count": 465,
   "metadata": {},
   "outputs": [
    {
     "data": {
      "text/html": [
       "<div>\n",
       "<style scoped>\n",
       "    .dataframe tbody tr th:only-of-type {\n",
       "        vertical-align: middle;\n",
       "    }\n",
       "\n",
       "    .dataframe tbody tr th {\n",
       "        vertical-align: top;\n",
       "    }\n",
       "\n",
       "    .dataframe thead th {\n",
       "        text-align: right;\n",
       "    }\n",
       "</style>\n",
       "<table border=\"1\" class=\"dataframe\">\n",
       "  <thead>\n",
       "    <tr style=\"text-align: right;\">\n",
       "      <th></th>\n",
       "      <th>Recapitulação</th>\n",
       "      <th>Sabem ler e escrever</th>\n",
       "      <th>Analfabetos</th>\n",
       "      <th>Sabem ler e escrever</th>\n",
       "      <th>Analfabetas</th>\n",
       "      <th>Frequentam escolas</th>\n",
       "      <th>Não frequentam</th>\n",
       "      <th>Total</th>\n",
       "      <th>Frequentam escolas</th>\n",
       "      <th>Não frequentam</th>\n",
       "      <th>Total</th>\n",
       "    </tr>\n",
       "  </thead>\n",
       "  <tbody>\n",
       "    <tr>\n",
       "      <th>0</th>\n",
       "      <td>População livre</td>\n",
       "      <td>1012097</td>\n",
       "      <td>3306602</td>\n",
       "      <td>550981</td>\n",
       "      <td>3549992</td>\n",
       "      <td>155651</td>\n",
       "      <td>786131</td>\n",
       "      <td>941782</td>\n",
       "      <td>165098</td>\n",
       "      <td>795574</td>\n",
       "      <td>960672</td>\n",
       "    </tr>\n",
       "    <tr>\n",
       "      <th>1</th>\n",
       "      <td>População escrava</td>\n",
       "      <td>958</td>\n",
       "      <td>804212</td>\n",
       "      <td>445</td>\n",
       "      <td>705191</td>\n",
       "      <td>155651</td>\n",
       "      <td>786131</td>\n",
       "      <td>941782</td>\n",
       "      <td>165098</td>\n",
       "      <td>795574</td>\n",
       "      <td>960672</td>\n",
       "    </tr>\n",
       "    <tr>\n",
       "      <th>2</th>\n",
       "      <td>Total</td>\n",
       "      <td>1013055</td>\n",
       "      <td>4110814</td>\n",
       "      <td>551426</td>\n",
       "      <td>4255183</td>\n",
       "      <td>155651</td>\n",
       "      <td>786131</td>\n",
       "      <td>941782</td>\n",
       "      <td>165098</td>\n",
       "      <td>1332274</td>\n",
       "      <td>960672</td>\n",
       "    </tr>\n",
       "  </tbody>\n",
       "</table>\n",
       "</div>"
      ],
      "text/plain": [
       "       Recapitulação  Sabem ler e escrever  Analfabetos  Sabem ler e escrever  \\\n",
       "0    População livre               1012097      3306602                550981   \n",
       "1  População escrava                   958       804212                   445   \n",
       "2              Total               1013055      4110814                551426   \n",
       "\n",
       "   Analfabetas  Frequentam escolas  Não frequentam   Total  \\\n",
       "0      3549992              155651          786131  941782   \n",
       "1       705191              155651          786131  941782   \n",
       "2      4255183              155651          786131  941782   \n",
       "\n",
       "   Frequentam escolas  Não frequentam   Total  \n",
       "0              165098          795574  960672  \n",
       "1              165098          795574  960672  \n",
       "2              165098         1332274  960672  "
      ]
     },
     "execution_count": 465,
     "metadata": {},
     "output_type": "execute_result"
    }
   ],
   "source": [
    "instrucao2 = df[['Recapitulação','Unnamed: 26', 'Unnamed: 27', 'Unnamed: 28', 'Unnamed: 29', 'Unnamed: 30', 'Unnamed: 31', 'Unnamed: 32', 'Unnamed: 33', 'Unnamed: 34', 'Unnamed: 35']]\n",
    "instrucao2 = instrucao2.rename(columns={'Unnamed: 26': 'Sabem ler e escrever', 'Unnamed: 27': 'Analfabetos', 'Unnamed: 28': 'Sabem ler e escrever', 'Unnamed: 29': 'Analfabetas', 'Unnamed: 30': 'Frequentam escolas', 'Unnamed: 31': 'Não frequentam', 'Unnamed: 32': 'Total', 'Unnamed: 33': 'Frequentam escolas', 'Unnamed: 34': 'Não frequentam', 'Unnamed: 35': 'Total'})\n",
    "instrucao2.head()"
   ]
  },
  {
   "cell_type": "markdown",
   "metadata": {},
   "source": [
    "### Adultos"
   ]
  },
  {
   "cell_type": "code",
   "execution_count": 466,
   "metadata": {},
   "outputs": [
    {
     "data": {
      "text/html": [
       "<div>\n",
       "<style scoped>\n",
       "    .dataframe tbody tr th:only-of-type {\n",
       "        vertical-align: middle;\n",
       "    }\n",
       "\n",
       "    .dataframe tbody tr th {\n",
       "        vertical-align: top;\n",
       "    }\n",
       "\n",
       "    .dataframe thead th {\n",
       "        text-align: right;\n",
       "    }\n",
       "</style>\n",
       "<table border=\"1\" class=\"dataframe\">\n",
       "  <thead>\n",
       "    <tr style=\"text-align: right;\">\n",
       "      <th></th>\n",
       "      <th>Recapitulação</th>\n",
       "      <th>Sabem ler e escrever</th>\n",
       "      <th>Analfabetos</th>\n",
       "      <th>Sabem ler e escrever</th>\n",
       "      <th>Analfabetas</th>\n",
       "    </tr>\n",
       "  </thead>\n",
       "  <tbody>\n",
       "    <tr>\n",
       "      <th>0</th>\n",
       "      <td>População livre</td>\n",
       "      <td>1012097</td>\n",
       "      <td>3306602</td>\n",
       "      <td>550981</td>\n",
       "      <td>3549992</td>\n",
       "    </tr>\n",
       "    <tr>\n",
       "      <th>1</th>\n",
       "      <td>População escrava</td>\n",
       "      <td>958</td>\n",
       "      <td>804212</td>\n",
       "      <td>445</td>\n",
       "      <td>705191</td>\n",
       "    </tr>\n",
       "    <tr>\n",
       "      <th>2</th>\n",
       "      <td>Total</td>\n",
       "      <td>1013055</td>\n",
       "      <td>4110814</td>\n",
       "      <td>551426</td>\n",
       "      <td>4255183</td>\n",
       "    </tr>\n",
       "  </tbody>\n",
       "</table>\n",
       "</div>"
      ],
      "text/plain": [
       "       Recapitulação  Sabem ler e escrever  Analfabetos  Sabem ler e escrever  \\\n",
       "0    População livre               1012097      3306602                550981   \n",
       "1  População escrava                   958       804212                   445   \n",
       "2              Total               1013055      4110814                551426   \n",
       "\n",
       "   Analfabetas  \n",
       "0      3549992  \n",
       "1       705191  \n",
       "2      4255183  "
      ]
     },
     "execution_count": 466,
     "metadata": {},
     "output_type": "execute_result"
    }
   ],
   "source": [
    "instrucao_adultos2 = df[['Recapitulação','Unnamed: 26', 'Unnamed: 27', 'Unnamed: 28', 'Unnamed: 29']]\n",
    "instrucao_adultos2 = instrucao_adultos2.rename(columns={'Unnamed: 26': 'Sabem ler e escrever', 'Unnamed: 27': 'Analfabetos', 'Unnamed: 28': 'Sabem ler e escrever', 'Unnamed: 29': 'Analfabetas'})\n",
    "instrucao_adultos2.head()"
   ]
  },
  {
   "cell_type": "markdown",
   "metadata": {},
   "source": [
    "### Jovens"
   ]
  },
  {
   "cell_type": "code",
   "execution_count": 467,
   "metadata": {},
   "outputs": [
    {
     "data": {
      "text/html": [
       "<div>\n",
       "<style scoped>\n",
       "    .dataframe tbody tr th:only-of-type {\n",
       "        vertical-align: middle;\n",
       "    }\n",
       "\n",
       "    .dataframe tbody tr th {\n",
       "        vertical-align: top;\n",
       "    }\n",
       "\n",
       "    .dataframe thead th {\n",
       "        text-align: right;\n",
       "    }\n",
       "</style>\n",
       "<table border=\"1\" class=\"dataframe\">\n",
       "  <thead>\n",
       "    <tr style=\"text-align: right;\">\n",
       "      <th></th>\n",
       "      <th>Recapitulação</th>\n",
       "      <th>Frequentam escolas</th>\n",
       "      <th>Não frequentam</th>\n",
       "      <th>Total</th>\n",
       "      <th>Frequentam escolas</th>\n",
       "      <th>Não frequentam</th>\n",
       "      <th>Total</th>\n",
       "    </tr>\n",
       "  </thead>\n",
       "  <tbody>\n",
       "    <tr>\n",
       "      <th>0</th>\n",
       "      <td>População livre</td>\n",
       "      <td>155651</td>\n",
       "      <td>786131</td>\n",
       "      <td>941782</td>\n",
       "      <td>165098</td>\n",
       "      <td>795574</td>\n",
       "      <td>960672</td>\n",
       "    </tr>\n",
       "    <tr>\n",
       "      <th>1</th>\n",
       "      <td>População escrava</td>\n",
       "      <td>155651</td>\n",
       "      <td>786131</td>\n",
       "      <td>941782</td>\n",
       "      <td>165098</td>\n",
       "      <td>795574</td>\n",
       "      <td>960672</td>\n",
       "    </tr>\n",
       "    <tr>\n",
       "      <th>2</th>\n",
       "      <td>Total</td>\n",
       "      <td>155651</td>\n",
       "      <td>786131</td>\n",
       "      <td>941782</td>\n",
       "      <td>165098</td>\n",
       "      <td>1332274</td>\n",
       "      <td>960672</td>\n",
       "    </tr>\n",
       "  </tbody>\n",
       "</table>\n",
       "</div>"
      ],
      "text/plain": [
       "       Recapitulação  Frequentam escolas  Não frequentam   Total  \\\n",
       "0    População livre              155651          786131  941782   \n",
       "1  População escrava              155651          786131  941782   \n",
       "2              Total              155651          786131  941782   \n",
       "\n",
       "   Frequentam escolas  Não frequentam   Total  \n",
       "0              165098          795574  960672  \n",
       "1              165098          795574  960672  \n",
       "2              165098         1332274  960672  "
      ]
     },
     "execution_count": 467,
     "metadata": {},
     "output_type": "execute_result"
    }
   ],
   "source": [
    "instrucao_jovens2 = df[['Recapitulação', 'Unnamed: 30', 'Unnamed: 31', 'Unnamed: 32', 'Unnamed: 33', 'Unnamed: 34', 'Unnamed: 35']]\n",
    "instrucao_jovens2 = instrucao_jovens2.rename(columns={'Unnamed: 30': 'Frequentam escolas', 'Unnamed: 31': 'Não frequentam', 'Unnamed: 32': 'Total', 'Unnamed: 33': 'Frequentam escolas', 'Unnamed: 34': 'Não frequentam', 'Unnamed: 35': 'Total'})\n",
    "instrucao_jovens2.head()"
   ]
  },
  {
   "cell_type": "markdown",
   "metadata": {},
   "source": [
    "## Casas"
   ]
  },
  {
   "cell_type": "code",
   "execution_count": 468,
   "metadata": {},
   "outputs": [
    {
     "data": {
      "text/html": [
       "<div>\n",
       "<style scoped>\n",
       "    .dataframe tbody tr th:only-of-type {\n",
       "        vertical-align: middle;\n",
       "    }\n",
       "\n",
       "    .dataframe tbody tr th {\n",
       "        vertical-align: top;\n",
       "    }\n",
       "\n",
       "    .dataframe thead th {\n",
       "        text-align: right;\n",
       "    }\n",
       "</style>\n",
       "<table border=\"1\" class=\"dataframe\">\n",
       "  <thead>\n",
       "    <tr style=\"text-align: right;\">\n",
       "      <th></th>\n",
       "      <th>Recapitulação</th>\n",
       "      <th>Habitadas</th>\n",
       "      <th>Desabitadas</th>\n",
       "      <th>Total</th>\n",
       "    </tr>\n",
       "  </thead>\n",
       "  <tbody>\n",
       "    <tr>\n",
       "      <th>0</th>\n",
       "      <td>População livre</td>\n",
       "      <td>1296060</td>\n",
       "      <td>34150</td>\n",
       "      <td>1330210</td>\n",
       "    </tr>\n",
       "    <tr>\n",
       "      <th>1</th>\n",
       "      <td>População escrava</td>\n",
       "      <td>1296060</td>\n",
       "      <td>34150</td>\n",
       "      <td>1330210</td>\n",
       "    </tr>\n",
       "    <tr>\n",
       "      <th>2</th>\n",
       "      <td>Total</td>\n",
       "      <td>1296060</td>\n",
       "      <td>34150</td>\n",
       "      <td>1330210</td>\n",
       "    </tr>\n",
       "  </tbody>\n",
       "</table>\n",
       "</div>"
      ],
      "text/plain": [
       "       Recapitulação  Habitadas  Desabitadas    Total\n",
       "0    População livre    1296060        34150  1330210\n",
       "1  População escrava    1296060        34150  1330210\n",
       "2              Total    1296060        34150  1330210"
      ]
     },
     "execution_count": 468,
     "metadata": {},
     "output_type": "execute_result"
    }
   ],
   "source": [
    "casas2 = df[['Recapitulação', 'Unnamed: 36', 'Unnamed: 37', 'Unnamed: 38']]\n",
    "casas2 = casas2.rename(columns={'Unnamed: 36': 'Habitadas', 'Unnamed: 37': 'Desabitadas', 'Unnamed: 38': 'Total'})\n",
    "casas2.head()"
   ]
  },
  {
   "cell_type": "markdown",
   "metadata": {},
   "source": [
    "## Fogos"
   ]
  },
  {
   "cell_type": "code",
   "execution_count": 469,
   "metadata": {},
   "outputs": [
    {
     "data": {
      "text/html": [
       "<div>\n",
       "<style scoped>\n",
       "    .dataframe tbody tr th:only-of-type {\n",
       "        vertical-align: middle;\n",
       "    }\n",
       "\n",
       "    .dataframe tbody tr th {\n",
       "        vertical-align: top;\n",
       "    }\n",
       "\n",
       "    .dataframe thead th {\n",
       "        text-align: right;\n",
       "    }\n",
       "</style>\n",
       "<table border=\"1\" class=\"dataframe\">\n",
       "  <thead>\n",
       "    <tr style=\"text-align: right;\">\n",
       "      <th></th>\n",
       "      <th></th>\n",
       "      <th>Fogos</th>\n",
       "    </tr>\n",
       "  </thead>\n",
       "  <tbody>\n",
       "    <tr>\n",
       "      <th>0</th>\n",
       "      <td>População livre</td>\n",
       "      <td>1332274</td>\n",
       "    </tr>\n",
       "    <tr>\n",
       "      <th>1</th>\n",
       "      <td>População escrava</td>\n",
       "      <td>1332274</td>\n",
       "    </tr>\n",
       "    <tr>\n",
       "      <th>2</th>\n",
       "      <td>Total</td>\n",
       "      <td>1332274</td>\n",
       "    </tr>\n",
       "  </tbody>\n",
       "</table>\n",
       "</div>"
      ],
      "text/plain": [
       "                        Fogos\n",
       "0    População livre  1332274\n",
       "1  População escrava  1332274\n",
       "2              Total  1332274"
      ]
     },
     "execution_count": 469,
     "metadata": {},
     "output_type": "execute_result"
    }
   ],
   "source": [
    "fogos2 = df[['Recapitulação', 'Unnamed: 39']]\n",
    "fogos2 = fogos2.rename(columns={'Recapitulação': '', 'Unnamed: 39': 'Fogos'})\n",
    "fogos2.head()"
   ]
  },
  {
   "cell_type": "code",
   "execution_count": 470,
   "metadata": {},
   "outputs": [
    {
     "data": {
      "text/plain": [
       "\"\\ndata = {\\n    ('A', 'X'): [1, 2, 3],\\n    ('A', 'Y'): [4, 5, 6],\\n    ('B', 'X'): [7, 8, 9],\\n    ('B', 'Y'): [10, 11, 12]\\n}\\n\\n# Create a DataFrame with multi-index columns\\ndf = pd.DataFrame(data)\\n\\n# Create multi-index header\\nheader = pd.MultiIndex.from_tuples([('A', 'Group1'), ('A', 'Group2'), ('B', 'Group1'), ('B', 'Group2')])\\n\\n# Assign the multi-index header to the DataFrame columns\\ndf.columns = header\\n\\nprint(df)\\n\""
      ]
     },
     "execution_count": 470,
     "metadata": {},
     "output_type": "execute_result"
    }
   ],
   "source": [
    "'''\n",
    "data = {\n",
    "    ('A', 'X'): [1, 2, 3],\n",
    "    ('A', 'Y'): [4, 5, 6],\n",
    "    ('B', 'X'): [7, 8, 9],\n",
    "    ('B', 'Y'): [10, 11, 12]\n",
    "}\n",
    "\n",
    "# Create a DataFrame with multi-index columns\n",
    "df = pd.DataFrame(data)\n",
    "\n",
    "# Create multi-index header\n",
    "header = pd.MultiIndex.from_tuples([('A', 'Group1'), ('A', 'Group2'), ('B', 'Group1'), ('B', 'Group2')])\n",
    "\n",
    "# Assign the multi-index header to the DataFrame columns\n",
    "df.columns = header\n",
    "\n",
    "print(df)\n",
    "'''"
   ]
  }
 ],
 "metadata": {
  "kernelspec": {
   "display_name": "venv",
   "language": "python",
   "name": "python3"
  },
  "language_info": {
   "codemirror_mode": {
    "name": "ipython",
    "version": 3
   },
   "file_extension": ".py",
   "mimetype": "text/x-python",
   "name": "python",
   "nbconvert_exporter": "python",
   "pygments_lexer": "ipython3",
   "version": "3.12.3"
  }
 },
 "nbformat": 4,
 "nbformat_minor": 2
}
